{
  "nbformat": 4,
  "nbformat_minor": 0,
  "metadata": {
    "colab": {
      "name": "21506_9주차 실습",
      "provenance": [],
      "authorship_tag": "ABX9TyMTgQ4HqK/KJuQoQbshmIV2",
      "include_colab_link": true
    },
    "kernelspec": {
      "name": "python3",
      "display_name": "Python 3"
    },
    "language_info": {
      "name": "python"
    }
  },
  "cells": [
    {
      "cell_type": "markdown",
      "metadata": {
        "id": "view-in-github",
        "colab_type": "text"
      },
      "source": [
        "<a href=\"https://colab.research.google.com/github/xmfrn/bmt_python/blob/main/21506_9%EC%A3%BC%EC%B0%A8_%EC%8B%A4%EC%8A%B5.ipynb\" target=\"_parent\"><img src=\"https://colab.research.google.com/assets/colab-badge.svg\" alt=\"Open In Colab\"/></a>"
      ]
    },
    {
      "cell_type": "code",
      "metadata": {
        "id": "wfjRPuDQB6Cd"
      },
      "source": [
        "fp = open('지역평균기온.txt')\n",
        "data = fp.read()\n",
        "fp.close()\n"
      ],
      "execution_count": 1,
      "outputs": []
    },
    {
      "cell_type": "code",
      "metadata": {
        "colab": {
          "base_uri": "https://localhost:8080/",
          "height": 35
        },
        "id": "fdcpt78RFA_l",
        "outputId": "e263bd64-a369-485f-f5ef-5498e4d920c0"
      },
      "source": [
        "data"
      ],
      "execution_count": 2,
      "outputs": [
        {
          "output_type": "execute_result",
          "data": {
            "application/vnd.google.colaboratory.intrinsic+json": {
              "type": "string"
            },
            "text/plain": [
              "'서울,20\\n부산,26\\n대구,24\\n인천,24\\n광주,25\\n대전,22\\n울산,26\\n세종,23\\n경기,24\\n강원,23\\n충북,26\\n충남,22\\n전북,24\\n전남,23\\n경북,28\\n경남,29\\n제주,26'"
            ]
          },
          "metadata": {
            "tags": []
          },
          "execution_count": 2
        }
      ]
    },
    {
      "cell_type": "code",
      "metadata": {
        "colab": {
          "base_uri": "https://localhost:8080/"
        },
        "id": "O9TV7kY1FCAk",
        "outputId": "5349efea-d5a2-4549-96d5-64d4cab1c92f"
      },
      "source": [
        "print(data)"
      ],
      "execution_count": 3,
      "outputs": [
        {
          "output_type": "stream",
          "text": [
            "서울,20\n",
            "부산,26\n",
            "대구,24\n",
            "인천,24\n",
            "광주,25\n",
            "대전,22\n",
            "울산,26\n",
            "세종,23\n",
            "경기,24\n",
            "강원,23\n",
            "충북,26\n",
            "충남,22\n",
            "전북,24\n",
            "전남,23\n",
            "경북,28\n",
            "경남,29\n",
            "제주,26\n"
          ],
          "name": "stdout"
        }
      ]
    },
    {
      "cell_type": "code",
      "metadata": {
        "colab": {
          "base_uri": "https://localhost:8080/"
        },
        "id": "B8eG9LHaFH4U",
        "outputId": "bfcfd471-86a9-499d-d380-9e00741307f1"
      },
      "source": [
        "fp = open('지역평균기온.txt')\n",
        "data = fp.readlines()\n",
        "fp.close()\n",
        "\n",
        "dt = {}\n",
        "for line in data:\n",
        "  line = line.replace('\\n','')\n",
        "  items = line.split(',')\n",
        "  dt[items[0]] = int(items[1])\n",
        "\n",
        "dt"
      ],
      "execution_count": 4,
      "outputs": [
        {
          "output_type": "execute_result",
          "data": {
            "text/plain": [
              "{'강원': 23,\n",
              " '경기': 24,\n",
              " '경남': 29,\n",
              " '경북': 28,\n",
              " '광주': 25,\n",
              " '대구': 24,\n",
              " '대전': 22,\n",
              " '부산': 26,\n",
              " '서울': 20,\n",
              " '세종': 23,\n",
              " '울산': 26,\n",
              " '인천': 24,\n",
              " '전남': 23,\n",
              " '전북': 24,\n",
              " '제주': 26,\n",
              " '충남': 22,\n",
              " '충북': 26}"
            ]
          },
          "metadata": {
            "tags": []
          },
          "execution_count": 4
        }
      ]
    },
    {
      "cell_type": "code",
      "metadata": {
        "colab": {
          "base_uri": "https://localhost:8080/"
        },
        "id": "e6LrM3iuFz18",
        "outputId": "1385b92f-eecf-46ab-bd39-986e747e4c96"
      },
      "source": [
        "!sudo apt-get install -y fonts-nanum\n",
        "!sudo fc-cache -fv\n",
        "!rm ~/.cache/matplotlib -rf"
      ],
      "execution_count": 5,
      "outputs": [
        {
          "output_type": "stream",
          "text": [
            "Reading package lists... Done\n",
            "Building dependency tree       \n",
            "Reading state information... Done\n",
            "fonts-nanum is already the newest version (20170925-1).\n",
            "The following package was automatically installed and is no longer required:\n",
            "  libnvidia-common-460\n",
            "Use 'sudo apt autoremove' to remove it.\n",
            "0 upgraded, 0 newly installed, 0 to remove and 34 not upgraded.\n",
            "/usr/share/fonts: caching, new cache contents: 0 fonts, 1 dirs\n",
            "/usr/share/fonts/truetype: caching, new cache contents: 0 fonts, 3 dirs\n",
            "/usr/share/fonts/truetype/humor-sans: caching, new cache contents: 1 fonts, 0 dirs\n",
            "/usr/share/fonts/truetype/liberation: caching, new cache contents: 16 fonts, 0 dirs\n",
            "/usr/share/fonts/truetype/nanum: caching, new cache contents: 10 fonts, 0 dirs\n",
            "/usr/local/share/fonts: caching, new cache contents: 0 fonts, 0 dirs\n",
            "/root/.local/share/fonts: skipping, no such directory\n",
            "/root/.fonts: skipping, no such directory\n",
            "/var/cache/fontconfig: cleaning cache directory\n",
            "/root/.cache/fontconfig: not cleaning non-existent cache directory\n",
            "/root/.fontconfig: not cleaning non-existent cache directory\n",
            "fc-cache: succeeded\n"
          ],
          "name": "stdout"
        }
      ]
    },
    {
      "cell_type": "code",
      "metadata": {
        "colab": {
          "base_uri": "https://localhost:8080/",
          "height": 399
        },
        "id": "_AlwIW7RHmVU",
        "outputId": "da3cc5e1-28cf-4456-b45d-d93d7d99af39"
      },
      "source": [
        "fp = open('지역평균기온.txt')\n",
        "data = fp.readlines()\n",
        "fp.close()\n",
        "\n",
        "dt = {}\n",
        "for line in data:\n",
        "  line = line.replace('\\n','')\n",
        "  items = line.split(',')\n",
        "  dt[items[0]] = int(items[1])\n",
        "\n",
        "area = list(dt.keys())\n",
        "temp = list(dt.values())\n",
        "print(area)\n",
        "print(temp)\n",
        "\n",
        "import matplotlib.pyplot as plt\n",
        "\n",
        "plt.rc('font', family='NanumBarunGothic')\n",
        "\n",
        "plt.style.use('ggplot')\n",
        "plt.figure(figsize=(10, 5))\n",
        "plt.plot(area, temp,'g--')\n",
        "plt.scatter(area, temp, color='red')\n",
        "plt.xticks(rotation=30)\n",
        "plt.title ('지역평균기온')\n",
        "plt.show()"
      ],
      "execution_count": 19,
      "outputs": [
        {
          "output_type": "stream",
          "text": [
            "['서울', '부산', '대구', '인천', '광주', '대전', '울산', '세종', '경기', '강원', '충북', '충남', '전북', '전남', '경북', '경남', '제주']\n",
            "[20, 26, 24, 24, 25, 22, 26, 23, 24, 23, 26, 22, 24, 23, 28, 29, 26]\n"
          ],
          "name": "stdout"
        },
        {
          "output_type": "display_data",
          "data": {
            "image/png": "[encoded data removed]",
            "text/plain": [
              "<Figure size 720x360 with 1 Axes>"
            ]
          },
          "metadata": {
            "tags": []
          }
        }
      ]
    },
    {
      "cell_type": "code",
      "metadata": {
        "id": "gA0YkwxaIVXE"
      },
      "source": [
        "import pandas as pd\n",
        "import numpy as np\n",
        "import matplotlib.pyplot as plt\n"
      ],
      "execution_count": 20,
      "outputs": []
    },
    {
      "cell_type": "code",
      "metadata": {
        "id": "SJ9F_fbBQxbf"
      },
      "source": [
        "s = pd.Series([1, 3, 5, np.nan, 6, 8])\n"
      ],
      "execution_count": 23,
      "outputs": []
    },
    {
      "cell_type": "code",
      "metadata": {
        "colab": {
          "base_uri": "https://localhost:8080/"
        },
        "id": "W5tVJsyxRaEV",
        "outputId": "43fe5a3c-7a66-4eb3-c93f-8e96b46c8fdc"
      },
      "source": [
        "s"
      ],
      "execution_count": 24,
      "outputs": [
        {
          "output_type": "execute_result",
          "data": {
            "text/plain": [
              "0    1.0\n",
              "1    3.0\n",
              "2    5.0\n",
              "3    NaN\n",
              "4    6.0\n",
              "5    8.0\n",
              "dtype: float64"
            ]
          },
          "metadata": {
            "tags": []
          },
          "execution_count": 24
        }
      ]
    },
    {
      "cell_type": "code",
      "metadata": {
        "colab": {
          "base_uri": "https://localhost:8080/"
        },
        "id": "IXt1axWERah1",
        "outputId": "1a57b97c-1623-43b2-e52c-f3bec07ac8ca"
      },
      "source": [
        "type(s)"
      ],
      "execution_count": 25,
      "outputs": [
        {
          "output_type": "execute_result",
          "data": {
            "text/plain": [
              "pandas.core.series.Series"
            ]
          },
          "metadata": {
            "tags": []
          },
          "execution_count": 25
        }
      ]
    },
    {
      "cell_type": "code",
      "metadata": {
        "id": "tGEzwlr2Rng8"
      },
      "source": [
        "dates = pd.date_range('20201113', periods=6)"
      ],
      "execution_count": 30,
      "outputs": []
    },
    {
      "cell_type": "code",
      "metadata": {
        "colab": {
          "base_uri": "https://localhost:8080/"
        },
        "id": "E645ROV7SBDd",
        "outputId": "45af45f4-1622-4fca-ed0e-a96fcde3d125"
      },
      "source": [
        "dates"
      ],
      "execution_count": 31,
      "outputs": [
        {
          "output_type": "execute_result",
          "data": {
            "text/plain": [
              "DatetimeIndex(['2020-11-13', '2020-11-14', '2020-11-15', '2020-11-16',\n",
              "               '2020-11-17', '2020-11-18'],\n",
              "              dtype='datetime64[ns]', freq='D')"
            ]
          },
          "metadata": {
            "tags": []
          },
          "execution_count": 31
        }
      ]
    },
    {
      "cell_type": "code",
      "metadata": {
        "id": "hl81LthTSBul"
      },
      "source": [
        "df = pd.DataFrame(np.random.randn(6,4), index=dates, columns=list('ABCD')) "
      ],
      "execution_count": 39,
      "outputs": []
    },
    {
      "cell_type": "code",
      "metadata": {
        "colab": {
          "base_uri": "https://localhost:8080/",
          "height": 235
        },
        "id": "xolRCyiaSmz1",
        "outputId": "e11c6757-4afb-4250-d26a-caffe03f99fb"
      },
      "source": [
        "df"
      ],
      "execution_count": 40,
      "outputs": [
        {
          "output_type": "execute_result",
          "data": {
            "text/html": [
              "<div>\n",
              "<style scoped>\n",
              "    .dataframe tbody tr th:only-of-type {\n",
              "        vertical-align: middle;\n",
              "    }\n",
              "\n",
              "    .dataframe tbody tr th {\n",
              "        vertical-align: top;\n",
              "    }\n",
              "\n",
              "    .dataframe thead th {\n",
              "        text-align: right;\n",
              "    }\n",
              "</style>\n",
              "<table border=\"1\" class=\"dataframe\">\n",
              "  <thead>\n",
              "    <tr style=\"text-align: right;\">\n",
              "      <th></th>\n",
              "      <th>A</th>\n",
              "      <th>B</th>\n",
              "      <th>C</th>\n",
              "      <th>D</th>\n",
              "    </tr>\n",
              "  </thead>\n",
              "  <tbody>\n",
              "    <tr>\n",
              "      <th>2020-11-13</th>\n",
              "      <td>0.515195</td>\n",
              "      <td>-0.992186</td>\n",
              "      <td>-0.208733</td>\n",
              "      <td>-0.904529</td>\n",
              "    </tr>\n",
              "    <tr>\n",
              "      <th>2020-11-14</th>\n",
              "      <td>-1.230947</td>\n",
              "      <td>-1.236344</td>\n",
              "      <td>-1.492351</td>\n",
              "      <td>0.540914</td>\n",
              "    </tr>\n",
              "    <tr>\n",
              "      <th>2020-11-15</th>\n",
              "      <td>0.810212</td>\n",
              "      <td>-0.439226</td>\n",
              "      <td>-1.953781</td>\n",
              "      <td>-1.638082</td>\n",
              "    </tr>\n",
              "    <tr>\n",
              "      <th>2020-11-16</th>\n",
              "      <td>2.526020</td>\n",
              "      <td>-1.148086</td>\n",
              "      <td>-0.208905</td>\n",
              "      <td>0.917204</td>\n",
              "    </tr>\n",
              "    <tr>\n",
              "      <th>2020-11-17</th>\n",
              "      <td>0.352258</td>\n",
              "      <td>-0.887659</td>\n",
              "      <td>0.715902</td>\n",
              "      <td>1.785990</td>\n",
              "    </tr>\n",
              "    <tr>\n",
              "      <th>2020-11-18</th>\n",
              "      <td>0.291664</td>\n",
              "      <td>0.113642</td>\n",
              "      <td>0.240403</td>\n",
              "      <td>-0.738586</td>\n",
              "    </tr>\n",
              "  </tbody>\n",
              "</table>\n",
              "</div>"
            ],
            "text/plain": [
              "                   A         B         C         D\n",
              "2020-11-13  0.515195 -0.992186 -0.208733 -0.904529\n",
              "2020-11-14 -1.230947 -1.236344 -1.492351  0.540914\n",
              "2020-11-15  0.810212 -0.439226 -1.953781 -1.638082\n",
              "2020-11-16  2.526020 -1.148086 -0.208905  0.917204\n",
              "2020-11-17  0.352258 -0.887659  0.715902  1.785990\n",
              "2020-11-18  0.291664  0.113642  0.240403 -0.738586"
            ]
          },
          "metadata": {
            "tags": []
          },
          "execution_count": 40
        }
      ]
    },
    {
      "cell_type": "code",
      "metadata": {
        "id": "w5RfW5dkTimG"
      },
      "source": [
        "df2 = pd.DataFrame(\n",
        "    {\n",
        "        'A':1.,\n",
        "        'B':pd.Timestamp('20210430'),\n",
        "        'C':pd.Series(1, index=list(range(4)), dtype='float32'),\n",
        "        'D': np.array([3] * 4, dtype='int32'),\n",
        "        'E': pd.Categorical([\"test\", \"train\", \"test\", \"train\"]),\n",
        "        'F': 'foo'\n",
        "    }\n",
        ")"
      ],
      "execution_count": 41,
      "outputs": []
    },
    {
      "cell_type": "code",
      "metadata": {
        "colab": {
          "base_uri": "https://localhost:8080/",
          "height": 173
        },
        "id": "rMmuUTboUaIt",
        "outputId": "61cba35d-2448-41eb-957a-ece79ef18f49"
      },
      "source": [
        "df2"
      ],
      "execution_count": 42,
      "outputs": [
        {
          "output_type": "execute_result",
          "data": {
            "text/html": [
              "<div>\n",
              "<style scoped>\n",
              "    .dataframe tbody tr th:only-of-type {\n",
              "        vertical-align: middle;\n",
              "    }\n",
              "\n",
              "    .dataframe tbody tr th {\n",
              "        vertical-align: top;\n",
              "    }\n",
              "\n",
              "    .dataframe thead th {\n",
              "        text-align: right;\n",
              "    }\n",
              "</style>\n",
              "<table border=\"1\" class=\"dataframe\">\n",
              "  <thead>\n",
              "    <tr style=\"text-align: right;\">\n",
              "      <th></th>\n",
              "      <th>A</th>\n",
              "      <th>B</th>\n",
              "      <th>C</th>\n",
              "      <th>D</th>\n",
              "      <th>E</th>\n",
              "      <th>F</th>\n",
              "    </tr>\n",
              "  </thead>\n",
              "  <tbody>\n",
              "    <tr>\n",
              "      <th>0</th>\n",
              "      <td>1.0</td>\n",
              "      <td>2021-04-30</td>\n",
              "      <td>1.0</td>\n",
              "      <td>3</td>\n",
              "      <td>test</td>\n",
              "      <td>foo</td>\n",
              "    </tr>\n",
              "    <tr>\n",
              "      <th>1</th>\n",
              "      <td>1.0</td>\n",
              "      <td>2021-04-30</td>\n",
              "      <td>1.0</td>\n",
              "      <td>3</td>\n",
              "      <td>train</td>\n",
              "      <td>foo</td>\n",
              "    </tr>\n",
              "    <tr>\n",
              "      <th>2</th>\n",
              "      <td>1.0</td>\n",
              "      <td>2021-04-30</td>\n",
              "      <td>1.0</td>\n",
              "      <td>3</td>\n",
              "      <td>test</td>\n",
              "      <td>foo</td>\n",
              "    </tr>\n",
              "    <tr>\n",
              "      <th>3</th>\n",
              "      <td>1.0</td>\n",
              "      <td>2021-04-30</td>\n",
              "      <td>1.0</td>\n",
              "      <td>3</td>\n",
              "      <td>train</td>\n",
              "      <td>foo</td>\n",
              "    </tr>\n",
              "  </tbody>\n",
              "</table>\n",
              "</div>"
            ],
            "text/plain": [
              "     A          B    C  D      E    F\n",
              "0  1.0 2021-04-30  1.0  3   test  foo\n",
              "1  1.0 2021-04-30  1.0  3  train  foo\n",
              "2  1.0 2021-04-30  1.0  3   test  foo\n",
              "3  1.0 2021-04-30  1.0  3  train  foo"
            ]
          },
          "metadata": {
            "tags": []
          },
          "execution_count": 42
        }
      ]
    },
    {
      "cell_type": "code",
      "metadata": {
        "colab": {
          "base_uri": "https://localhost:8080/"
        },
        "id": "3d8imeWVUuCl",
        "outputId": "b73119e0-4aae-433a-e936-de1a23471e6b"
      },
      "source": [
        "df2.dtypes"
      ],
      "execution_count": 43,
      "outputs": [
        {
          "output_type": "execute_result",
          "data": {
            "text/plain": [
              "A           float64\n",
              "B    datetime64[ns]\n",
              "C           float32\n",
              "D             int32\n",
              "E          category\n",
              "F            object\n",
              "dtype: object"
            ]
          },
          "metadata": {
            "tags": []
          },
          "execution_count": 43
        }
      ]
    },
    {
      "cell_type": "code",
      "metadata": {
        "id": "3Ef7KxQtU7F9"
      },
      "source": [
        "dates = pd.date_range('20210430', periods=6)"
      ],
      "execution_count": 44,
      "outputs": []
    },
    {
      "cell_type": "code",
      "metadata": {
        "id": "Z6Jf7SWxVkDk"
      },
      "source": [
        "df = pd.DataFrame(np.random.randn(6,4), index=dates, columns=['A','B','C','D',])"
      ],
      "execution_count": 45,
      "outputs": []
    },
    {
      "cell_type": "code",
      "metadata": {
        "colab": {
          "base_uri": "https://localhost:8080/",
          "height": 235
        },
        "id": "Tp7FSbDNWH2V",
        "outputId": "fefe0086-dca0-4834-dfb2-d0933c23a0da"
      },
      "source": [
        "df"
      ],
      "execution_count": 46,
      "outputs": [
        {
          "output_type": "execute_result",
          "data": {
            "text/html": [
              "<div>\n",
              "<style scoped>\n",
              "    .dataframe tbody tr th:only-of-type {\n",
              "        vertical-align: middle;\n",
              "    }\n",
              "\n",
              "    .dataframe tbody tr th {\n",
              "        vertical-align: top;\n",
              "    }\n",
              "\n",
              "    .dataframe thead th {\n",
              "        text-align: right;\n",
              "    }\n",
              "</style>\n",
              "<table border=\"1\" class=\"dataframe\">\n",
              "  <thead>\n",
              "    <tr style=\"text-align: right;\">\n",
              "      <th></th>\n",
              "      <th>A</th>\n",
              "      <th>B</th>\n",
              "      <th>C</th>\n",
              "      <th>D</th>\n",
              "    </tr>\n",
              "  </thead>\n",
              "  <tbody>\n",
              "    <tr>\n",
              "      <th>2021-04-30</th>\n",
              "      <td>1.872631</td>\n",
              "      <td>-0.819482</td>\n",
              "      <td>-0.438093</td>\n",
              "      <td>1.054015</td>\n",
              "    </tr>\n",
              "    <tr>\n",
              "      <th>2021-05-01</th>\n",
              "      <td>-0.127702</td>\n",
              "      <td>0.287104</td>\n",
              "      <td>-1.002110</td>\n",
              "      <td>0.356397</td>\n",
              "    </tr>\n",
              "    <tr>\n",
              "      <th>2021-05-02</th>\n",
              "      <td>0.190750</td>\n",
              "      <td>0.560221</td>\n",
              "      <td>2.369096</td>\n",
              "      <td>1.299331</td>\n",
              "    </tr>\n",
              "    <tr>\n",
              "      <th>2021-05-03</th>\n",
              "      <td>0.504107</td>\n",
              "      <td>0.862839</td>\n",
              "      <td>-0.157699</td>\n",
              "      <td>-0.437912</td>\n",
              "    </tr>\n",
              "    <tr>\n",
              "      <th>2021-05-04</th>\n",
              "      <td>0.514801</td>\n",
              "      <td>0.243153</td>\n",
              "      <td>-1.587622</td>\n",
              "      <td>0.875318</td>\n",
              "    </tr>\n",
              "    <tr>\n",
              "      <th>2021-05-05</th>\n",
              "      <td>1.498844</td>\n",
              "      <td>-0.695117</td>\n",
              "      <td>-0.109969</td>\n",
              "      <td>-0.564905</td>\n",
              "    </tr>\n",
              "  </tbody>\n",
              "</table>\n",
              "</div>"
            ],
            "text/plain": [
              "                   A         B         C         D\n",
              "2021-04-30  1.872631 -0.819482 -0.438093  1.054015\n",
              "2021-05-01 -0.127702  0.287104 -1.002110  0.356397\n",
              "2021-05-02  0.190750  0.560221  2.369096  1.299331\n",
              "2021-05-03  0.504107  0.862839 -0.157699 -0.437912\n",
              "2021-05-04  0.514801  0.243153 -1.587622  0.875318\n",
              "2021-05-05  1.498844 -0.695117 -0.109969 -0.564905"
            ]
          },
          "metadata": {
            "tags": []
          },
          "execution_count": 46
        }
      ]
    },
    {
      "cell_type": "code",
      "metadata": {
        "colab": {
          "base_uri": "https://localhost:8080/",
          "height": 80
        },
        "id": "e-iEfHI5WImV",
        "outputId": "1d84882a-52ff-437d-b975-488cdb3040bc"
      },
      "source": [
        "df.head(1)"
      ],
      "execution_count": 49,
      "outputs": [
        {
          "output_type": "execute_result",
          "data": {
            "text/html": [
              "<div>\n",
              "<style scoped>\n",
              "    .dataframe tbody tr th:only-of-type {\n",
              "        vertical-align: middle;\n",
              "    }\n",
              "\n",
              "    .dataframe tbody tr th {\n",
              "        vertical-align: top;\n",
              "    }\n",
              "\n",
              "    .dataframe thead th {\n",
              "        text-align: right;\n",
              "    }\n",
              "</style>\n",
              "<table border=\"1\" class=\"dataframe\">\n",
              "  <thead>\n",
              "    <tr style=\"text-align: right;\">\n",
              "      <th></th>\n",
              "      <th>A</th>\n",
              "      <th>B</th>\n",
              "      <th>C</th>\n",
              "      <th>D</th>\n",
              "    </tr>\n",
              "  </thead>\n",
              "  <tbody>\n",
              "    <tr>\n",
              "      <th>2021-04-30</th>\n",
              "      <td>1.872631</td>\n",
              "      <td>-0.819482</td>\n",
              "      <td>-0.438093</td>\n",
              "      <td>1.054015</td>\n",
              "    </tr>\n",
              "  </tbody>\n",
              "</table>\n",
              "</div>"
            ],
            "text/plain": [
              "                   A         B         C         D\n",
              "2021-04-30  1.872631 -0.819482 -0.438093  1.054015"
            ]
          },
          "metadata": {
            "tags": []
          },
          "execution_count": 49
        }
      ]
    },
    {
      "cell_type": "code",
      "metadata": {
        "colab": {
          "base_uri": "https://localhost:8080/",
          "height": 142
        },
        "id": "Gabmuf_yWLB9",
        "outputId": "0ab110f1-a584-491d-cf14-3c2802d48022"
      },
      "source": [
        "df.tail(3)"
      ],
      "execution_count": 50,
      "outputs": [
        {
          "output_type": "execute_result",
          "data": {
            "text/html": [
              "<div>\n",
              "<style scoped>\n",
              "    .dataframe tbody tr th:only-of-type {\n",
              "        vertical-align: middle;\n",
              "    }\n",
              "\n",
              "    .dataframe tbody tr th {\n",
              "        vertical-align: top;\n",
              "    }\n",
              "\n",
              "    .dataframe thead th {\n",
              "        text-align: right;\n",
              "    }\n",
              "</style>\n",
              "<table border=\"1\" class=\"dataframe\">\n",
              "  <thead>\n",
              "    <tr style=\"text-align: right;\">\n",
              "      <th></th>\n",
              "      <th>A</th>\n",
              "      <th>B</th>\n",
              "      <th>C</th>\n",
              "      <th>D</th>\n",
              "    </tr>\n",
              "  </thead>\n",
              "  <tbody>\n",
              "    <tr>\n",
              "      <th>2021-05-03</th>\n",
              "      <td>0.504107</td>\n",
              "      <td>0.862839</td>\n",
              "      <td>-0.157699</td>\n",
              "      <td>-0.437912</td>\n",
              "    </tr>\n",
              "    <tr>\n",
              "      <th>2021-05-04</th>\n",
              "      <td>0.514801</td>\n",
              "      <td>0.243153</td>\n",
              "      <td>-1.587622</td>\n",
              "      <td>0.875318</td>\n",
              "    </tr>\n",
              "    <tr>\n",
              "      <th>2021-05-05</th>\n",
              "      <td>1.498844</td>\n",
              "      <td>-0.695117</td>\n",
              "      <td>-0.109969</td>\n",
              "      <td>-0.564905</td>\n",
              "    </tr>\n",
              "  </tbody>\n",
              "</table>\n",
              "</div>"
            ],
            "text/plain": [
              "                   A         B         C         D\n",
              "2021-05-03  0.504107  0.862839 -0.157699 -0.437912\n",
              "2021-05-04  0.514801  0.243153 -1.587622  0.875318\n",
              "2021-05-05  1.498844 -0.695117 -0.109969 -0.564905"
            ]
          },
          "metadata": {
            "tags": []
          },
          "execution_count": 50
        }
      ]
    },
    {
      "cell_type": "code",
      "metadata": {
        "colab": {
          "base_uri": "https://localhost:8080/"
        },
        "id": "OqbNVbQwWT1M",
        "outputId": "546b3d6a-88cd-4d4a-b091-e6ac160e212e"
      },
      "source": [
        "dates"
      ],
      "execution_count": 51,
      "outputs": [
        {
          "output_type": "execute_result",
          "data": {
            "text/plain": [
              "DatetimeIndex(['2021-04-30', '2021-05-01', '2021-05-02', '2021-05-03',\n",
              "               '2021-05-04', '2021-05-05'],\n",
              "              dtype='datetime64[ns]', freq='D')"
            ]
          },
          "metadata": {
            "tags": []
          },
          "execution_count": 51
        }
      ]
    },
    {
      "cell_type": "code",
      "metadata": {
        "colab": {
          "base_uri": "https://localhost:8080/",
          "height": 235
        },
        "id": "QQaNuaGzWrSc",
        "outputId": "c0426de6-1fba-4db3-ce69-98a655a35da6"
      },
      "source": [
        "df"
      ],
      "execution_count": 52,
      "outputs": [
        {
          "output_type": "execute_result",
          "data": {
            "text/html": [
              "<div>\n",
              "<style scoped>\n",
              "    .dataframe tbody tr th:only-of-type {\n",
              "        vertical-align: middle;\n",
              "    }\n",
              "\n",
              "    .dataframe tbody tr th {\n",
              "        vertical-align: top;\n",
              "    }\n",
              "\n",
              "    .dataframe thead th {\n",
              "        text-align: right;\n",
              "    }\n",
              "</style>\n",
              "<table border=\"1\" class=\"dataframe\">\n",
              "  <thead>\n",
              "    <tr style=\"text-align: right;\">\n",
              "      <th></th>\n",
              "      <th>A</th>\n",
              "      <th>B</th>\n",
              "      <th>C</th>\n",
              "      <th>D</th>\n",
              "    </tr>\n",
              "  </thead>\n",
              "  <tbody>\n",
              "    <tr>\n",
              "      <th>2021-04-30</th>\n",
              "      <td>1.872631</td>\n",
              "      <td>-0.819482</td>\n",
              "      <td>-0.438093</td>\n",
              "      <td>1.054015</td>\n",
              "    </tr>\n",
              "    <tr>\n",
              "      <th>2021-05-01</th>\n",
              "      <td>-0.127702</td>\n",
              "      <td>0.287104</td>\n",
              "      <td>-1.002110</td>\n",
              "      <td>0.356397</td>\n",
              "    </tr>\n",
              "    <tr>\n",
              "      <th>2021-05-02</th>\n",
              "      <td>0.190750</td>\n",
              "      <td>0.560221</td>\n",
              "      <td>2.369096</td>\n",
              "      <td>1.299331</td>\n",
              "    </tr>\n",
              "    <tr>\n",
              "      <th>2021-05-03</th>\n",
              "      <td>0.504107</td>\n",
              "      <td>0.862839</td>\n",
              "      <td>-0.157699</td>\n",
              "      <td>-0.437912</td>\n",
              "    </tr>\n",
              "    <tr>\n",
              "      <th>2021-05-04</th>\n",
              "      <td>0.514801</td>\n",
              "      <td>0.243153</td>\n",
              "      <td>-1.587622</td>\n",
              "      <td>0.875318</td>\n",
              "    </tr>\n",
              "    <tr>\n",
              "      <th>2021-05-05</th>\n",
              "      <td>1.498844</td>\n",
              "      <td>-0.695117</td>\n",
              "      <td>-0.109969</td>\n",
              "      <td>-0.564905</td>\n",
              "    </tr>\n",
              "  </tbody>\n",
              "</table>\n",
              "</div>"
            ],
            "text/plain": [
              "                   A         B         C         D\n",
              "2021-04-30  1.872631 -0.819482 -0.438093  1.054015\n",
              "2021-05-01 -0.127702  0.287104 -1.002110  0.356397\n",
              "2021-05-02  0.190750  0.560221  2.369096  1.299331\n",
              "2021-05-03  0.504107  0.862839 -0.157699 -0.437912\n",
              "2021-05-04  0.514801  0.243153 -1.587622  0.875318\n",
              "2021-05-05  1.498844 -0.695117 -0.109969 -0.564905"
            ]
          },
          "metadata": {
            "tags": []
          },
          "execution_count": 52
        }
      ]
    },
    {
      "cell_type": "code",
      "metadata": {
        "colab": {
          "base_uri": "https://localhost:8080/"
        },
        "id": "0RX32at9Wr4t",
        "outputId": "d7181e3d-11ff-4a12-c566-df67e9ffabd5"
      },
      "source": [
        "df.index"
      ],
      "execution_count": 53,
      "outputs": [
        {
          "output_type": "execute_result",
          "data": {
            "text/plain": [
              "DatetimeIndex(['2021-04-30', '2021-05-01', '2021-05-02', '2021-05-03',\n",
              "               '2021-05-04', '2021-05-05'],\n",
              "              dtype='datetime64[ns]', freq='D')"
            ]
          },
          "metadata": {
            "tags": []
          },
          "execution_count": 53
        }
      ]
    },
    {
      "cell_type": "code",
      "metadata": {
        "colab": {
          "base_uri": "https://localhost:8080/"
        },
        "id": "Ors7DO_sW0ck",
        "outputId": "30989ecd-d927-4be7-a814-584521ebc61c"
      },
      "source": [
        "df.columns"
      ],
      "execution_count": 54,
      "outputs": [
        {
          "output_type": "execute_result",
          "data": {
            "text/plain": [
              "Index(['A', 'B', 'C', 'D'], dtype='object')"
            ]
          },
          "metadata": {
            "tags": []
          },
          "execution_count": 54
        }
      ]
    },
    {
      "cell_type": "code",
      "metadata": {
        "colab": {
          "base_uri": "https://localhost:8080/"
        },
        "id": "kfrAtjnmXHOm",
        "outputId": "4373454c-9cf2-4233-84d8-b5e83e9549d2"
      },
      "source": [
        "df.values"
      ],
      "execution_count": 55,
      "outputs": [
        {
          "output_type": "execute_result",
          "data": {
            "text/plain": [
              "array([[ 1.87263078, -0.81948192, -0.43809303,  1.05401531],\n",
              "       [-0.1277016 ,  0.2871043 , -1.00210971,  0.35639735],\n",
              "       [ 0.1907497 ,  0.56022088,  2.36909624,  1.29933062],\n",
              "       [ 0.5041066 ,  0.86283893, -0.15769948, -0.43791165],\n",
              "       [ 0.51480089,  0.24315327, -1.58762187,  0.87531782],\n",
              "       [ 1.49884353, -0.69511671, -0.10996879, -0.56490452]])"
            ]
          },
          "metadata": {
            "tags": []
          },
          "execution_count": 55
        }
      ]
    },
    {
      "cell_type": "code",
      "metadata": {
        "colab": {
          "base_uri": "https://localhost:8080/",
          "height": 297
        },
        "id": "ChK2diIGXMnF",
        "outputId": "67987487-5cb3-4633-914b-c27d18307b6e"
      },
      "source": [
        "df.describe()"
      ],
      "execution_count": 56,
      "outputs": [
        {
          "output_type": "execute_result",
          "data": {
            "text/html": [
              "<div>\n",
              "<style scoped>\n",
              "    .dataframe tbody tr th:only-of-type {\n",
              "        vertical-align: middle;\n",
              "    }\n",
              "\n",
              "    .dataframe tbody tr th {\n",
              "        vertical-align: top;\n",
              "    }\n",
              "\n",
              "    .dataframe thead th {\n",
              "        text-align: right;\n",
              "    }\n",
              "</style>\n",
              "<table border=\"1\" class=\"dataframe\">\n",
              "  <thead>\n",
              "    <tr style=\"text-align: right;\">\n",
              "      <th></th>\n",
              "      <th>A</th>\n",
              "      <th>B</th>\n",
              "      <th>C</th>\n",
              "      <th>D</th>\n",
              "    </tr>\n",
              "  </thead>\n",
              "  <tbody>\n",
              "    <tr>\n",
              "      <th>count</th>\n",
              "      <td>6.000000</td>\n",
              "      <td>6.000000</td>\n",
              "      <td>6.000000</td>\n",
              "      <td>6.000000</td>\n",
              "    </tr>\n",
              "    <tr>\n",
              "      <th>mean</th>\n",
              "      <td>0.742238</td>\n",
              "      <td>0.073120</td>\n",
              "      <td>-0.154399</td>\n",
              "      <td>0.430374</td>\n",
              "    </tr>\n",
              "    <tr>\n",
              "      <th>std</th>\n",
              "      <td>0.777124</td>\n",
              "      <td>0.681550</td>\n",
              "      <td>1.358178</td>\n",
              "      <td>0.786379</td>\n",
              "    </tr>\n",
              "    <tr>\n",
              "      <th>min</th>\n",
              "      <td>-0.127702</td>\n",
              "      <td>-0.819482</td>\n",
              "      <td>-1.587622</td>\n",
              "      <td>-0.564905</td>\n",
              "    </tr>\n",
              "    <tr>\n",
              "      <th>25%</th>\n",
              "      <td>0.269089</td>\n",
              "      <td>-0.460549</td>\n",
              "      <td>-0.861106</td>\n",
              "      <td>-0.239334</td>\n",
              "    </tr>\n",
              "    <tr>\n",
              "      <th>50%</th>\n",
              "      <td>0.509454</td>\n",
              "      <td>0.265129</td>\n",
              "      <td>-0.297896</td>\n",
              "      <td>0.615858</td>\n",
              "    </tr>\n",
              "    <tr>\n",
              "      <th>75%</th>\n",
              "      <td>1.252833</td>\n",
              "      <td>0.491942</td>\n",
              "      <td>-0.121901</td>\n",
              "      <td>1.009341</td>\n",
              "    </tr>\n",
              "    <tr>\n",
              "      <th>max</th>\n",
              "      <td>1.872631</td>\n",
              "      <td>0.862839</td>\n",
              "      <td>2.369096</td>\n",
              "      <td>1.299331</td>\n",
              "    </tr>\n",
              "  </tbody>\n",
              "</table>\n",
              "</div>"
            ],
            "text/plain": [
              "              A         B         C         D\n",
              "count  6.000000  6.000000  6.000000  6.000000\n",
              "mean   0.742238  0.073120 -0.154399  0.430374\n",
              "std    0.777124  0.681550  1.358178  0.786379\n",
              "min   -0.127702 -0.819482 -1.587622 -0.564905\n",
              "25%    0.269089 -0.460549 -0.861106 -0.239334\n",
              "50%    0.509454  0.265129 -0.297896  0.615858\n",
              "75%    1.252833  0.491942 -0.121901  1.009341\n",
              "max    1.872631  0.862839  2.369096  1.299331"
            ]
          },
          "metadata": {
            "tags": []
          },
          "execution_count": 56
        }
      ]
    },
    {
      "cell_type": "code",
      "metadata": {
        "colab": {
          "base_uri": "https://localhost:8080/",
          "height": 235
        },
        "id": "rJgLexrvXURf",
        "outputId": "6f071f9b-8013-4495-8700-06b81317b3a8"
      },
      "source": [
        "df"
      ],
      "execution_count": 57,
      "outputs": [
        {
          "output_type": "execute_result",
          "data": {
            "text/html": [
              "<div>\n",
              "<style scoped>\n",
              "    .dataframe tbody tr th:only-of-type {\n",
              "        vertical-align: middle;\n",
              "    }\n",
              "\n",
              "    .dataframe tbody tr th {\n",
              "        vertical-align: top;\n",
              "    }\n",
              "\n",
              "    .dataframe thead th {\n",
              "        text-align: right;\n",
              "    }\n",
              "</style>\n",
              "<table border=\"1\" class=\"dataframe\">\n",
              "  <thead>\n",
              "    <tr style=\"text-align: right;\">\n",
              "      <th></th>\n",
              "      <th>A</th>\n",
              "      <th>B</th>\n",
              "      <th>C</th>\n",
              "      <th>D</th>\n",
              "    </tr>\n",
              "  </thead>\n",
              "  <tbody>\n",
              "    <tr>\n",
              "      <th>2021-04-30</th>\n",
              "      <td>1.872631</td>\n",
              "      <td>-0.819482</td>\n",
              "      <td>-0.438093</td>\n",
              "      <td>1.054015</td>\n",
              "    </tr>\n",
              "    <tr>\n",
              "      <th>2021-05-01</th>\n",
              "      <td>-0.127702</td>\n",
              "      <td>0.287104</td>\n",
              "      <td>-1.002110</td>\n",
              "      <td>0.356397</td>\n",
              "    </tr>\n",
              "    <tr>\n",
              "      <th>2021-05-02</th>\n",
              "      <td>0.190750</td>\n",
              "      <td>0.560221</td>\n",
              "      <td>2.369096</td>\n",
              "      <td>1.299331</td>\n",
              "    </tr>\n",
              "    <tr>\n",
              "      <th>2021-05-03</th>\n",
              "      <td>0.504107</td>\n",
              "      <td>0.862839</td>\n",
              "      <td>-0.157699</td>\n",
              "      <td>-0.437912</td>\n",
              "    </tr>\n",
              "    <tr>\n",
              "      <th>2021-05-04</th>\n",
              "      <td>0.514801</td>\n",
              "      <td>0.243153</td>\n",
              "      <td>-1.587622</td>\n",
              "      <td>0.875318</td>\n",
              "    </tr>\n",
              "    <tr>\n",
              "      <th>2021-05-05</th>\n",
              "      <td>1.498844</td>\n",
              "      <td>-0.695117</td>\n",
              "      <td>-0.109969</td>\n",
              "      <td>-0.564905</td>\n",
              "    </tr>\n",
              "  </tbody>\n",
              "</table>\n",
              "</div>"
            ],
            "text/plain": [
              "                   A         B         C         D\n",
              "2021-04-30  1.872631 -0.819482 -0.438093  1.054015\n",
              "2021-05-01 -0.127702  0.287104 -1.002110  0.356397\n",
              "2021-05-02  0.190750  0.560221  2.369096  1.299331\n",
              "2021-05-03  0.504107  0.862839 -0.157699 -0.437912\n",
              "2021-05-04  0.514801  0.243153 -1.587622  0.875318\n",
              "2021-05-05  1.498844 -0.695117 -0.109969 -0.564905"
            ]
          },
          "metadata": {
            "tags": []
          },
          "execution_count": 57
        }
      ]
    },
    {
      "cell_type": "code",
      "metadata": {
        "colab": {
          "base_uri": "https://localhost:8080/",
          "height": 173
        },
        "id": "a_XMPM5jX1Gd",
        "outputId": "1eb6e976-1e5d-46c5-e2ff-b33419bbce90"
      },
      "source": [
        "df.T"
      ],
      "execution_count": 58,
      "outputs": [
        {
          "output_type": "execute_result",
          "data": {
            "text/html": [
              "<div>\n",
              "<style scoped>\n",
              "    .dataframe tbody tr th:only-of-type {\n",
              "        vertical-align: middle;\n",
              "    }\n",
              "\n",
              "    .dataframe tbody tr th {\n",
              "        vertical-align: top;\n",
              "    }\n",
              "\n",
              "    .dataframe thead th {\n",
              "        text-align: right;\n",
              "    }\n",
              "</style>\n",
              "<table border=\"1\" class=\"dataframe\">\n",
              "  <thead>\n",
              "    <tr style=\"text-align: right;\">\n",
              "      <th></th>\n",
              "      <th>2021-04-30</th>\n",
              "      <th>2021-05-01</th>\n",
              "      <th>2021-05-02</th>\n",
              "      <th>2021-05-03</th>\n",
              "      <th>2021-05-04</th>\n",
              "      <th>2021-05-05</th>\n",
              "    </tr>\n",
              "  </thead>\n",
              "  <tbody>\n",
              "    <tr>\n",
              "      <th>A</th>\n",
              "      <td>1.872631</td>\n",
              "      <td>-0.127702</td>\n",
              "      <td>0.190750</td>\n",
              "      <td>0.504107</td>\n",
              "      <td>0.514801</td>\n",
              "      <td>1.498844</td>\n",
              "    </tr>\n",
              "    <tr>\n",
              "      <th>B</th>\n",
              "      <td>-0.819482</td>\n",
              "      <td>0.287104</td>\n",
              "      <td>0.560221</td>\n",
              "      <td>0.862839</td>\n",
              "      <td>0.243153</td>\n",
              "      <td>-0.695117</td>\n",
              "    </tr>\n",
              "    <tr>\n",
              "      <th>C</th>\n",
              "      <td>-0.438093</td>\n",
              "      <td>-1.002110</td>\n",
              "      <td>2.369096</td>\n",
              "      <td>-0.157699</td>\n",
              "      <td>-1.587622</td>\n",
              "      <td>-0.109969</td>\n",
              "    </tr>\n",
              "    <tr>\n",
              "      <th>D</th>\n",
              "      <td>1.054015</td>\n",
              "      <td>0.356397</td>\n",
              "      <td>1.299331</td>\n",
              "      <td>-0.437912</td>\n",
              "      <td>0.875318</td>\n",
              "      <td>-0.564905</td>\n",
              "    </tr>\n",
              "  </tbody>\n",
              "</table>\n",
              "</div>"
            ],
            "text/plain": [
              "   2021-04-30  2021-05-01  2021-05-02  2021-05-03  2021-05-04  2021-05-05\n",
              "A    1.872631   -0.127702    0.190750    0.504107    0.514801    1.498844\n",
              "B   -0.819482    0.287104    0.560221    0.862839    0.243153   -0.695117\n",
              "C   -0.438093   -1.002110    2.369096   -0.157699   -1.587622   -0.109969\n",
              "D    1.054015    0.356397    1.299331   -0.437912    0.875318   -0.564905"
            ]
          },
          "metadata": {
            "tags": []
          },
          "execution_count": 58
        }
      ]
    },
    {
      "cell_type": "code",
      "metadata": {
        "colab": {
          "base_uri": "https://localhost:8080/",
          "height": 235
        },
        "id": "9wNrGNV-X3OF",
        "outputId": "57b73e00-3dcf-44a0-e7ac-8b1c6cefa213"
      },
      "source": [
        "df.sort_index(axis=1,ascending=False)"
      ],
      "execution_count": 61,
      "outputs": [
        {
          "output_type": "execute_result",
          "data": {
            "text/html": [
              "<div>\n",
              "<style scoped>\n",
              "    .dataframe tbody tr th:only-of-type {\n",
              "        vertical-align: middle;\n",
              "    }\n",
              "\n",
              "    .dataframe tbody tr th {\n",
              "        vertical-align: top;\n",
              "    }\n",
              "\n",
              "    .dataframe thead th {\n",
              "        text-align: right;\n",
              "    }\n",
              "</style>\n",
              "<table border=\"1\" class=\"dataframe\">\n",
              "  <thead>\n",
              "    <tr style=\"text-align: right;\">\n",
              "      <th></th>\n",
              "      <th>D</th>\n",
              "      <th>C</th>\n",
              "      <th>B</th>\n",
              "      <th>A</th>\n",
              "    </tr>\n",
              "  </thead>\n",
              "  <tbody>\n",
              "    <tr>\n",
              "      <th>2021-04-30</th>\n",
              "      <td>1.054015</td>\n",
              "      <td>-0.438093</td>\n",
              "      <td>-0.819482</td>\n",
              "      <td>1.872631</td>\n",
              "    </tr>\n",
              "    <tr>\n",
              "      <th>2021-05-01</th>\n",
              "      <td>0.356397</td>\n",
              "      <td>-1.002110</td>\n",
              "      <td>0.287104</td>\n",
              "      <td>-0.127702</td>\n",
              "    </tr>\n",
              "    <tr>\n",
              "      <th>2021-05-02</th>\n",
              "      <td>1.299331</td>\n",
              "      <td>2.369096</td>\n",
              "      <td>0.560221</td>\n",
              "      <td>0.190750</td>\n",
              "    </tr>\n",
              "    <tr>\n",
              "      <th>2021-05-03</th>\n",
              "      <td>-0.437912</td>\n",
              "      <td>-0.157699</td>\n",
              "      <td>0.862839</td>\n",
              "      <td>0.504107</td>\n",
              "    </tr>\n",
              "    <tr>\n",
              "      <th>2021-05-04</th>\n",
              "      <td>0.875318</td>\n",
              "      <td>-1.587622</td>\n",
              "      <td>0.243153</td>\n",
              "      <td>0.514801</td>\n",
              "    </tr>\n",
              "    <tr>\n",
              "      <th>2021-05-05</th>\n",
              "      <td>-0.564905</td>\n",
              "      <td>-0.109969</td>\n",
              "      <td>-0.695117</td>\n",
              "      <td>1.498844</td>\n",
              "    </tr>\n",
              "  </tbody>\n",
              "</table>\n",
              "</div>"
            ],
            "text/plain": [
              "                   D         C         B         A\n",
              "2021-04-30  1.054015 -0.438093 -0.819482  1.872631\n",
              "2021-05-01  0.356397 -1.002110  0.287104 -0.127702\n",
              "2021-05-02  1.299331  2.369096  0.560221  0.190750\n",
              "2021-05-03 -0.437912 -0.157699  0.862839  0.504107\n",
              "2021-05-04  0.875318 -1.587622  0.243153  0.514801\n",
              "2021-05-05 -0.564905 -0.109969 -0.695117  1.498844"
            ]
          },
          "metadata": {
            "tags": []
          },
          "execution_count": 61
        }
      ]
    },
    {
      "cell_type": "code",
      "metadata": {
        "colab": {
          "base_uri": "https://localhost:8080/",
          "height": 235
        },
        "id": "WC2z2zupYXTs",
        "outputId": "01293999-1251-4a76-ad21-1633ad09ac11"
      },
      "source": [
        "df.sort_index(axis=1, ascending=True)"
      ],
      "execution_count": 62,
      "outputs": [
        {
          "output_type": "execute_result",
          "data": {
            "text/html": [
              "<div>\n",
              "<style scoped>\n",
              "    .dataframe tbody tr th:only-of-type {\n",
              "        vertical-align: middle;\n",
              "    }\n",
              "\n",
              "    .dataframe tbody tr th {\n",
              "        vertical-align: top;\n",
              "    }\n",
              "\n",
              "    .dataframe thead th {\n",
              "        text-align: right;\n",
              "    }\n",
              "</style>\n",
              "<table border=\"1\" class=\"dataframe\">\n",
              "  <thead>\n",
              "    <tr style=\"text-align: right;\">\n",
              "      <th></th>\n",
              "      <th>A</th>\n",
              "      <th>B</th>\n",
              "      <th>C</th>\n",
              "      <th>D</th>\n",
              "    </tr>\n",
              "  </thead>\n",
              "  <tbody>\n",
              "    <tr>\n",
              "      <th>2021-04-30</th>\n",
              "      <td>1.872631</td>\n",
              "      <td>-0.819482</td>\n",
              "      <td>-0.438093</td>\n",
              "      <td>1.054015</td>\n",
              "    </tr>\n",
              "    <tr>\n",
              "      <th>2021-05-01</th>\n",
              "      <td>-0.127702</td>\n",
              "      <td>0.287104</td>\n",
              "      <td>-1.002110</td>\n",
              "      <td>0.356397</td>\n",
              "    </tr>\n",
              "    <tr>\n",
              "      <th>2021-05-02</th>\n",
              "      <td>0.190750</td>\n",
              "      <td>0.560221</td>\n",
              "      <td>2.369096</td>\n",
              "      <td>1.299331</td>\n",
              "    </tr>\n",
              "    <tr>\n",
              "      <th>2021-05-03</th>\n",
              "      <td>0.504107</td>\n",
              "      <td>0.862839</td>\n",
              "      <td>-0.157699</td>\n",
              "      <td>-0.437912</td>\n",
              "    </tr>\n",
              "    <tr>\n",
              "      <th>2021-05-04</th>\n",
              "      <td>0.514801</td>\n",
              "      <td>0.243153</td>\n",
              "      <td>-1.587622</td>\n",
              "      <td>0.875318</td>\n",
              "    </tr>\n",
              "    <tr>\n",
              "      <th>2021-05-05</th>\n",
              "      <td>1.498844</td>\n",
              "      <td>-0.695117</td>\n",
              "      <td>-0.109969</td>\n",
              "      <td>-0.564905</td>\n",
              "    </tr>\n",
              "  </tbody>\n",
              "</table>\n",
              "</div>"
            ],
            "text/plain": [
              "                   A         B         C         D\n",
              "2021-04-30  1.872631 -0.819482 -0.438093  1.054015\n",
              "2021-05-01 -0.127702  0.287104 -1.002110  0.356397\n",
              "2021-05-02  0.190750  0.560221  2.369096  1.299331\n",
              "2021-05-03  0.504107  0.862839 -0.157699 -0.437912\n",
              "2021-05-04  0.514801  0.243153 -1.587622  0.875318\n",
              "2021-05-05  1.498844 -0.695117 -0.109969 -0.564905"
            ]
          },
          "metadata": {
            "tags": []
          },
          "execution_count": 62
        }
      ]
    },
    {
      "cell_type": "code",
      "metadata": {
        "colab": {
          "base_uri": "https://localhost:8080/",
          "height": 235
        },
        "id": "UmC_oA7XZVZF",
        "outputId": "e758c921-caa7-4b3f-ea3e-dd86aaf117ca"
      },
      "source": [
        "df"
      ],
      "execution_count": 63,
      "outputs": [
        {
          "output_type": "execute_result",
          "data": {
            "text/html": [
              "<div>\n",
              "<style scoped>\n",
              "    .dataframe tbody tr th:only-of-type {\n",
              "        vertical-align: middle;\n",
              "    }\n",
              "\n",
              "    .dataframe tbody tr th {\n",
              "        vertical-align: top;\n",
              "    }\n",
              "\n",
              "    .dataframe thead th {\n",
              "        text-align: right;\n",
              "    }\n",
              "</style>\n",
              "<table border=\"1\" class=\"dataframe\">\n",
              "  <thead>\n",
              "    <tr style=\"text-align: right;\">\n",
              "      <th></th>\n",
              "      <th>A</th>\n",
              "      <th>B</th>\n",
              "      <th>C</th>\n",
              "      <th>D</th>\n",
              "    </tr>\n",
              "  </thead>\n",
              "  <tbody>\n",
              "    <tr>\n",
              "      <th>2021-04-30</th>\n",
              "      <td>1.872631</td>\n",
              "      <td>-0.819482</td>\n",
              "      <td>-0.438093</td>\n",
              "      <td>1.054015</td>\n",
              "    </tr>\n",
              "    <tr>\n",
              "      <th>2021-05-01</th>\n",
              "      <td>-0.127702</td>\n",
              "      <td>0.287104</td>\n",
              "      <td>-1.002110</td>\n",
              "      <td>0.356397</td>\n",
              "    </tr>\n",
              "    <tr>\n",
              "      <th>2021-05-02</th>\n",
              "      <td>0.190750</td>\n",
              "      <td>0.560221</td>\n",
              "      <td>2.369096</td>\n",
              "      <td>1.299331</td>\n",
              "    </tr>\n",
              "    <tr>\n",
              "      <th>2021-05-03</th>\n",
              "      <td>0.504107</td>\n",
              "      <td>0.862839</td>\n",
              "      <td>-0.157699</td>\n",
              "      <td>-0.437912</td>\n",
              "    </tr>\n",
              "    <tr>\n",
              "      <th>2021-05-04</th>\n",
              "      <td>0.514801</td>\n",
              "      <td>0.243153</td>\n",
              "      <td>-1.587622</td>\n",
              "      <td>0.875318</td>\n",
              "    </tr>\n",
              "    <tr>\n",
              "      <th>2021-05-05</th>\n",
              "      <td>1.498844</td>\n",
              "      <td>-0.695117</td>\n",
              "      <td>-0.109969</td>\n",
              "      <td>-0.564905</td>\n",
              "    </tr>\n",
              "  </tbody>\n",
              "</table>\n",
              "</div>"
            ],
            "text/plain": [
              "                   A         B         C         D\n",
              "2021-04-30  1.872631 -0.819482 -0.438093  1.054015\n",
              "2021-05-01 -0.127702  0.287104 -1.002110  0.356397\n",
              "2021-05-02  0.190750  0.560221  2.369096  1.299331\n",
              "2021-05-03  0.504107  0.862839 -0.157699 -0.437912\n",
              "2021-05-04  0.514801  0.243153 -1.587622  0.875318\n",
              "2021-05-05  1.498844 -0.695117 -0.109969 -0.564905"
            ]
          },
          "metadata": {
            "tags": []
          },
          "execution_count": 63
        }
      ]
    },
    {
      "cell_type": "code",
      "metadata": {
        "colab": {
          "base_uri": "https://localhost:8080/",
          "height": 235
        },
        "id": "KHXFDbMiZZWF",
        "outputId": "374c1fa5-4e19-42b2-f6cb-d3ca7e22dd78"
      },
      "source": [
        "df.sort_values(by='B')"
      ],
      "execution_count": 64,
      "outputs": [
        {
          "output_type": "execute_result",
          "data": {
            "text/html": [
              "<div>\n",
              "<style scoped>\n",
              "    .dataframe tbody tr th:only-of-type {\n",
              "        vertical-align: middle;\n",
              "    }\n",
              "\n",
              "    .dataframe tbody tr th {\n",
              "        vertical-align: top;\n",
              "    }\n",
              "\n",
              "    .dataframe thead th {\n",
              "        text-align: right;\n",
              "    }\n",
              "</style>\n",
              "<table border=\"1\" class=\"dataframe\">\n",
              "  <thead>\n",
              "    <tr style=\"text-align: right;\">\n",
              "      <th></th>\n",
              "      <th>A</th>\n",
              "      <th>B</th>\n",
              "      <th>C</th>\n",
              "      <th>D</th>\n",
              "    </tr>\n",
              "  </thead>\n",
              "  <tbody>\n",
              "    <tr>\n",
              "      <th>2021-04-30</th>\n",
              "      <td>1.872631</td>\n",
              "      <td>-0.819482</td>\n",
              "      <td>-0.438093</td>\n",
              "      <td>1.054015</td>\n",
              "    </tr>\n",
              "    <tr>\n",
              "      <th>2021-05-05</th>\n",
              "      <td>1.498844</td>\n",
              "      <td>-0.695117</td>\n",
              "      <td>-0.109969</td>\n",
              "      <td>-0.564905</td>\n",
              "    </tr>\n",
              "    <tr>\n",
              "      <th>2021-05-04</th>\n",
              "      <td>0.514801</td>\n",
              "      <td>0.243153</td>\n",
              "      <td>-1.587622</td>\n",
              "      <td>0.875318</td>\n",
              "    </tr>\n",
              "    <tr>\n",
              "      <th>2021-05-01</th>\n",
              "      <td>-0.127702</td>\n",
              "      <td>0.287104</td>\n",
              "      <td>-1.002110</td>\n",
              "      <td>0.356397</td>\n",
              "    </tr>\n",
              "    <tr>\n",
              "      <th>2021-05-02</th>\n",
              "      <td>0.190750</td>\n",
              "      <td>0.560221</td>\n",
              "      <td>2.369096</td>\n",
              "      <td>1.299331</td>\n",
              "    </tr>\n",
              "    <tr>\n",
              "      <th>2021-05-03</th>\n",
              "      <td>0.504107</td>\n",
              "      <td>0.862839</td>\n",
              "      <td>-0.157699</td>\n",
              "      <td>-0.437912</td>\n",
              "    </tr>\n",
              "  </tbody>\n",
              "</table>\n",
              "</div>"
            ],
            "text/plain": [
              "                   A         B         C         D\n",
              "2021-04-30  1.872631 -0.819482 -0.438093  1.054015\n",
              "2021-05-05  1.498844 -0.695117 -0.109969 -0.564905\n",
              "2021-05-04  0.514801  0.243153 -1.587622  0.875318\n",
              "2021-05-01 -0.127702  0.287104 -1.002110  0.356397\n",
              "2021-05-02  0.190750  0.560221  2.369096  1.299331\n",
              "2021-05-03  0.504107  0.862839 -0.157699 -0.437912"
            ]
          },
          "metadata": {
            "tags": []
          },
          "execution_count": 64
        }
      ]
    },
    {
      "cell_type": "code",
      "metadata": {
        "id": "R3rRO0MIZkx9"
      },
      "source": [
        ""
      ],
      "execution_count": null,
      "outputs": []
    }
  ]
}