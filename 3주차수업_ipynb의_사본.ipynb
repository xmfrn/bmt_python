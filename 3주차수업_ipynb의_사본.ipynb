{
  "nbformat": 4,
  "nbformat_minor": 0,
  "metadata": {
    "colab": {
      "name": "3주차수업.ipynb의 사본",
      "provenance": [],
      "authorship_tag": "ABX9TyPjfGM1xluU4JGTiv8xW/Mq",
      "include_colab_link": true
    },
    "kernelspec": {
      "name": "python3",
      "display_name": "Python 3"
    },
    "language_info": {
      "name": "python"
    }
  },
  "cells": [
    {
      "cell_type": "markdown",
      "metadata": {
        "id": "view-in-github",
        "colab_type": "text"
      },
      "source": [
        "<a href=\"https://colab.research.google.com/github/xmfrn/bmt_python/blob/main/3%EC%A3%BC%EC%B0%A8%EC%88%98%EC%97%85_ipynb%EC%9D%98_%EC%82%AC%EB%B3%B8.ipynb\" target=\"_parent\"><img src=\"https://colab.research.google.com/assets/colab-badge.svg\" alt=\"Open In Colab\"/></a>"
      ]
    },
    {
      "cell_type": "code",
      "metadata": {
        "colab": {
          "base_uri": "https://localhost:8080/"
        },
        "id": "T0Fq7CEnJ8Et",
        "outputId": "d94e26d7-a9a1-468d-cf74-65950993679a"
      },
      "source": [
        "from random import randint\n",
        "\n",
        "dice = randint(1,6)\n",
        "\n",
        "print(dice)"
      ],
      "execution_count": null,
      "outputs": [
        {
          "output_type": "stream",
          "text": [
            "4\n"
          ],
          "name": "stdout"
        }
      ]
    },
    {
      "cell_type": "code",
      "metadata": {
        "colab": {
          "base_uri": "https://localhost:8080/"
        },
        "id": "C_PHCRXwXGsn",
        "outputId": "a248c959-fda2-4d22-98d3-3d286853d5a6"
      },
      "source": [
        "# math 라이브러리 사용\n",
        "\n",
        "\n",
        "\n",
        "import math\n",
        "\n",
        "math.sin(math.pi /6)"
      ],
      "execution_count": null,
      "outputs": [
        {
          "output_type": "execute_result",
          "data": {
            "text/plain": [
              "0.49999999999999994"
            ]
          },
          "metadata": {
            "tags": []
          },
          "execution_count": 14
        }
      ]
    },
    {
      "cell_type": "code",
      "metadata": {
        "colab": {
          "base_uri": "https://localhost:8080/"
        },
        "id": "9C5Ud0N1YBeP",
        "outputId": "0cda2522-96c0-4d0d-bcca-b5485519c049"
      },
      "source": [
        "name = '부산기계공고'\n",
        "\n",
        "for i in name:\n",
        "  print(i) "
      ],
      "execution_count": null,
      "outputs": [
        {
          "output_type": "stream",
          "text": [
            "부\n",
            "산\n",
            "기\n",
            "계\n",
            "공\n",
            "고\n"
          ],
          "name": "stdout"
        }
      ]
    },
    {
      "cell_type": "code",
      "metadata": {
        "colab": {
          "base_uri": "https://localhost:8080/"
        },
        "id": "nHLDQxJnaMeF",
        "outputId": "3ce95b9f-747c-4783-88a6-482e7e2d560f"
      },
      "source": [
        "for i in name:\n",
        "  print(i, end= '')"
      ],
      "execution_count": null,
      "outputs": [
        {
          "output_type": "stream",
          "text": [
            "부산기계공고"
          ],
          "name": "stdout"
        }
      ]
    },
    {
      "cell_type": "markdown",
      "metadata": {
        "id": "L2XuzjJpa-Wo"
      },
      "source": [
        ""
      ]
    },
    {
      "cell_type": "code",
      "metadata": {
        "colab": {
          "base_uri": "https://localhost:8080/"
        },
        "id": "kLTsMA5dapUw",
        "outputId": "e6e1d950-2058-4843-fc89-ea28c9a2cfd5"
      },
      "source": [
        "for i in [0, 1, 2, 3]:\n",
        "  print(f'{i}의 제곱근 : {i**2}')"
      ],
      "execution_count": null,
      "outputs": [
        {
          "output_type": "stream",
          "text": [
            "0의 제곱근 : 0\n",
            "1의 제곱근 : 1\n",
            "2의 제곱근 : 4\n",
            "3의 제곱근 : 9\n"
          ],
          "name": "stdout"
        }
      ]
    },
    {
      "cell_type": "code",
      "metadata": {
        "colab": {
          "base_uri": "https://localhost:8080/"
        },
        "id": "1lwygMGhbQv2",
        "outputId": "c8dd1be8-fe30-40d0-f6a6-7a102312b608"
      },
      "source": [
        "for i in range(10):\n",
        "  print(f'{i}의 제곱근 : {i**2}')\n"
      ],
      "execution_count": null,
      "outputs": [
        {
          "output_type": "stream",
          "text": [
            "0의 제곱근 : 0\n",
            "1의 제곱근 : 1\n",
            "2의 제곱근 : 4\n",
            "3의 제곱근 : 9\n",
            "4의 제곱근 : 16\n",
            "5의 제곱근 : 25\n",
            "6의 제곱근 : 36\n",
            "7의 제곱근 : 49\n",
            "8의 제곱근 : 64\n",
            "9의 제곱근 : 81\n"
          ],
          "name": "stdout"
        }
      ]
    },
    {
      "cell_type": "code",
      "metadata": {
        "colab": {
          "base_uri": "https://localhost:8080/"
        },
        "id": "nM1_Hb_jb3jg",
        "outputId": "08c13cfc-d491-4d7b-b6a6-0ff29ffc1968"
      },
      "source": [
        "type(range(10))"
      ],
      "execution_count": null,
      "outputs": [
        {
          "output_type": "execute_result",
          "data": {
            "text/plain": [
              "range"
            ]
          },
          "metadata": {
            "tags": []
          },
          "execution_count": 34
        }
      ]
    },
    {
      "cell_type": "code",
      "metadata": {
        "colab": {
          "base_uri": "https://localhost:8080/"
        },
        "id": "IfIPtwFzcZcQ",
        "outputId": "ffe4c042-4276-4a86-cce0-8a9e642e1e9a"
      },
      "source": [
        "for i in range(1,-10,-1):\n",
        "  print(i**2)"
      ],
      "execution_count": null,
      "outputs": [
        {
          "output_type": "stream",
          "text": [
            "1\n",
            "0\n",
            "1\n",
            "4\n",
            "9\n",
            "16\n",
            "25\n",
            "36\n",
            "49\n",
            "64\n",
            "81\n"
          ],
          "name": "stdout"
        }
      ]
    },
    {
      "cell_type": "code",
      "metadata": {
        "colab": {
          "base_uri": "https://localhost:8080/"
        },
        "id": "kx30k3Rvc6Gx",
        "outputId": "e8be2049-8c69-4d0f-9efd-f3e8c5f4cba0"
      },
      "source": [
        "if 10 > 0:\n",
        "  print('안녕하세요')"
      ],
      "execution_count": null,
      "outputs": [
        {
          "output_type": "stream",
          "text": [
            "안녕하세요\n"
          ],
          "name": "stdout"
        }
      ]
    },
    {
      "cell_type": "code",
      "metadata": {
        "colab": {
          "base_uri": "https://localhost:8080/"
        },
        "id": "ne10RkJJdroz",
        "outputId": "f3b3e702-f704-4f30-edfc-ce897f5d2de2"
      },
      "source": [
        "for _ in [1,2,4]:\n",
        "  print('전기과 화이팅!!!')"
      ],
      "execution_count": null,
      "outputs": [
        {
          "output_type": "stream",
          "text": [
            "전기과 화이팅!!!\n",
            "전기과 화이팅!!!\n",
            "전기과 화이팅!!!\n"
          ],
          "name": "stdout"
        }
      ]
    },
    {
      "cell_type": "code",
      "metadata": {
        "colab": {
          "base_uri": "https://localhost:8080/"
        },
        "id": "BR0BRfUxdn5K",
        "outputId": "0fbaabbc-f0d9-47e9-95d4-f7c8a4161eb7"
      },
      "source": [
        "if 10!=0 and 5 % 2 ==1:\n",
        "  print('안녕하세요')"
      ],
      "execution_count": null,
      "outputs": [
        {
          "output_type": "stream",
          "text": [
            "안녕하세요\n"
          ],
          "name": "stdout"
        }
      ]
    },
    {
      "cell_type": "code",
      "metadata": {
        "colab": {
          "base_uri": "https://localhost:8080/"
        },
        "id": "53RQSxuueIm5",
        "outputId": "e32e4a76-7399-4011-d633-da35ceb5fcb7"
      },
      "source": [
        "password = int(input('비밀번호 4자리 숫자 입력 : '))\n",
        "\n",
        "if password == 2021:\n",
        "  print('비밀번호 일치')\n",
        "elif password == 2020:\n",
        "  print('이 숫자에 한 개만 더해주세요')\n",
        "else :\n",
        "  print('다시 시작 해주세요.')  \n"
      ],
      "execution_count": null,
      "outputs": [
        {
          "output_type": "stream",
          "text": [
            "비밀번호 4자리 숫자 입력 : 2121\n",
            "다시 시작 해주세요.\n"
          ],
          "name": "stdout"
        }
      ]
    },
    {
      "cell_type": "code",
      "metadata": {
        "colab": {
          "base_uri": "https://localhost:8080/"
        },
        "id": "l8lxR6LUei4x",
        "outputId": "74107664-48cb-4d20-a297-1460d7a93b12"
      },
      "source": [
        "for i in range(1,100000):\n",
        "  if i == 2021:\n",
        "    print('비밀번호가 일치')\n",
        "    print(f'비밀번호는 {i} 입니다.')"
      ],
      "execution_count": null,
      "outputs": [
        {
          "output_type": "stream",
          "text": [
            "비밀번호가 일치\n",
            "비밀번호는 2021 입니다.\n"
          ],
          "name": "stdout"
        }
      ]
    },
    {
      "cell_type": "code",
      "metadata": {
        "colab": {
          "base_uri": "https://localhost:8080/"
        },
        "id": "ZSOKLvNYfriS",
        "outputId": "ab1ac4f9-c373-4678-e07b-9e05aa4aff6e"
      },
      "source": [
        "print('[ 소름끼치도록 놀라운 심리테스트 ]')\n",
        "\n",
        "menu = input('당신이 좋아하는 과일을 입력해주세요 : ')\n",
        "\n",
        "if menu == '사과':\n",
        "  print(f'당신은 {menu}을 좋아하는 사람입니다.')\n",
        "elif menu == '바나나':\n",
        "  print(f'당신은 {menu}을 좋아하는 사람입니다.')\n",
        "elif menu == '멜론':\n",
        "  print(f'당신은 {menu}을 좋아하는 사람입니다.')\n",
        "else :\n",
        "  print(f'당신은 사과, 바나나, 멜론을 좋아하지 않는 사람입니다.')"
      ],
      "execution_count": null,
      "outputs": [
        {
          "output_type": "stream",
          "text": [
            "[ 소름끼치도록 놀라운 심리테스트 ]\n",
            "당신이 좋아하는 과일을 입력해주세요 : 사과\n",
            "당신은 사과을 좋아하는 사람입니다.\n"
          ],
          "name": "stdout"
        }
      ]
    },
    {
      "cell_type": "code",
      "metadata": {
        "id": "-3Cd9jGFgiZJ"
      },
      "source": [
        ""
      ],
      "execution_count": null,
      "outputs": []
    }
  ]
}