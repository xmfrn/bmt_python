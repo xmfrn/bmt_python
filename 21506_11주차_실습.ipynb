{
  "nbformat": 4,
  "nbformat_minor": 0,
  "metadata": {
    "colab": {
      "name": "21506_11주차 실습.ipynb",
      "provenance": [],
      "collapsed_sections": [],
      "authorship_tag": "ABX9TyPorCegyrKztGhey88RFDXX",
      "include_colab_link": true
    },
    "kernelspec": {
      "name": "python3",
      "display_name": "Python 3"
    },
    "language_info": {
      "name": "python"
    }
  },
  "cells": [
    {
      "cell_type": "markdown",
      "metadata": {
        "id": "view-in-github",
        "colab_type": "text"
      },
      "source": [
        "<a href=\"https://colab.research.google.com/github/xmfrn/bmt_python/blob/main/21506_11%EC%A3%BC%EC%B0%A8_%EC%8B%A4%EC%8A%B5.ipynb\" target=\"_parent\"><img src=\"https://colab.research.google.com/assets/colab-badge.svg\" alt=\"Open In Colab\"/></a>"
      ]
    },
    {
      "cell_type": "code",
      "metadata": {
        "id": "3kxUw5bCKKOC"
      },
      "source": [
        "import pandas as pd\n",
        "import numpy as np\n",
        "import matplotlib.pyplot as plt\n"
      ],
      "execution_count": 1,
      "outputs": []
    },
    {
      "cell_type": "code",
      "metadata": {
        "colab": {
          "base_uri": "https://localhost:8080/"
        },
        "id": "hyPFUzBkK8m5",
        "outputId": "a087d54e-c010-4c03-f6ad-56f298997f97"
      },
      "source": [
        "dates = pd.date_range('20210514', periods=6)\n",
        "dates"
      ],
      "execution_count": 4,
      "outputs": [
        {
          "output_type": "execute_result",
          "data": {
            "text/plain": [
              "DatetimeIndex(['2021-05-14', '2021-05-15', '2021-05-16', '2021-05-17',\n",
              "               '2021-05-18', '2021-05-19'],\n",
              "              dtype='datetime64[ns]', freq='D')"
            ]
          },
          "metadata": {
            "tags": []
          },
          "execution_count": 4
        }
      ]
    },
    {
      "cell_type": "code",
      "metadata": {
        "id": "XmDSUasfLUCH"
      },
      "source": [
        "df = pd.DataFrame(np.random.randn(6,4), index=dates, columns=list('ABCD'))"
      ],
      "execution_count": 5,
      "outputs": []
    },
    {
      "cell_type": "code",
      "metadata": {
        "colab": {
          "base_uri": "https://localhost:8080/",
          "height": 235
        },
        "id": "ruTRUz1ALjfs",
        "outputId": "1b2624d0-48fe-4b5f-dcdb-a82c417c909d"
      },
      "source": [
        "df"
      ],
      "execution_count": 6,
      "outputs": [
        {
          "output_type": "execute_result",
          "data": {
            "text/html": [
              "<div>\n",
              "<style scoped>\n",
              "    .dataframe tbody tr th:only-of-type {\n",
              "        vertical-align: middle;\n",
              "    }\n",
              "\n",
              "    .dataframe tbody tr th {\n",
              "        vertical-align: top;\n",
              "    }\n",
              "\n",
              "    .dataframe thead th {\n",
              "        text-align: right;\n",
              "    }\n",
              "</style>\n",
              "<table border=\"1\" class=\"dataframe\">\n",
              "  <thead>\n",
              "    <tr style=\"text-align: right;\">\n",
              "      <th></th>\n",
              "      <th>A</th>\n",
              "      <th>B</th>\n",
              "      <th>C</th>\n",
              "      <th>D</th>\n",
              "    </tr>\n",
              "  </thead>\n",
              "  <tbody>\n",
              "    <tr>\n",
              "      <th>2021-05-14</th>\n",
              "      <td>1.076012</td>\n",
              "      <td>1.894544</td>\n",
              "      <td>1.126573</td>\n",
              "      <td>-1.096685</td>\n",
              "    </tr>\n",
              "    <tr>\n",
              "      <th>2021-05-15</th>\n",
              "      <td>-0.297704</td>\n",
              "      <td>-1.084946</td>\n",
              "      <td>0.210729</td>\n",
              "      <td>-0.818225</td>\n",
              "    </tr>\n",
              "    <tr>\n",
              "      <th>2021-05-16</th>\n",
              "      <td>-0.125221</td>\n",
              "      <td>-0.014551</td>\n",
              "      <td>-0.029228</td>\n",
              "      <td>-0.879079</td>\n",
              "    </tr>\n",
              "    <tr>\n",
              "      <th>2021-05-17</th>\n",
              "      <td>-0.097958</td>\n",
              "      <td>-0.438482</td>\n",
              "      <td>0.311812</td>\n",
              "      <td>0.752810</td>\n",
              "    </tr>\n",
              "    <tr>\n",
              "      <th>2021-05-18</th>\n",
              "      <td>-1.382704</td>\n",
              "      <td>-0.381407</td>\n",
              "      <td>-0.445426</td>\n",
              "      <td>-1.572390</td>\n",
              "    </tr>\n",
              "    <tr>\n",
              "      <th>2021-05-19</th>\n",
              "      <td>-0.944916</td>\n",
              "      <td>-0.636668</td>\n",
              "      <td>0.438969</td>\n",
              "      <td>-0.398780</td>\n",
              "    </tr>\n",
              "  </tbody>\n",
              "</table>\n",
              "</div>"
            ],
            "text/plain": [
              "                   A         B         C         D\n",
              "2021-05-14  1.076012  1.894544  1.126573 -1.096685\n",
              "2021-05-15 -0.297704 -1.084946  0.210729 -0.818225\n",
              "2021-05-16 -0.125221 -0.014551 -0.029228 -0.879079\n",
              "2021-05-17 -0.097958 -0.438482  0.311812  0.752810\n",
              "2021-05-18 -1.382704 -0.381407 -0.445426 -1.572390\n",
              "2021-05-19 -0.944916 -0.636668  0.438969 -0.398780"
            ]
          },
          "metadata": {
            "tags": []
          },
          "execution_count": 6
        }
      ]
    },
    {
      "cell_type": "code",
      "metadata": {
        "colab": {
          "base_uri": "https://localhost:8080/"
        },
        "id": "KwfXgT6sLvqT",
        "outputId": "d9253de2-1715-4006-934d-a4e4ccf552cd"
      },
      "source": [
        "df.mean(0)"
      ],
      "execution_count": 8,
      "outputs": [
        {
          "output_type": "execute_result",
          "data": {
            "text/plain": [
              "A   -0.295415\n",
              "B   -0.110252\n",
              "C    0.268905\n",
              "D   -0.668725\n",
              "dtype: float64"
            ]
          },
          "metadata": {
            "tags": []
          },
          "execution_count": 8
        }
      ]
    },
    {
      "cell_type": "markdown",
      "metadata": {
        "id": "9Xm85vToMq6u"
      },
      "source": [
        ""
      ]
    },
    {
      "cell_type": "code",
      "metadata": {
        "colab": {
          "base_uri": "https://localhost:8080/"
        },
        "id": "93QGtR9sMCPn",
        "outputId": "cde9a089-120a-46d1-c156-9588be9648f8"
      },
      "source": [
        "df.mean(1)"
      ],
      "execution_count": 9,
      "outputs": [
        {
          "output_type": "execute_result",
          "data": {
            "text/plain": [
              "2021-05-14    0.750111\n",
              "2021-05-15   -0.497536\n",
              "2021-05-16   -0.262020\n",
              "2021-05-17    0.132045\n",
              "2021-05-18   -0.945482\n",
              "2021-05-19   -0.385349\n",
              "Freq: D, dtype: float64"
            ]
          },
          "metadata": {
            "tags": []
          },
          "execution_count": 9
        }
      ]
    },
    {
      "cell_type": "code",
      "metadata": {
        "colab": {
          "base_uri": "https://localhost:8080/",
          "height": 235
        },
        "id": "W0FpKYjPMuo3",
        "outputId": "53e42e5a-4ef2-4419-bcfe-505da25854a9"
      },
      "source": [
        "df"
      ],
      "execution_count": 11,
      "outputs": [
        {
          "output_type": "execute_result",
          "data": {
            "text/html": [
              "<div>\n",
              "<style scoped>\n",
              "    .dataframe tbody tr th:only-of-type {\n",
              "        vertical-align: middle;\n",
              "    }\n",
              "\n",
              "    .dataframe tbody tr th {\n",
              "        vertical-align: top;\n",
              "    }\n",
              "\n",
              "    .dataframe thead th {\n",
              "        text-align: right;\n",
              "    }\n",
              "</style>\n",
              "<table border=\"1\" class=\"dataframe\">\n",
              "  <thead>\n",
              "    <tr style=\"text-align: right;\">\n",
              "      <th></th>\n",
              "      <th>A</th>\n",
              "      <th>B</th>\n",
              "      <th>C</th>\n",
              "      <th>D</th>\n",
              "    </tr>\n",
              "  </thead>\n",
              "  <tbody>\n",
              "    <tr>\n",
              "      <th>2021-05-14</th>\n",
              "      <td>1.076012</td>\n",
              "      <td>1.894544</td>\n",
              "      <td>1.126573</td>\n",
              "      <td>-1.096685</td>\n",
              "    </tr>\n",
              "    <tr>\n",
              "      <th>2021-05-15</th>\n",
              "      <td>-0.297704</td>\n",
              "      <td>-1.084946</td>\n",
              "      <td>0.210729</td>\n",
              "      <td>-0.818225</td>\n",
              "    </tr>\n",
              "    <tr>\n",
              "      <th>2021-05-16</th>\n",
              "      <td>-0.125221</td>\n",
              "      <td>-0.014551</td>\n",
              "      <td>-0.029228</td>\n",
              "      <td>-0.879079</td>\n",
              "    </tr>\n",
              "    <tr>\n",
              "      <th>2021-05-17</th>\n",
              "      <td>-0.097958</td>\n",
              "      <td>-0.438482</td>\n",
              "      <td>0.311812</td>\n",
              "      <td>0.752810</td>\n",
              "    </tr>\n",
              "    <tr>\n",
              "      <th>2021-05-18</th>\n",
              "      <td>-1.382704</td>\n",
              "      <td>-0.381407</td>\n",
              "      <td>-0.445426</td>\n",
              "      <td>-1.572390</td>\n",
              "    </tr>\n",
              "    <tr>\n",
              "      <th>2021-05-19</th>\n",
              "      <td>-0.944916</td>\n",
              "      <td>-0.636668</td>\n",
              "      <td>0.438969</td>\n",
              "      <td>-0.398780</td>\n",
              "    </tr>\n",
              "  </tbody>\n",
              "</table>\n",
              "</div>"
            ],
            "text/plain": [
              "                   A         B         C         D\n",
              "2021-05-14  1.076012  1.894544  1.126573 -1.096685\n",
              "2021-05-15 -0.297704 -1.084946  0.210729 -0.818225\n",
              "2021-05-16 -0.125221 -0.014551 -0.029228 -0.879079\n",
              "2021-05-17 -0.097958 -0.438482  0.311812  0.752810\n",
              "2021-05-18 -1.382704 -0.381407 -0.445426 -1.572390\n",
              "2021-05-19 -0.944916 -0.636668  0.438969 -0.398780"
            ]
          },
          "metadata": {
            "tags": []
          },
          "execution_count": 11
        }
      ]
    },
    {
      "cell_type": "code",
      "metadata": {
        "colab": {
          "base_uri": "https://localhost:8080/",
          "height": 235
        },
        "id": "fF08ph7lNAz3",
        "outputId": "392a9653-af6c-49d3-d149-f2cfbe612712"
      },
      "source": [
        "df.apply(np.cumsum)"
      ],
      "execution_count": 12,
      "outputs": [
        {
          "output_type": "execute_result",
          "data": {
            "text/html": [
              "<div>\n",
              "<style scoped>\n",
              "    .dataframe tbody tr th:only-of-type {\n",
              "        vertical-align: middle;\n",
              "    }\n",
              "\n",
              "    .dataframe tbody tr th {\n",
              "        vertical-align: top;\n",
              "    }\n",
              "\n",
              "    .dataframe thead th {\n",
              "        text-align: right;\n",
              "    }\n",
              "</style>\n",
              "<table border=\"1\" class=\"dataframe\">\n",
              "  <thead>\n",
              "    <tr style=\"text-align: right;\">\n",
              "      <th></th>\n",
              "      <th>A</th>\n",
              "      <th>B</th>\n",
              "      <th>C</th>\n",
              "      <th>D</th>\n",
              "    </tr>\n",
              "  </thead>\n",
              "  <tbody>\n",
              "    <tr>\n",
              "      <th>2021-05-14</th>\n",
              "      <td>1.076012</td>\n",
              "      <td>1.894544</td>\n",
              "      <td>1.126573</td>\n",
              "      <td>-1.096685</td>\n",
              "    </tr>\n",
              "    <tr>\n",
              "      <th>2021-05-15</th>\n",
              "      <td>0.778309</td>\n",
              "      <td>0.809598</td>\n",
              "      <td>1.337302</td>\n",
              "      <td>-1.914910</td>\n",
              "    </tr>\n",
              "    <tr>\n",
              "      <th>2021-05-16</th>\n",
              "      <td>0.653087</td>\n",
              "      <td>0.795047</td>\n",
              "      <td>1.308074</td>\n",
              "      <td>-2.793989</td>\n",
              "    </tr>\n",
              "    <tr>\n",
              "      <th>2021-05-17</th>\n",
              "      <td>0.555129</td>\n",
              "      <td>0.356565</td>\n",
              "      <td>1.619886</td>\n",
              "      <td>-2.041179</td>\n",
              "    </tr>\n",
              "    <tr>\n",
              "      <th>2021-05-18</th>\n",
              "      <td>-0.827575</td>\n",
              "      <td>-0.024842</td>\n",
              "      <td>1.174461</td>\n",
              "      <td>-3.613570</td>\n",
              "    </tr>\n",
              "    <tr>\n",
              "      <th>2021-05-19</th>\n",
              "      <td>-1.772490</td>\n",
              "      <td>-0.661510</td>\n",
              "      <td>1.613430</td>\n",
              "      <td>-4.012350</td>\n",
              "    </tr>\n",
              "  </tbody>\n",
              "</table>\n",
              "</div>"
            ],
            "text/plain": [
              "                   A         B         C         D\n",
              "2021-05-14  1.076012  1.894544  1.126573 -1.096685\n",
              "2021-05-15  0.778309  0.809598  1.337302 -1.914910\n",
              "2021-05-16  0.653087  0.795047  1.308074 -2.793989\n",
              "2021-05-17  0.555129  0.356565  1.619886 -2.041179\n",
              "2021-05-18 -0.827575 -0.024842  1.174461 -3.613570\n",
              "2021-05-19 -1.772490 -0.661510  1.613430 -4.012350"
            ]
          },
          "metadata": {
            "tags": []
          },
          "execution_count": 12
        }
      ]
    },
    {
      "cell_type": "code",
      "metadata": {
        "colab": {
          "base_uri": "https://localhost:8080/",
          "height": 235
        },
        "id": "gVGQiT-FNUF3",
        "outputId": "c0a900e9-a47c-4ac9-9938-ac71122969bf"
      },
      "source": [
        "df.apply(np.cumsum,axis=1)"
      ],
      "execution_count": 14,
      "outputs": [
        {
          "output_type": "execute_result",
          "data": {
            "text/html": [
              "<div>\n",
              "<style scoped>\n",
              "    .dataframe tbody tr th:only-of-type {\n",
              "        vertical-align: middle;\n",
              "    }\n",
              "\n",
              "    .dataframe tbody tr th {\n",
              "        vertical-align: top;\n",
              "    }\n",
              "\n",
              "    .dataframe thead th {\n",
              "        text-align: right;\n",
              "    }\n",
              "</style>\n",
              "<table border=\"1\" class=\"dataframe\">\n",
              "  <thead>\n",
              "    <tr style=\"text-align: right;\">\n",
              "      <th></th>\n",
              "      <th>A</th>\n",
              "      <th>B</th>\n",
              "      <th>C</th>\n",
              "      <th>D</th>\n",
              "    </tr>\n",
              "  </thead>\n",
              "  <tbody>\n",
              "    <tr>\n",
              "      <th>2021-05-14</th>\n",
              "      <td>1.076012</td>\n",
              "      <td>2.970557</td>\n",
              "      <td>4.097129</td>\n",
              "      <td>3.000444</td>\n",
              "    </tr>\n",
              "    <tr>\n",
              "      <th>2021-05-15</th>\n",
              "      <td>-0.297704</td>\n",
              "      <td>-1.382650</td>\n",
              "      <td>-1.171920</td>\n",
              "      <td>-1.990145</td>\n",
              "    </tr>\n",
              "    <tr>\n",
              "      <th>2021-05-16</th>\n",
              "      <td>-0.125221</td>\n",
              "      <td>-0.139773</td>\n",
              "      <td>-0.169000</td>\n",
              "      <td>-1.048079</td>\n",
              "    </tr>\n",
              "    <tr>\n",
              "      <th>2021-05-17</th>\n",
              "      <td>-0.097958</td>\n",
              "      <td>-0.536440</td>\n",
              "      <td>-0.224628</td>\n",
              "      <td>0.528182</td>\n",
              "    </tr>\n",
              "    <tr>\n",
              "      <th>2021-05-18</th>\n",
              "      <td>-1.382704</td>\n",
              "      <td>-1.764111</td>\n",
              "      <td>-2.209536</td>\n",
              "      <td>-3.781927</td>\n",
              "    </tr>\n",
              "    <tr>\n",
              "      <th>2021-05-19</th>\n",
              "      <td>-0.944916</td>\n",
              "      <td>-1.581584</td>\n",
              "      <td>-1.142615</td>\n",
              "      <td>-1.541395</td>\n",
              "    </tr>\n",
              "  </tbody>\n",
              "</table>\n",
              "</div>"
            ],
            "text/plain": [
              "                   A         B         C         D\n",
              "2021-05-14  1.076012  2.970557  4.097129  3.000444\n",
              "2021-05-15 -0.297704 -1.382650 -1.171920 -1.990145\n",
              "2021-05-16 -0.125221 -0.139773 -0.169000 -1.048079\n",
              "2021-05-17 -0.097958 -0.536440 -0.224628  0.528182\n",
              "2021-05-18 -1.382704 -1.764111 -2.209536 -3.781927\n",
              "2021-05-19 -0.944916 -1.581584 -1.142615 -1.541395"
            ]
          },
          "metadata": {
            "tags": []
          },
          "execution_count": 14
        }
      ]
    },
    {
      "cell_type": "code",
      "metadata": {
        "colab": {
          "base_uri": "https://localhost:8080/",
          "height": 235
        },
        "id": "WXqmA9FONhAn",
        "outputId": "40598995-11da-48d0-c133-87872dfb5064"
      },
      "source": [
        "df"
      ],
      "execution_count": 15,
      "outputs": [
        {
          "output_type": "execute_result",
          "data": {
            "text/html": [
              "<div>\n",
              "<style scoped>\n",
              "    .dataframe tbody tr th:only-of-type {\n",
              "        vertical-align: middle;\n",
              "    }\n",
              "\n",
              "    .dataframe tbody tr th {\n",
              "        vertical-align: top;\n",
              "    }\n",
              "\n",
              "    .dataframe thead th {\n",
              "        text-align: right;\n",
              "    }\n",
              "</style>\n",
              "<table border=\"1\" class=\"dataframe\">\n",
              "  <thead>\n",
              "    <tr style=\"text-align: right;\">\n",
              "      <th></th>\n",
              "      <th>A</th>\n",
              "      <th>B</th>\n",
              "      <th>C</th>\n",
              "      <th>D</th>\n",
              "    </tr>\n",
              "  </thead>\n",
              "  <tbody>\n",
              "    <tr>\n",
              "      <th>2021-05-14</th>\n",
              "      <td>1.076012</td>\n",
              "      <td>1.894544</td>\n",
              "      <td>1.126573</td>\n",
              "      <td>-1.096685</td>\n",
              "    </tr>\n",
              "    <tr>\n",
              "      <th>2021-05-15</th>\n",
              "      <td>-0.297704</td>\n",
              "      <td>-1.084946</td>\n",
              "      <td>0.210729</td>\n",
              "      <td>-0.818225</td>\n",
              "    </tr>\n",
              "    <tr>\n",
              "      <th>2021-05-16</th>\n",
              "      <td>-0.125221</td>\n",
              "      <td>-0.014551</td>\n",
              "      <td>-0.029228</td>\n",
              "      <td>-0.879079</td>\n",
              "    </tr>\n",
              "    <tr>\n",
              "      <th>2021-05-17</th>\n",
              "      <td>-0.097958</td>\n",
              "      <td>-0.438482</td>\n",
              "      <td>0.311812</td>\n",
              "      <td>0.752810</td>\n",
              "    </tr>\n",
              "    <tr>\n",
              "      <th>2021-05-18</th>\n",
              "      <td>-1.382704</td>\n",
              "      <td>-0.381407</td>\n",
              "      <td>-0.445426</td>\n",
              "      <td>-1.572390</td>\n",
              "    </tr>\n",
              "    <tr>\n",
              "      <th>2021-05-19</th>\n",
              "      <td>-0.944916</td>\n",
              "      <td>-0.636668</td>\n",
              "      <td>0.438969</td>\n",
              "      <td>-0.398780</td>\n",
              "    </tr>\n",
              "  </tbody>\n",
              "</table>\n",
              "</div>"
            ],
            "text/plain": [
              "                   A         B         C         D\n",
              "2021-05-14  1.076012  1.894544  1.126573 -1.096685\n",
              "2021-05-15 -0.297704 -1.084946  0.210729 -0.818225\n",
              "2021-05-16 -0.125221 -0.014551 -0.029228 -0.879079\n",
              "2021-05-17 -0.097958 -0.438482  0.311812  0.752810\n",
              "2021-05-18 -1.382704 -0.381407 -0.445426 -1.572390\n",
              "2021-05-19 -0.944916 -0.636668  0.438969 -0.398780"
            ]
          },
          "metadata": {
            "tags": []
          },
          "execution_count": 15
        }
      ]
    },
    {
      "cell_type": "code",
      "metadata": {
        "colab": {
          "base_uri": "https://localhost:8080/"
        },
        "id": "iSCKxY-xNpmG",
        "outputId": "9f7977b3-b288-4eaf-e5b4-98e81f47d357"
      },
      "source": [
        "df.apply(lambda x:x.max()-x.min())"
      ],
      "execution_count": 17,
      "outputs": [
        {
          "output_type": "execute_result",
          "data": {
            "text/plain": [
              "A    2.458717\n",
              "B    2.979490\n",
              "C    1.571998\n",
              "D    2.325200\n",
              "dtype: float64"
            ]
          },
          "metadata": {
            "tags": []
          },
          "execution_count": 17
        }
      ]
    },
    {
      "cell_type": "code",
      "metadata": {
        "colab": {
          "base_uri": "https://localhost:8080/"
        },
        "id": "FI2p6aNwN23Z",
        "outputId": "909d7fc9-2f51-48a2-dc97-2bc9695f9969"
      },
      "source": [
        "s = pd.Series(np.random.randint(1, 7, size = 600000))\n",
        "s\n"
      ],
      "execution_count": 31,
      "outputs": [
        {
          "output_type": "execute_result",
          "data": {
            "text/plain": [
              "0         5\n",
              "1         1\n",
              "2         5\n",
              "3         3\n",
              "4         2\n",
              "         ..\n",
              "599995    5\n",
              "599996    4\n",
              "599997    1\n",
              "599998    6\n",
              "599999    2\n",
              "Length: 600000, dtype: int64"
            ]
          },
          "metadata": {
            "tags": []
          },
          "execution_count": 31
        }
      ]
    },
    {
      "cell_type": "code",
      "metadata": {
        "colab": {
          "base_uri": "https://localhost:8080/"
        },
        "id": "qLifu_efOiWG",
        "outputId": "28082915-b3de-494b-a6b5-1936fc8143a5"
      },
      "source": [
        "print(s.value_counts())"
      ],
      "execution_count": 32,
      "outputs": [
        {
          "output_type": "stream",
          "text": [
            "4    100351\n",
            "3    100152\n",
            "5     99932\n",
            "2     99887\n",
            "1     99880\n",
            "6     99798\n",
            "dtype: int64\n"
          ],
          "name": "stdout"
        }
      ]
    },
    {
      "cell_type": "code",
      "metadata": {
        "colab": {
          "base_uri": "https://localhost:8080/",
          "height": 359
        },
        "id": "BHqcGlK2PCIF",
        "outputId": "8cf36481-3457-4da7-ae21-0431ea627bd5"
      },
      "source": [
        "df = pd.DataFrame(np.random.randn(10, 4))\n",
        "df"
      ],
      "execution_count": 37,
      "outputs": [
        {
          "output_type": "execute_result",
          "data": {
            "text/html": [
              "<div>\n",
              "<style scoped>\n",
              "    .dataframe tbody tr th:only-of-type {\n",
              "        vertical-align: middle;\n",
              "    }\n",
              "\n",
              "    .dataframe tbody tr th {\n",
              "        vertical-align: top;\n",
              "    }\n",
              "\n",
              "    .dataframe thead th {\n",
              "        text-align: right;\n",
              "    }\n",
              "</style>\n",
              "<table border=\"1\" class=\"dataframe\">\n",
              "  <thead>\n",
              "    <tr style=\"text-align: right;\">\n",
              "      <th></th>\n",
              "      <th>0</th>\n",
              "      <th>1</th>\n",
              "      <th>2</th>\n",
              "      <th>3</th>\n",
              "    </tr>\n",
              "  </thead>\n",
              "  <tbody>\n",
              "    <tr>\n",
              "      <th>0</th>\n",
              "      <td>-0.877479</td>\n",
              "      <td>-0.220667</td>\n",
              "      <td>0.255268</td>\n",
              "      <td>-0.878500</td>\n",
              "    </tr>\n",
              "    <tr>\n",
              "      <th>1</th>\n",
              "      <td>0.624406</td>\n",
              "      <td>0.293041</td>\n",
              "      <td>-0.649870</td>\n",
              "      <td>0.711650</td>\n",
              "    </tr>\n",
              "    <tr>\n",
              "      <th>2</th>\n",
              "      <td>-0.989663</td>\n",
              "      <td>0.236217</td>\n",
              "      <td>0.582543</td>\n",
              "      <td>2.055141</td>\n",
              "    </tr>\n",
              "    <tr>\n",
              "      <th>3</th>\n",
              "      <td>-0.389074</td>\n",
              "      <td>0.412952</td>\n",
              "      <td>-0.027909</td>\n",
              "      <td>0.095470</td>\n",
              "    </tr>\n",
              "    <tr>\n",
              "      <th>4</th>\n",
              "      <td>1.220602</td>\n",
              "      <td>-0.120762</td>\n",
              "      <td>-0.518225</td>\n",
              "      <td>-1.854641</td>\n",
              "    </tr>\n",
              "    <tr>\n",
              "      <th>5</th>\n",
              "      <td>0.309349</td>\n",
              "      <td>-0.547258</td>\n",
              "      <td>0.275698</td>\n",
              "      <td>-1.428558</td>\n",
              "    </tr>\n",
              "    <tr>\n",
              "      <th>6</th>\n",
              "      <td>-0.980278</td>\n",
              "      <td>0.127807</td>\n",
              "      <td>0.472437</td>\n",
              "      <td>-0.078289</td>\n",
              "    </tr>\n",
              "    <tr>\n",
              "      <th>7</th>\n",
              "      <td>-0.697157</td>\n",
              "      <td>1.227232</td>\n",
              "      <td>-2.234462</td>\n",
              "      <td>-2.125219</td>\n",
              "    </tr>\n",
              "    <tr>\n",
              "      <th>8</th>\n",
              "      <td>-0.499588</td>\n",
              "      <td>0.325278</td>\n",
              "      <td>-0.115824</td>\n",
              "      <td>-0.188390</td>\n",
              "    </tr>\n",
              "    <tr>\n",
              "      <th>9</th>\n",
              "      <td>0.571902</td>\n",
              "      <td>-1.489632</td>\n",
              "      <td>-1.294566</td>\n",
              "      <td>0.633125</td>\n",
              "    </tr>\n",
              "  </tbody>\n",
              "</table>\n",
              "</div>"
            ],
            "text/plain": [
              "          0         1         2         3\n",
              "0 -0.877479 -0.220667  0.255268 -0.878500\n",
              "1  0.624406  0.293041 -0.649870  0.711650\n",
              "2 -0.989663  0.236217  0.582543  2.055141\n",
              "3 -0.389074  0.412952 -0.027909  0.095470\n",
              "4  1.220602 -0.120762 -0.518225 -1.854641\n",
              "5  0.309349 -0.547258  0.275698 -1.428558\n",
              "6 -0.980278  0.127807  0.472437 -0.078289\n",
              "7 -0.697157  1.227232 -2.234462 -2.125219\n",
              "8 -0.499588  0.325278 -0.115824 -0.188390\n",
              "9  0.571902 -1.489632 -1.294566  0.633125"
            ]
          },
          "metadata": {
            "tags": []
          },
          "execution_count": 37
        }
      ]
    },
    {
      "cell_type": "code",
      "metadata": {
        "colab": {
          "base_uri": "https://localhost:8080/",
          "height": 142
        },
        "id": "waAKypyLQCeG",
        "outputId": "d1e4f23e-cf49-4b6f-985d-68786c698749"
      },
      "source": [
        "df[:3]"
      ],
      "execution_count": 38,
      "outputs": [
        {
          "output_type": "execute_result",
          "data": {
            "text/html": [
              "<div>\n",
              "<style scoped>\n",
              "    .dataframe tbody tr th:only-of-type {\n",
              "        vertical-align: middle;\n",
              "    }\n",
              "\n",
              "    .dataframe tbody tr th {\n",
              "        vertical-align: top;\n",
              "    }\n",
              "\n",
              "    .dataframe thead th {\n",
              "        text-align: right;\n",
              "    }\n",
              "</style>\n",
              "<table border=\"1\" class=\"dataframe\">\n",
              "  <thead>\n",
              "    <tr style=\"text-align: right;\">\n",
              "      <th></th>\n",
              "      <th>0</th>\n",
              "      <th>1</th>\n",
              "      <th>2</th>\n",
              "      <th>3</th>\n",
              "    </tr>\n",
              "  </thead>\n",
              "  <tbody>\n",
              "    <tr>\n",
              "      <th>0</th>\n",
              "      <td>-0.877479</td>\n",
              "      <td>-0.220667</td>\n",
              "      <td>0.255268</td>\n",
              "      <td>-0.878500</td>\n",
              "    </tr>\n",
              "    <tr>\n",
              "      <th>1</th>\n",
              "      <td>0.624406</td>\n",
              "      <td>0.293041</td>\n",
              "      <td>-0.649870</td>\n",
              "      <td>0.711650</td>\n",
              "    </tr>\n",
              "    <tr>\n",
              "      <th>2</th>\n",
              "      <td>-0.989663</td>\n",
              "      <td>0.236217</td>\n",
              "      <td>0.582543</td>\n",
              "      <td>2.055141</td>\n",
              "    </tr>\n",
              "  </tbody>\n",
              "</table>\n",
              "</div>"
            ],
            "text/plain": [
              "          0         1         2         3\n",
              "0 -0.877479 -0.220667  0.255268 -0.878500\n",
              "1  0.624406  0.293041 -0.649870  0.711650\n",
              "2 -0.989663  0.236217  0.582543  2.055141"
            ]
          },
          "metadata": {
            "tags": []
          },
          "execution_count": 38
        }
      ]
    },
    {
      "cell_type": "code",
      "metadata": {
        "colab": {
          "base_uri": "https://localhost:8080/",
          "height": 173
        },
        "id": "8Ni_JaWFQJ-W",
        "outputId": "f2b6922f-09e4-4a85-b532-d2a7b1a52612"
      },
      "source": [
        "df[3:7]"
      ],
      "execution_count": 39,
      "outputs": [
        {
          "output_type": "execute_result",
          "data": {
            "text/html": [
              "<div>\n",
              "<style scoped>\n",
              "    .dataframe tbody tr th:only-of-type {\n",
              "        vertical-align: middle;\n",
              "    }\n",
              "\n",
              "    .dataframe tbody tr th {\n",
              "        vertical-align: top;\n",
              "    }\n",
              "\n",
              "    .dataframe thead th {\n",
              "        text-align: right;\n",
              "    }\n",
              "</style>\n",
              "<table border=\"1\" class=\"dataframe\">\n",
              "  <thead>\n",
              "    <tr style=\"text-align: right;\">\n",
              "      <th></th>\n",
              "      <th>0</th>\n",
              "      <th>1</th>\n",
              "      <th>2</th>\n",
              "      <th>3</th>\n",
              "    </tr>\n",
              "  </thead>\n",
              "  <tbody>\n",
              "    <tr>\n",
              "      <th>3</th>\n",
              "      <td>-0.389074</td>\n",
              "      <td>0.412952</td>\n",
              "      <td>-0.027909</td>\n",
              "      <td>0.095470</td>\n",
              "    </tr>\n",
              "    <tr>\n",
              "      <th>4</th>\n",
              "      <td>1.220602</td>\n",
              "      <td>-0.120762</td>\n",
              "      <td>-0.518225</td>\n",
              "      <td>-1.854641</td>\n",
              "    </tr>\n",
              "    <tr>\n",
              "      <th>5</th>\n",
              "      <td>0.309349</td>\n",
              "      <td>-0.547258</td>\n",
              "      <td>0.275698</td>\n",
              "      <td>-1.428558</td>\n",
              "    </tr>\n",
              "    <tr>\n",
              "      <th>6</th>\n",
              "      <td>-0.980278</td>\n",
              "      <td>0.127807</td>\n",
              "      <td>0.472437</td>\n",
              "      <td>-0.078289</td>\n",
              "    </tr>\n",
              "  </tbody>\n",
              "</table>\n",
              "</div>"
            ],
            "text/plain": [
              "          0         1         2         3\n",
              "3 -0.389074  0.412952 -0.027909  0.095470\n",
              "4  1.220602 -0.120762 -0.518225 -1.854641\n",
              "5  0.309349 -0.547258  0.275698 -1.428558\n",
              "6 -0.980278  0.127807  0.472437 -0.078289"
            ]
          },
          "metadata": {
            "tags": []
          },
          "execution_count": 39
        }
      ]
    },
    {
      "cell_type": "code",
      "metadata": {
        "colab": {
          "base_uri": "https://localhost:8080/",
          "height": 142
        },
        "id": "9iPar3esQWal",
        "outputId": "8985e84e-618f-485d-fca9-f075cef8fe72"
      },
      "source": [
        "df[7:]"
      ],
      "execution_count": 40,
      "outputs": [
        {
          "output_type": "execute_result",
          "data": {
            "text/html": [
              "<div>\n",
              "<style scoped>\n",
              "    .dataframe tbody tr th:only-of-type {\n",
              "        vertical-align: middle;\n",
              "    }\n",
              "\n",
              "    .dataframe tbody tr th {\n",
              "        vertical-align: top;\n",
              "    }\n",
              "\n",
              "    .dataframe thead th {\n",
              "        text-align: right;\n",
              "    }\n",
              "</style>\n",
              "<table border=\"1\" class=\"dataframe\">\n",
              "  <thead>\n",
              "    <tr style=\"text-align: right;\">\n",
              "      <th></th>\n",
              "      <th>0</th>\n",
              "      <th>1</th>\n",
              "      <th>2</th>\n",
              "      <th>3</th>\n",
              "    </tr>\n",
              "  </thead>\n",
              "  <tbody>\n",
              "    <tr>\n",
              "      <th>7</th>\n",
              "      <td>-0.697157</td>\n",
              "      <td>1.227232</td>\n",
              "      <td>-2.234462</td>\n",
              "      <td>-2.125219</td>\n",
              "    </tr>\n",
              "    <tr>\n",
              "      <th>8</th>\n",
              "      <td>-0.499588</td>\n",
              "      <td>0.325278</td>\n",
              "      <td>-0.115824</td>\n",
              "      <td>-0.188390</td>\n",
              "    </tr>\n",
              "    <tr>\n",
              "      <th>9</th>\n",
              "      <td>0.571902</td>\n",
              "      <td>-1.489632</td>\n",
              "      <td>-1.294566</td>\n",
              "      <td>0.633125</td>\n",
              "    </tr>\n",
              "  </tbody>\n",
              "</table>\n",
              "</div>"
            ],
            "text/plain": [
              "          0         1         2         3\n",
              "7 -0.697157  1.227232 -2.234462 -2.125219\n",
              "8 -0.499588  0.325278 -0.115824 -0.188390\n",
              "9  0.571902 -1.489632 -1.294566  0.633125"
            ]
          },
          "metadata": {
            "tags": []
          },
          "execution_count": 40
        }
      ]
    },
    {
      "cell_type": "code",
      "metadata": {
        "id": "83sfBTlTQYem"
      },
      "source": [
        "pieces = [df[:3], df[3:7], df[7:]]"
      ],
      "execution_count": 41,
      "outputs": []
    },
    {
      "cell_type": "code",
      "metadata": {
        "colab": {
          "base_uri": "https://localhost:8080/"
        },
        "id": "7i-d-b1hQfcF",
        "outputId": "4cc80267-f7e5-4b2f-d1de-b674340a227d"
      },
      "source": [
        "pieces"
      ],
      "execution_count": 42,
      "outputs": [
        {
          "output_type": "execute_result",
          "data": {
            "text/plain": [
              "[          0         1         2         3\n",
              " 0 -0.877479 -0.220667  0.255268 -0.878500\n",
              " 1  0.624406  0.293041 -0.649870  0.711650\n",
              " 2 -0.989663  0.236217  0.582543  2.055141,\n",
              "           0         1         2         3\n",
              " 3 -0.389074  0.412952 -0.027909  0.095470\n",
              " 4  1.220602 -0.120762 -0.518225 -1.854641\n",
              " 5  0.309349 -0.547258  0.275698 -1.428558\n",
              " 6 -0.980278  0.127807  0.472437 -0.078289,\n",
              "           0         1         2         3\n",
              " 7 -0.697157  1.227232 -2.234462 -2.125219\n",
              " 8 -0.499588  0.325278 -0.115824 -0.188390\n",
              " 9  0.571902 -1.489632 -1.294566  0.633125]"
            ]
          },
          "metadata": {
            "tags": []
          },
          "execution_count": 42
        }
      ]
    },
    {
      "cell_type": "code",
      "metadata": {
        "colab": {
          "base_uri": "https://localhost:8080/",
          "height": 142
        },
        "id": "rw096zhVQg11",
        "outputId": "d91865b8-02cc-4e0f-ca1b-ac4a2d522bad"
      },
      "source": [
        "pieces[0]"
      ],
      "execution_count": 43,
      "outputs": [
        {
          "output_type": "execute_result",
          "data": {
            "text/html": [
              "<div>\n",
              "<style scoped>\n",
              "    .dataframe tbody tr th:only-of-type {\n",
              "        vertical-align: middle;\n",
              "    }\n",
              "\n",
              "    .dataframe tbody tr th {\n",
              "        vertical-align: top;\n",
              "    }\n",
              "\n",
              "    .dataframe thead th {\n",
              "        text-align: right;\n",
              "    }\n",
              "</style>\n",
              "<table border=\"1\" class=\"dataframe\">\n",
              "  <thead>\n",
              "    <tr style=\"text-align: right;\">\n",
              "      <th></th>\n",
              "      <th>0</th>\n",
              "      <th>1</th>\n",
              "      <th>2</th>\n",
              "      <th>3</th>\n",
              "    </tr>\n",
              "  </thead>\n",
              "  <tbody>\n",
              "    <tr>\n",
              "      <th>0</th>\n",
              "      <td>-0.877479</td>\n",
              "      <td>-0.220667</td>\n",
              "      <td>0.255268</td>\n",
              "      <td>-0.878500</td>\n",
              "    </tr>\n",
              "    <tr>\n",
              "      <th>1</th>\n",
              "      <td>0.624406</td>\n",
              "      <td>0.293041</td>\n",
              "      <td>-0.649870</td>\n",
              "      <td>0.711650</td>\n",
              "    </tr>\n",
              "    <tr>\n",
              "      <th>2</th>\n",
              "      <td>-0.989663</td>\n",
              "      <td>0.236217</td>\n",
              "      <td>0.582543</td>\n",
              "      <td>2.055141</td>\n",
              "    </tr>\n",
              "  </tbody>\n",
              "</table>\n",
              "</div>"
            ],
            "text/plain": [
              "          0         1         2         3\n",
              "0 -0.877479 -0.220667  0.255268 -0.878500\n",
              "1  0.624406  0.293041 -0.649870  0.711650\n",
              "2 -0.989663  0.236217  0.582543  2.055141"
            ]
          },
          "metadata": {
            "tags": []
          },
          "execution_count": 43
        }
      ]
    },
    {
      "cell_type": "code",
      "metadata": {
        "colab": {
          "base_uri": "https://localhost:8080/",
          "height": 359
        },
        "id": "4eMqMyW1Qo4V",
        "outputId": "8c7e9d75-5675-4c39-ce60-7392f8bcfc6d"
      },
      "source": [
        "pd.concat(pieces)\n"
      ],
      "execution_count": 46,
      "outputs": [
        {
          "output_type": "execute_result",
          "data": {
            "text/html": [
              "<div>\n",
              "<style scoped>\n",
              "    .dataframe tbody tr th:only-of-type {\n",
              "        vertical-align: middle;\n",
              "    }\n",
              "\n",
              "    .dataframe tbody tr th {\n",
              "        vertical-align: top;\n",
              "    }\n",
              "\n",
              "    .dataframe thead th {\n",
              "        text-align: right;\n",
              "    }\n",
              "</style>\n",
              "<table border=\"1\" class=\"dataframe\">\n",
              "  <thead>\n",
              "    <tr style=\"text-align: right;\">\n",
              "      <th></th>\n",
              "      <th>0</th>\n",
              "      <th>1</th>\n",
              "      <th>2</th>\n",
              "      <th>3</th>\n",
              "    </tr>\n",
              "  </thead>\n",
              "  <tbody>\n",
              "    <tr>\n",
              "      <th>0</th>\n",
              "      <td>-0.877479</td>\n",
              "      <td>-0.220667</td>\n",
              "      <td>0.255268</td>\n",
              "      <td>-0.878500</td>\n",
              "    </tr>\n",
              "    <tr>\n",
              "      <th>1</th>\n",
              "      <td>0.624406</td>\n",
              "      <td>0.293041</td>\n",
              "      <td>-0.649870</td>\n",
              "      <td>0.711650</td>\n",
              "    </tr>\n",
              "    <tr>\n",
              "      <th>2</th>\n",
              "      <td>-0.989663</td>\n",
              "      <td>0.236217</td>\n",
              "      <td>0.582543</td>\n",
              "      <td>2.055141</td>\n",
              "    </tr>\n",
              "    <tr>\n",
              "      <th>3</th>\n",
              "      <td>-0.389074</td>\n",
              "      <td>0.412952</td>\n",
              "      <td>-0.027909</td>\n",
              "      <td>0.095470</td>\n",
              "    </tr>\n",
              "    <tr>\n",
              "      <th>4</th>\n",
              "      <td>1.220602</td>\n",
              "      <td>-0.120762</td>\n",
              "      <td>-0.518225</td>\n",
              "      <td>-1.854641</td>\n",
              "    </tr>\n",
              "    <tr>\n",
              "      <th>5</th>\n",
              "      <td>0.309349</td>\n",
              "      <td>-0.547258</td>\n",
              "      <td>0.275698</td>\n",
              "      <td>-1.428558</td>\n",
              "    </tr>\n",
              "    <tr>\n",
              "      <th>6</th>\n",
              "      <td>-0.980278</td>\n",
              "      <td>0.127807</td>\n",
              "      <td>0.472437</td>\n",
              "      <td>-0.078289</td>\n",
              "    </tr>\n",
              "    <tr>\n",
              "      <th>7</th>\n",
              "      <td>-0.697157</td>\n",
              "      <td>1.227232</td>\n",
              "      <td>-2.234462</td>\n",
              "      <td>-2.125219</td>\n",
              "    </tr>\n",
              "    <tr>\n",
              "      <th>8</th>\n",
              "      <td>-0.499588</td>\n",
              "      <td>0.325278</td>\n",
              "      <td>-0.115824</td>\n",
              "      <td>-0.188390</td>\n",
              "    </tr>\n",
              "    <tr>\n",
              "      <th>9</th>\n",
              "      <td>0.571902</td>\n",
              "      <td>-1.489632</td>\n",
              "      <td>-1.294566</td>\n",
              "      <td>0.633125</td>\n",
              "    </tr>\n",
              "  </tbody>\n",
              "</table>\n",
              "</div>"
            ],
            "text/plain": [
              "          0         1         2         3\n",
              "0 -0.877479 -0.220667  0.255268 -0.878500\n",
              "1  0.624406  0.293041 -0.649870  0.711650\n",
              "2 -0.989663  0.236217  0.582543  2.055141\n",
              "3 -0.389074  0.412952 -0.027909  0.095470\n",
              "4  1.220602 -0.120762 -0.518225 -1.854641\n",
              "5  0.309349 -0.547258  0.275698 -1.428558\n",
              "6 -0.980278  0.127807  0.472437 -0.078289\n",
              "7 -0.697157  1.227232 -2.234462 -2.125219\n",
              "8 -0.499588  0.325278 -0.115824 -0.188390\n",
              "9  0.571902 -1.489632 -1.294566  0.633125"
            ]
          },
          "metadata": {
            "tags": []
          },
          "execution_count": 46
        }
      ]
    },
    {
      "cell_type": "code",
      "metadata": {
        "id": "4jBxxo-HQ6n1"
      },
      "source": [
        "left = pd.DataFrame(\n",
        "    {\n",
        "        'key':['foo', 'foo'], \n",
        "        'lval': [1, 2]\n",
        "     }\n",
        "    )\n",
        "\n",
        "right = pd.DataFrame({'key':['foo', 'foo'], 'rval': [4, 5]})"
      ],
      "execution_count": 48,
      "outputs": []
    },
    {
      "cell_type": "code",
      "metadata": {
        "colab": {
          "base_uri": "https://localhost:8080/",
          "height": 111
        },
        "id": "Qogjo2k1RIXF",
        "outputId": "58fbc0ab-4e1a-409f-a01a-fa6cff90ab2c"
      },
      "source": [
        "left"
      ],
      "execution_count": 51,
      "outputs": [
        {
          "output_type": "execute_result",
          "data": {
            "text/html": [
              "<div>\n",
              "<style scoped>\n",
              "    .dataframe tbody tr th:only-of-type {\n",
              "        vertical-align: middle;\n",
              "    }\n",
              "\n",
              "    .dataframe tbody tr th {\n",
              "        vertical-align: top;\n",
              "    }\n",
              "\n",
              "    .dataframe thead th {\n",
              "        text-align: right;\n",
              "    }\n",
              "</style>\n",
              "<table border=\"1\" class=\"dataframe\">\n",
              "  <thead>\n",
              "    <tr style=\"text-align: right;\">\n",
              "      <th></th>\n",
              "      <th>key</th>\n",
              "      <th>lval</th>\n",
              "    </tr>\n",
              "  </thead>\n",
              "  <tbody>\n",
              "    <tr>\n",
              "      <th>0</th>\n",
              "      <td>foo</td>\n",
              "      <td>1</td>\n",
              "    </tr>\n",
              "    <tr>\n",
              "      <th>1</th>\n",
              "      <td>foo</td>\n",
              "      <td>2</td>\n",
              "    </tr>\n",
              "  </tbody>\n",
              "</table>\n",
              "</div>"
            ],
            "text/plain": [
              "   key  lval\n",
              "0  foo     1\n",
              "1  foo     2"
            ]
          },
          "metadata": {
            "tags": []
          },
          "execution_count": 51
        }
      ]
    },
    {
      "cell_type": "code",
      "metadata": {
        "colab": {
          "base_uri": "https://localhost:8080/",
          "height": 111
        },
        "id": "LFzu8FxjeiBk",
        "outputId": "d89fd511-b975-428a-bd76-f6d944ceaa43"
      },
      "source": [
        "right"
      ],
      "execution_count": 52,
      "outputs": [
        {
          "output_type": "execute_result",
          "data": {
            "text/html": [
              "<div>\n",
              "<style scoped>\n",
              "    .dataframe tbody tr th:only-of-type {\n",
              "        vertical-align: middle;\n",
              "    }\n",
              "\n",
              "    .dataframe tbody tr th {\n",
              "        vertical-align: top;\n",
              "    }\n",
              "\n",
              "    .dataframe thead th {\n",
              "        text-align: right;\n",
              "    }\n",
              "</style>\n",
              "<table border=\"1\" class=\"dataframe\">\n",
              "  <thead>\n",
              "    <tr style=\"text-align: right;\">\n",
              "      <th></th>\n",
              "      <th>key</th>\n",
              "      <th>rval</th>\n",
              "    </tr>\n",
              "  </thead>\n",
              "  <tbody>\n",
              "    <tr>\n",
              "      <th>0</th>\n",
              "      <td>foo</td>\n",
              "      <td>4</td>\n",
              "    </tr>\n",
              "    <tr>\n",
              "      <th>1</th>\n",
              "      <td>foo</td>\n",
              "      <td>5</td>\n",
              "    </tr>\n",
              "  </tbody>\n",
              "</table>\n",
              "</div>"
            ],
            "text/plain": [
              "   key  rval\n",
              "0  foo     4\n",
              "1  foo     5"
            ]
          },
          "metadata": {
            "tags": []
          },
          "execution_count": 52
        }
      ]
    },
    {
      "cell_type": "code",
      "metadata": {
        "colab": {
          "base_uri": "https://localhost:8080/",
          "height": 173
        },
        "id": "So22Y526eo4h",
        "outputId": "ae4e8518-ac6c-4ace-ff57-167f5bcc043e"
      },
      "source": [
        "pd.merge(left, right, on = 'key')"
      ],
      "execution_count": 53,
      "outputs": [
        {
          "output_type": "execute_result",
          "data": {
            "text/html": [
              "<div>\n",
              "<style scoped>\n",
              "    .dataframe tbody tr th:only-of-type {\n",
              "        vertical-align: middle;\n",
              "    }\n",
              "\n",
              "    .dataframe tbody tr th {\n",
              "        vertical-align: top;\n",
              "    }\n",
              "\n",
              "    .dataframe thead th {\n",
              "        text-align: right;\n",
              "    }\n",
              "</style>\n",
              "<table border=\"1\" class=\"dataframe\">\n",
              "  <thead>\n",
              "    <tr style=\"text-align: right;\">\n",
              "      <th></th>\n",
              "      <th>key</th>\n",
              "      <th>lval</th>\n",
              "      <th>rval</th>\n",
              "    </tr>\n",
              "  </thead>\n",
              "  <tbody>\n",
              "    <tr>\n",
              "      <th>0</th>\n",
              "      <td>foo</td>\n",
              "      <td>1</td>\n",
              "      <td>4</td>\n",
              "    </tr>\n",
              "    <tr>\n",
              "      <th>1</th>\n",
              "      <td>foo</td>\n",
              "      <td>1</td>\n",
              "      <td>5</td>\n",
              "    </tr>\n",
              "    <tr>\n",
              "      <th>2</th>\n",
              "      <td>foo</td>\n",
              "      <td>2</td>\n",
              "      <td>4</td>\n",
              "    </tr>\n",
              "    <tr>\n",
              "      <th>3</th>\n",
              "      <td>foo</td>\n",
              "      <td>2</td>\n",
              "      <td>5</td>\n",
              "    </tr>\n",
              "  </tbody>\n",
              "</table>\n",
              "</div>"
            ],
            "text/plain": [
              "   key  lval  rval\n",
              "0  foo     1     4\n",
              "1  foo     1     5\n",
              "2  foo     2     4\n",
              "3  foo     2     5"
            ]
          },
          "metadata": {
            "tags": []
          },
          "execution_count": 53
        }
      ]
    },
    {
      "cell_type": "code",
      "metadata": {
        "id": "nEPYdCc0ex8h"
      },
      "source": [
        "df = pd.DataFrame(np.random.randn(8, 4), columns=['A', 'B', 'C', 'D'])"
      ],
      "execution_count": 54,
      "outputs": []
    },
    {
      "cell_type": "code",
      "metadata": {
        "colab": {
          "base_uri": "https://localhost:8080/",
          "height": 297
        },
        "id": "DJvzseuHfDSB",
        "outputId": "df158537-7026-47b6-f2c2-83547aac5eb3"
      },
      "source": [
        "df"
      ],
      "execution_count": 55,
      "outputs": [
        {
          "output_type": "execute_result",
          "data": {
            "text/html": [
              "<div>\n",
              "<style scoped>\n",
              "    .dataframe tbody tr th:only-of-type {\n",
              "        vertical-align: middle;\n",
              "    }\n",
              "\n",
              "    .dataframe tbody tr th {\n",
              "        vertical-align: top;\n",
              "    }\n",
              "\n",
              "    .dataframe thead th {\n",
              "        text-align: right;\n",
              "    }\n",
              "</style>\n",
              "<table border=\"1\" class=\"dataframe\">\n",
              "  <thead>\n",
              "    <tr style=\"text-align: right;\">\n",
              "      <th></th>\n",
              "      <th>A</th>\n",
              "      <th>B</th>\n",
              "      <th>C</th>\n",
              "      <th>D</th>\n",
              "    </tr>\n",
              "  </thead>\n",
              "  <tbody>\n",
              "    <tr>\n",
              "      <th>0</th>\n",
              "      <td>1.829506</td>\n",
              "      <td>-2.353043</td>\n",
              "      <td>-0.802626</td>\n",
              "      <td>-0.230529</td>\n",
              "    </tr>\n",
              "    <tr>\n",
              "      <th>1</th>\n",
              "      <td>0.626381</td>\n",
              "      <td>-1.672578</td>\n",
              "      <td>0.427060</td>\n",
              "      <td>1.113743</td>\n",
              "    </tr>\n",
              "    <tr>\n",
              "      <th>2</th>\n",
              "      <td>1.358404</td>\n",
              "      <td>-1.536888</td>\n",
              "      <td>-0.843258</td>\n",
              "      <td>-0.289436</td>\n",
              "    </tr>\n",
              "    <tr>\n",
              "      <th>3</th>\n",
              "      <td>1.672577</td>\n",
              "      <td>0.265938</td>\n",
              "      <td>-0.393797</td>\n",
              "      <td>0.325804</td>\n",
              "    </tr>\n",
              "    <tr>\n",
              "      <th>4</th>\n",
              "      <td>0.391413</td>\n",
              "      <td>-0.517078</td>\n",
              "      <td>0.851649</td>\n",
              "      <td>-0.692163</td>\n",
              "    </tr>\n",
              "    <tr>\n",
              "      <th>5</th>\n",
              "      <td>0.011777</td>\n",
              "      <td>-1.914320</td>\n",
              "      <td>-0.326266</td>\n",
              "      <td>0.121055</td>\n",
              "    </tr>\n",
              "    <tr>\n",
              "      <th>6</th>\n",
              "      <td>-1.568267</td>\n",
              "      <td>1.533008</td>\n",
              "      <td>2.872717</td>\n",
              "      <td>-0.040717</td>\n",
              "    </tr>\n",
              "    <tr>\n",
              "      <th>7</th>\n",
              "      <td>-0.573262</td>\n",
              "      <td>-1.952312</td>\n",
              "      <td>-0.117867</td>\n",
              "      <td>-0.745035</td>\n",
              "    </tr>\n",
              "  </tbody>\n",
              "</table>\n",
              "</div>"
            ],
            "text/plain": [
              "          A         B         C         D\n",
              "0  1.829506 -2.353043 -0.802626 -0.230529\n",
              "1  0.626381 -1.672578  0.427060  1.113743\n",
              "2  1.358404 -1.536888 -0.843258 -0.289436\n",
              "3  1.672577  0.265938 -0.393797  0.325804\n",
              "4  0.391413 -0.517078  0.851649 -0.692163\n",
              "5  0.011777 -1.914320 -0.326266  0.121055\n",
              "6 -1.568267  1.533008  2.872717 -0.040717\n",
              "7 -0.573262 -1.952312 -0.117867 -0.745035"
            ]
          },
          "metadata": {
            "tags": []
          },
          "execution_count": 55
        }
      ]
    },
    {
      "cell_type": "code",
      "metadata": {
        "id": "EY8aDj7wfD9B"
      },
      "source": [
        "s = df.iloc[3]"
      ],
      "execution_count": 56,
      "outputs": []
    },
    {
      "cell_type": "code",
      "metadata": {
        "colab": {
          "base_uri": "https://localhost:8080/"
        },
        "id": "ImP4tll_fILg",
        "outputId": "c0e866f0-20e6-444b-eab3-a4de83b87cbc"
      },
      "source": [
        "s"
      ],
      "execution_count": 57,
      "outputs": [
        {
          "output_type": "execute_result",
          "data": {
            "text/plain": [
              "A    1.672577\n",
              "B    0.265938\n",
              "C   -0.393797\n",
              "D    0.325804\n",
              "Name: 3, dtype: float64"
            ]
          },
          "metadata": {
            "tags": []
          },
          "execution_count": 57
        }
      ]
    },
    {
      "cell_type": "code",
      "metadata": {
        "colab": {
          "base_uri": "https://localhost:8080/",
          "height": 328
        },
        "id": "_qg4I8VOfIjx",
        "outputId": "8df8b3be-a942-4f44-ba9b-7d1cc1ccf6e2"
      },
      "source": [
        "df.append(s, ignore_index=True)"
      ],
      "execution_count": 59,
      "outputs": [
        {
          "output_type": "execute_result",
          "data": {
            "text/html": [
              "<div>\n",
              "<style scoped>\n",
              "    .dataframe tbody tr th:only-of-type {\n",
              "        vertical-align: middle;\n",
              "    }\n",
              "\n",
              "    .dataframe tbody tr th {\n",
              "        vertical-align: top;\n",
              "    }\n",
              "\n",
              "    .dataframe thead th {\n",
              "        text-align: right;\n",
              "    }\n",
              "</style>\n",
              "<table border=\"1\" class=\"dataframe\">\n",
              "  <thead>\n",
              "    <tr style=\"text-align: right;\">\n",
              "      <th></th>\n",
              "      <th>A</th>\n",
              "      <th>B</th>\n",
              "      <th>C</th>\n",
              "      <th>D</th>\n",
              "    </tr>\n",
              "  </thead>\n",
              "  <tbody>\n",
              "    <tr>\n",
              "      <th>0</th>\n",
              "      <td>1.829506</td>\n",
              "      <td>-2.353043</td>\n",
              "      <td>-0.802626</td>\n",
              "      <td>-0.230529</td>\n",
              "    </tr>\n",
              "    <tr>\n",
              "      <th>1</th>\n",
              "      <td>0.626381</td>\n",
              "      <td>-1.672578</td>\n",
              "      <td>0.427060</td>\n",
              "      <td>1.113743</td>\n",
              "    </tr>\n",
              "    <tr>\n",
              "      <th>2</th>\n",
              "      <td>1.358404</td>\n",
              "      <td>-1.536888</td>\n",
              "      <td>-0.843258</td>\n",
              "      <td>-0.289436</td>\n",
              "    </tr>\n",
              "    <tr>\n",
              "      <th>3</th>\n",
              "      <td>1.672577</td>\n",
              "      <td>0.265938</td>\n",
              "      <td>-0.393797</td>\n",
              "      <td>0.325804</td>\n",
              "    </tr>\n",
              "    <tr>\n",
              "      <th>4</th>\n",
              "      <td>0.391413</td>\n",
              "      <td>-0.517078</td>\n",
              "      <td>0.851649</td>\n",
              "      <td>-0.692163</td>\n",
              "    </tr>\n",
              "    <tr>\n",
              "      <th>5</th>\n",
              "      <td>0.011777</td>\n",
              "      <td>-1.914320</td>\n",
              "      <td>-0.326266</td>\n",
              "      <td>0.121055</td>\n",
              "    </tr>\n",
              "    <tr>\n",
              "      <th>6</th>\n",
              "      <td>-1.568267</td>\n",
              "      <td>1.533008</td>\n",
              "      <td>2.872717</td>\n",
              "      <td>-0.040717</td>\n",
              "    </tr>\n",
              "    <tr>\n",
              "      <th>7</th>\n",
              "      <td>-0.573262</td>\n",
              "      <td>-1.952312</td>\n",
              "      <td>-0.117867</td>\n",
              "      <td>-0.745035</td>\n",
              "    </tr>\n",
              "    <tr>\n",
              "      <th>8</th>\n",
              "      <td>1.672577</td>\n",
              "      <td>0.265938</td>\n",
              "      <td>-0.393797</td>\n",
              "      <td>0.325804</td>\n",
              "    </tr>\n",
              "  </tbody>\n",
              "</table>\n",
              "</div>"
            ],
            "text/plain": [
              "          A         B         C         D\n",
              "0  1.829506 -2.353043 -0.802626 -0.230529\n",
              "1  0.626381 -1.672578  0.427060  1.113743\n",
              "2  1.358404 -1.536888 -0.843258 -0.289436\n",
              "3  1.672577  0.265938 -0.393797  0.325804\n",
              "4  0.391413 -0.517078  0.851649 -0.692163\n",
              "5  0.011777 -1.914320 -0.326266  0.121055\n",
              "6 -1.568267  1.533008  2.872717 -0.040717\n",
              "7 -0.573262 -1.952312 -0.117867 -0.745035\n",
              "8  1.672577  0.265938 -0.393797  0.325804"
            ]
          },
          "metadata": {
            "tags": []
          },
          "execution_count": 59
        }
      ]
    },
    {
      "cell_type": "code",
      "metadata": {
        "id": "B4T5l74gfRPR"
      },
      "source": [
        ""
      ],
      "execution_count": null,
      "outputs": []
    }
  ]
}