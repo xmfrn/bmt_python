{
  "nbformat": 4,
  "nbformat_minor": 0,
  "metadata": {
    "colab": {
      "name": "실습과제01.ipynb",
      "provenance": [],
      "authorship_tag": "ABX9TyOKtIURXy3/SlFt9NI7MNdU",
      "include_colab_link": true
    },
    "kernelspec": {
      "name": "python3",
      "display_name": "Python 3"
    }
  },
  "cells": [
    {
      "cell_type": "markdown",
      "metadata": {
        "id": "view-in-github",
        "colab_type": "text"
      },
      "source": [
        "<a href=\"https://colab.research.google.com/github/xmfrn/bmt_python/blob/main/%EC%8B%A4%EC%8A%B5%EA%B3%BC%EC%A0%9C01.ipynb\" target=\"_parent\"><img src=\"https://colab.research.google.com/assets/colab-badge.svg\" alt=\"Open In Colab\"/></a>"
      ]
    },
    {
      "cell_type": "markdown",
      "metadata": {
        "id": "4qTbIiwJ0-ZR"
      },
      "source": [
        "## 파이썬 기본 학습"
      ]
    },
    {
      "cell_type": "code",
      "metadata": {
        "id": "Lq7lGl1q0XV0"
      },
      "source": [
        "# 입력 출력 연산자\r\n",
        "names = ['정밀' , '폴리' , '산설' , '메카' , '로봇' , '전기']"
      ],
      "execution_count": 24,
      "outputs": []
    },
    {
      "cell_type": "code",
      "metadata": {
        "colab": {
          "base_uri": "https://localhost:8080/"
        },
        "id": "eRqBGWuS6mx2",
        "outputId": "357a67d6-7adf-4d99-e7a6-1cca65fc60cd"
      },
      "source": [
        "names"
      ],
      "execution_count": 25,
      "outputs": [
        {
          "output_type": "execute_result",
          "data": {
            "text/plain": [
              "['정밀', '폴리', '산설', '메카', '로봇', '전기']"
            ]
          },
          "metadata": {
            "tags": []
          },
          "execution_count": 25
        }
      ]
    },
    {
      "cell_type": "code",
      "metadata": {
        "colab": {
          "base_uri": "https://localhost:8080/",
          "height": 35
        },
        "id": "ZaM6aOK26pMm",
        "outputId": "e0559c20-50f5-4e9e-cf90-b51f8cd57528"
      },
      "source": [
        "names[-1]"
      ],
      "execution_count": 26,
      "outputs": [
        {
          "output_type": "execute_result",
          "data": {
            "application/vnd.google.colaboratory.intrinsic+json": {
              "type": "string"
            },
            "text/plain": [
              "'전기'"
            ]
          },
          "metadata": {
            "tags": []
          },
          "execution_count": 26
        }
      ]
    },
    {
      "cell_type": "code",
      "metadata": {
        "colab": {
          "base_uri": "https://localhost:8080/",
          "height": 35
        },
        "id": "f1fpxzEr7Bku",
        "outputId": "cb6e878a-21a2-45a6-e74f-d80727bad31a"
      },
      "source": [
        "names[5]"
      ],
      "execution_count": 27,
      "outputs": [
        {
          "output_type": "execute_result",
          "data": {
            "application/vnd.google.colaboratory.intrinsic+json": {
              "type": "string"
            },
            "text/plain": [
              "'전기'"
            ]
          },
          "metadata": {
            "tags": []
          },
          "execution_count": 27
        }
      ]
    },
    {
      "cell_type": "code",
      "metadata": {
        "id": "A_I_jKEz9vYM"
      },
      "source": [
        "names . append ('부산기계')"
      ],
      "execution_count": 30,
      "outputs": []
    },
    {
      "cell_type": "code",
      "metadata": {
        "colab": {
          "base_uri": "https://localhost:8080/"
        },
        "id": "IEI-A7PN90_9",
        "outputId": "d30aeb70-5627-4a05-a8b5-90fc3fecf747"
      },
      "source": [
        "for name in names:\r\n",
        "    if '정' in name:\r\n",
        "      print('기계과' ,name+'과')\r\n",
        "    if '폴' in name:\r\n",
        "      print('기계과' ,name+'과')\r\n",
        "    if '산' in name:\r\n",
        "      print('기계과' ,name+'과')\r\n",
        "    if '메' in name:\r\n",
        "      print('전자기계과' ,name+'과')\r\n",
        "    if '로' in name:\r\n",
        "      print('전자기계과' ,name+'과')\r\n",
        "    if '전' in name:\r\n",
        "      print('전기과' ,name+'과')"
      ],
      "execution_count": 35,
      "outputs": [
        {
          "output_type": "stream",
          "text": [
            "기계과 정밀과\n",
            "기계과 폴리과\n",
            "기계과 산설과\n",
            "전자기계과 메카과\n",
            "전자기계과 로봇과\n",
            "전기과 전기과\n",
            "기계과 부산기계과\n"
          ],
          "name": "stdout"
        }
      ]
    },
    {
      "cell_type": "code",
      "metadata": {
        "colab": {
          "base_uri": "https://localhost:8080/"
        },
        "id": "HE6J9I5z-QHc",
        "outputId": "7a8ce913-80dd-4d99-8c54-74311b361201"
      },
      "source": [
        "print(20**3)"
      ],
      "execution_count": 37,
      "outputs": [
        {
          "output_type": "stream",
          "text": [
            "8000\n"
          ],
          "name": "stdout"
        }
      ]
    },
    {
      "cell_type": "code",
      "metadata": {
        "colab": {
          "base_uri": "https://localhost:8080/"
        },
        "id": "4bWNrHPCBF4U",
        "outputId": "b7983306-9a26-4ba8-c4b3-0de52ca45e4d"
      },
      "source": [
        "print('hellow word')"
      ],
      "execution_count": 38,
      "outputs": [
        {
          "output_type": "stream",
          "text": [
            "hellow word\n"
          ],
          "name": "stdout"
        }
      ]
    },
    {
      "cell_type": "code",
      "metadata": {
        "colab": {
          "base_uri": "https://localhost:8080/"
        },
        "id": "C4GVWni3BQCE",
        "outputId": "224d58d2-9fcd-4352-c935-eb4f9ef3347a"
      },
      "source": [
        "school = '부산기계공고'\r\n",
        "print(school)\r\n",
        "\r\n",
        "a=215\r\n",
        "print(a)\r\n",
        "\r\n",
        "name = '전기과'\r\n",
        "print(name+'화이팅!!!')\r\n",
        "\r\n",
        "\r\n"
      ],
      "execution_count": 39,
      "outputs": [
        {
          "output_type": "stream",
          "text": [
            "부산기계공고\n",
            "215\n",
            "전기과화이팅!!!\n"
          ],
          "name": "stdout"
        }
      ]
    },
    {
      "cell_type": "code",
      "metadata": {
        "colab": {
          "base_uri": "https://localhost:8080/"
        },
        "id": "ff0NaT11B41s",
        "outputId": "6d3fa0e8-3afd-487c-c76a-bbe14234bab7"
      },
      "source": [
        "print(f'2021학년도 {name} 화이팅!!!')"
      ],
      "execution_count": 41,
      "outputs": [
        {
          "output_type": "stream",
          "text": [
            "2021학년도 전기과 화이팅!!!\n"
          ],
          "name": "stdout"
        }
      ]
    },
    {
      "cell_type": "code",
      "metadata": {
        "colab": {
          "base_uri": "https://localhost:8080/"
        },
        "id": "8uMcetreCHAM",
        "outputId": "a7276e54-39ab-406f-c72c-3ea3be7257d3"
      },
      "source": [
        "name = input()\r\n",
        "\r\n",
        "print(name + '님! 안녕하세요!')"
      ],
      "execution_count": 43,
      "outputs": [
        {
          "output_type": "stream",
          "text": [
            "ㅇㅇ\n",
            "ㅇㅇ님! 안녕하세요!\n"
          ],
          "name": "stdout"
        }
      ]
    },
    {
      "cell_type": "code",
      "metadata": {
        "colab": {
          "base_uri": "https://localhost:8080/"
        },
        "id": "Ax8WzogkCVt9",
        "outputId": "2acc9d25-5b8c-4bc4-bcc4-2eb66e191ff9"
      },
      "source": [
        "name = input('이름을 입력해 주세요: ')\r\n",
        "print(name+ '안녕하세요')"
      ],
      "execution_count": 45,
      "outputs": [
        {
          "output_type": "stream",
          "text": [
            "이름을 입력해 주세요: 김민규\n",
            "김민규안녕하세요\n"
          ],
          "name": "stdout"
        }
      ]
    },
    {
      "cell_type": "code",
      "metadata": {
        "colab": {
          "base_uri": "https://localhost:8080/"
        },
        "id": "a77YigAuCuTl",
        "outputId": "ee57a4a7-ea45-4f4b-c358-939dae8a5d06"
      },
      "source": [
        "age = int( input('나이 입력:'))\r\n",
        "print(age-1)"
      ],
      "execution_count": 47,
      "outputs": [
        {
          "output_type": "stream",
          "text": [
            "나이 입력:17\n",
            "16\n"
          ],
          "name": "stdout"
        }
      ]
    },
    {
      "cell_type": "code",
      "metadata": {
        "colab": {
          "base_uri": "https://localhost:8080/"
        },
        "id": "FICCBRU6DPS8",
        "outputId": "2364b7a5-a455-411e-c13b-949b7f26dcd2"
      },
      "source": [
        "key = 'abcd'\r\n",
        "password = input ('암호입력(4글자) : ')\r\n",
        "\r\n",
        "if key == password:\r\n",
        "  print(\"암호해제\")\r\n",
        "else :\r\n",
        "  print(\"다시입력\")"
      ],
      "execution_count": 48,
      "outputs": [
        {
          "output_type": "stream",
          "text": [
            "암호입력(4글자) : abcd\n",
            "암호해제\n"
          ],
          "name": "stdout"
        }
      ]
    },
    {
      "cell_type": "code",
      "metadata": {
        "id": "TcWawYx4D5AN"
      },
      "source": [
        ""
      ],
      "execution_count": null,
      "outputs": []
    }
  ]
}