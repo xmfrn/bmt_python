{
  "nbformat": 4,
  "nbformat_minor": 0,
  "metadata": {
    "colab": {
      "name": "21506_5주차 실습.ipynb",
      "provenance": [],
      "collapsed_sections": [],
      "authorship_tag": "ABX9TyPTXsJbGNzWv++oe9lZ64zM",
      "include_colab_link": true
    },
    "kernelspec": {
      "name": "python3",
      "display_name": "Python 3"
    },
    "language_info": {
      "name": "python"
    }
  },
  "cells": [
    {
      "cell_type": "markdown",
      "metadata": {
        "id": "view-in-github",
        "colab_type": "text"
      },
      "source": [
        "<a href=\"https://colab.research.google.com/github/xmfrn/bmt_python/blob/main/21506_5%EC%A3%BC%EC%B0%A8_%EC%8B%A4%EC%8A%B5.ipynb\" target=\"_parent\"><img src=\"https://colab.research.google.com/assets/colab-badge.svg\" alt=\"Open In Colab\"/></a>"
      ]
    },
    {
      "cell_type": "code",
      "metadata": {
        "id": "UMw-1yxh1gVK"
      },
      "source": [
        "corona = '''\n",
        "코로나(corona)는 라틴말로 왕관을 뜻하며 통상 태양을 둘러싼 외곽의 빛(광환)을 지칭한다.\n",
        "코로나 바이러스라는 이름은 전자현미경으로 이 바이러스를 관찰했을 때 마치 코로나와 유사한 모양을 띠어 붙여진 이름이다.\n",
        "이번에 중국의 우환에서 시작된 코로나 바이러스는 2019년에 발견된 새로운 코로나 바이러스라는 뜻으로 2019-nCov로 붙여졌다.\n",
        "nCov는 novel(새로운) Cov(코로나 바이러스)라는 뜻이다.\n",
        "'''"
      ],
      "execution_count": 1,
      "outputs": []
    },
    {
      "cell_type": "code",
      "metadata": {
        "colab": {
          "base_uri": "https://localhost:8080/",
          "height": 53
        },
        "id": "tA6eGOuo2Jxf",
        "outputId": "b5adc94d-f03a-421b-8bf5-eeabb30ced66"
      },
      "source": [
        "corona"
      ],
      "execution_count": 2,
      "outputs": [
        {
          "output_type": "execute_result",
          "data": {
            "application/vnd.google.colaboratory.intrinsic+json": {
              "type": "string"
            },
            "text/plain": [
              "'\\n코로나(corona)는 라틴말로 왕관을 뜻하며 통상 태양을 둘러싼 외곽의 빛(광환)을 지칭한다.\\n코로나 바이러스라는 이름은 전자현미경으로 이 바이러스를 관찰했을 때 마치 코로나와 유사한 모양을 띠어 붙여진 이름이다.\\n이번에 중국의 우환에서 시작된 코로나 바이러스는 2019년에 발견된 새로운 코로나 바이러스라는 뜻으로 2019-nCov로 붙여졌다.\\nnCov는 novel(새로운) Cov(코로나 바이러스)라는 뜻이다.\\n'"
            ]
          },
          "metadata": {
            "tags": []
          },
          "execution_count": 2
        }
      ]
    },
    {
      "cell_type": "code",
      "metadata": {
        "colab": {
          "base_uri": "https://localhost:8080/"
        },
        "id": "9Jx-ZC8H2Nnn",
        "outputId": "2e9d2d35-d1c4-4b5b-d98e-8b7c22fabf5b"
      },
      "source": [
        "print('-'*50)"
      ],
      "execution_count": 3,
      "outputs": [
        {
          "output_type": "stream",
          "text": [
            "--------------------------------------------------\n"
          ],
          "name": "stdout"
        }
      ]
    },
    {
      "cell_type": "code",
      "metadata": {
        "id": "TV1fuS9H3e1e"
      },
      "source": [
        "sentence = corona.count('.')"
      ],
      "execution_count": 4,
      "outputs": []
    },
    {
      "cell_type": "code",
      "metadata": {
        "colab": {
          "base_uri": "https://localhost:8080/"
        },
        "id": "JlcQ3QUy34um",
        "outputId": "1c791318-0f92-424e-a1da-6c6b9b2e8ec6"
      },
      "source": [
        "print(f'{sentence} 개의 문장으로 이루어짐')"
      ],
      "execution_count": 5,
      "outputs": [
        {
          "output_type": "stream",
          "text": [
            "4 개의 문장으로 이루어짐\n"
          ],
          "name": "stdout"
        }
      ]
    },
    {
      "cell_type": "code",
      "metadata": {
        "colab": {
          "base_uri": "https://localhost:8080/",
          "height": 53
        },
        "id": "kSxkwQxi37h2",
        "outputId": "204da981-fac4-40c1-b6e4-01cd4131c39d"
      },
      "source": [
        "temp = corona. replace('\\n', '')\n",
        "temp"
      ],
      "execution_count": 9,
      "outputs": [
        {
          "output_type": "execute_result",
          "data": {
            "application/vnd.google.colaboratory.intrinsic+json": {
              "type": "string"
            },
            "text/plain": [
              "'코로나(corona)는 라틴말로 왕관을 뜻하며 통상 태양을 둘러싼 외곽의 빛(광환)을 지칭한다.코로나 바이러스라는 이름은 전자현미경으로 이 바이러스를 관찰했을 때 마치 코로나와 유사한 모양을 띠어 붙여진 이름이다.이번에 중국의 우환에서 시작된 코로나 바이러스는 2019년에 발견된 새로운 코로나 바이러스라는 뜻으로 2019-nCov로 붙여졌다.nCov는 novel(새로운) Cov(코로나 바이러스)라는 뜻이다.'"
            ]
          },
          "metadata": {
            "tags": []
          },
          "execution_count": 9
        }
      ]
    },
    {
      "cell_type": "code",
      "metadata": {
        "colab": {
          "base_uri": "https://localhost:8080/"
        },
        "id": "VZkvWqD74V7F",
        "outputId": "71e03be4-62cd-4d52-b7b2-a85f91d10339"
      },
      "source": [
        "corona.replace('\\n','').split('.')"
      ],
      "execution_count": 11,
      "outputs": [
        {
          "output_type": "execute_result",
          "data": {
            "text/plain": [
              "['코로나(corona)는 라틴말로 왕관을 뜻하며 통상 태양을 둘러싼 외곽의 빛(광환)을 지칭한다',\n",
              " '코로나 바이러스라는 이름은 전자현미경으로 이 바이러스를 관찰했을 때 마치 코로나와 유사한 모양을 띠어 붙여진 이름이다',\n",
              " '이번에 중국의 우환에서 시작된 코로나 바이러스는 2019년에 발견된 새로운 코로나 바이러스라는 뜻으로 2019-nCov로 붙여졌다',\n",
              " 'nCov는 novel(새로운) Cov(코로나 바이러스)라는 뜻이다',\n",
              " '']"
            ]
          },
          "metadata": {
            "tags": []
          },
          "execution_count": 11
        }
      ]
    },
    {
      "cell_type": "code",
      "metadata": {
        "colab": {
          "base_uri": "https://localhost:8080/"
        },
        "id": "PGjWzNlx4Xsu",
        "outputId": "87c2f6ef-8629-4f0e-855b-be835a3b0b8d"
      },
      "source": [
        "str_word = input('찾으려는 단어 입력')"
      ],
      "execution_count": 12,
      "outputs": [
        {
          "output_type": "stream",
          "text": [
            "찾으려는 단어 입력ㅇㅇ\n"
          ],
          "name": "stdout"
        }
      ]
    },
    {
      "cell_type": "code",
      "metadata": {
        "colab": {
          "base_uri": "https://localhost:8080/"
        },
        "id": "crZwE9f15bp9",
        "outputId": "6e4ffb76-c87b-4fca-e0a1-bb73ce5512d8"
      },
      "source": [
        "corona = '''\n",
        "코로나(corona)는 라틴말로 왕관을 뜻하며 통상 태양을 둘러싼 외곽의 빛(광환)을 지칭한다.\n",
        "코로나 바이러스라는 이름은 전자현미경으로 이 바이러스를 관찰했을 때 마치 코로나와 유사한 모양을 띠어 붙여진 이름이다.\n",
        "이번에 중국의 우환에서 시작된 코로나 바이러스는 2019년에 발견된 새로운 코로나 바이러스라는 뜻으로 2019-nCov로 붙여졌다.\n",
        "nCov는 novel(새로운) Cov(코로나 바이러스)라는 뜻이다.\n",
        "'''\n",
        "print('-'*50)\n",
        "sentence = corona.count('.')\n",
        "print(f'{sentence} 개의 문장으로 이루어짐')\n",
        "print(corona.replace('\\n','').split('.'))\n",
        "\n",
        "print()\n",
        "\n",
        "print('-'*50)\n",
        "str = input('찾으려는 단어를 입력하시요 : ')\n",
        "cnt = corona.count(str)\n",
        "print(f\"'{str}'(은/는) {cnt} 번 언급됨\")"
      ],
      "execution_count": 13,
      "outputs": [
        {
          "output_type": "stream",
          "text": [
            "--------------------------------------------------\n",
            "4 개의 문장으로 이루어짐\n",
            "['코로나(corona)는 라틴말로 왕관을 뜻하며 통상 태양을 둘러싼 외곽의 빛(광환)을 지칭한다', '코로나 바이러스라는 이름은 전자현미경으로 이 바이러스를 관찰했을 때 마치 코로나와 유사한 모양을 띠어 붙여진 이름이다', '이번에 중국의 우환에서 시작된 코로나 바이러스는 2019년에 발견된 새로운 코로나 바이러스라는 뜻으로 2019-nCov로 붙여졌다', 'nCov는 novel(새로운) Cov(코로나 바이러스)라는 뜻이다', '']\n",
            "\n",
            "--------------------------------------------------\n",
            "찾으려는 단어를 입력하시요 : 코로나\n",
            "'코로나'(은/는) 6 번 언급됨\n"
          ],
          "name": "stdout"
        }
      ]
    },
    {
      "cell_type": "code",
      "metadata": {
        "colab": {
          "base_uri": "https://localhost:8080/"
        },
        "id": "fuyf0s5-5ij2",
        "outputId": "5ed32ccd-4ce4-40db-ed3f-34cd792baf09"
      },
      "source": [
        "lyrics = '''\n",
        "Brave Girls\n",
        "You ready?\n",
        "그 날을 잊지 못해 baby\n",
        "날 보며 환히 웃던 너의 미소에\n",
        "홀린 듯 I'm fall in love\n",
        "But 너무 쪽팔림에 (난 그저)\n",
        "한마디 말도 못 해 baby\n",
        "I wanna you-u-u-u\n",
        "너의 눈빛은 날 자꾸 니 곁을 맴돌게 해\n",
        "Just only you-u-u-u\n",
        "굳게 닫힌 내 맘이 어느새 무너져버려 because of you\n",
        "온통 너의 생각뿐이야, 나도 미치겠어\n",
        "너무 보고 싶어 매일, 매일, 매일\n",
        "자꾸 초라해지잖아, 내 모습이\n",
        "그대여 내게 말해줘 사랑한다고\n",
        "Rollin' rollin' rollin' (hey)\n",
        "Rollin' rollin' rollin' (hey)\n",
        "Rollin' rollin' rollin'\n",
        "하루가 멀다 하고 rolling in the deep\n",
        "Rollin' rollin' rollin' (hey)\n",
        "Rollin' rollin' rollin' (hey)\n",
        "기다리고 있잖아 baby\n",
        "Just only you\n",
        "기다리고 있잖아 baby\n",
        "Just only you\n",
        "Hey, I just wanna be with you\n",
        "오늘 밤이 가기 전에\n",
        "I can't feel you 조금 더 다가와 줘\n",
        "Tonight I'm ready for you (yeah)\n",
        "You wanna touch me I know (I know)\n",
        "대체 뭘 고민해 빨리 안아\n",
        "아닌 척 모르는 척하다가\n",
        "늦게 놓치고 후회 말아\n",
        "I wanna you-u-u-u\n",
        "너의 눈빛은 날 자꾸 니 곁을 맴돌게 해\n",
        "Just only you-u-u-u\n",
        "굳게 닫힌 내 맘이 어느새 무너져버려 because…\n",
        "'''\n",
        "\n",
        "song = lyrics.count('\\n')\n",
        "print(f'{song-1} 개의 문장으로 이루어짐')"
      ],
      "execution_count": 16,
      "outputs": [
        {
          "output_type": "stream",
          "text": [
            "37 개의 문장으로 이루어짐\n"
          ],
          "name": "stdout"
        }
      ]
    },
    {
      "cell_type": "code",
      "metadata": {
        "colab": {
          "base_uri": "https://localhost:8080/"
        },
        "id": "Raermzst7U1x",
        "outputId": "a1df3d9d-b5f0-450c-b517-5d8f7a068611"
      },
      "source": [
        "str = input('찾으려는 단어를 입력하세요 : ')\n",
        "cnt = lyrics.count(str)\n",
        "print(f\"'{str}'(은/는) {cnt} 번 언급됨.\")"
      ],
      "execution_count": 20,
      "outputs": [
        {
          "output_type": "stream",
          "text": [
            "찾으려는 단어를 입력하세요 : rollin\n",
            "'rollin'(은/는) 11 번 언급됨.\n"
          ],
          "name": "stdout"
        }
      ]
    },
    {
      "cell_type": "code",
      "metadata": {
        "colab": {
          "base_uri": "https://localhost:8080/"
        },
        "id": "1ShkrXtl7ouu",
        "outputId": "7d8d15da-8a8e-4cfc-e6c4-66ec2bec15c7"
      },
      "source": [
        "lst = []\n",
        "print(lst)"
      ],
      "execution_count": 22,
      "outputs": [
        {
          "output_type": "stream",
          "text": [
            "[]\n"
          ],
          "name": "stdout"
        }
      ]
    },
    {
      "cell_type": "code",
      "metadata": {
        "id": "-86T852Z76hG"
      },
      "source": [
        "lst=[10,20,30]"
      ],
      "execution_count": 23,
      "outputs": []
    },
    {
      "cell_type": "code",
      "metadata": {
        "colab": {
          "base_uri": "https://localhost:8080/"
        },
        "id": "nZPMsNru8hDu",
        "outputId": "43462f85-2f36-4d69-9785-e18f5336fdd3"
      },
      "source": [
        "print(lst)"
      ],
      "execution_count": 24,
      "outputs": [
        {
          "output_type": "stream",
          "text": [
            "[10, 20, 30]\n"
          ],
          "name": "stdout"
        }
      ]
    },
    {
      "cell_type": "code",
      "metadata": {
        "colab": {
          "base_uri": "https://localhost:8080/"
        },
        "id": "iicyFVJU8jx9",
        "outputId": "361474cd-1cd1-4b56-b4cd-17cdc2218583"
      },
      "source": [
        "lst2 = [10,20,30]\n",
        "lst2"
      ],
      "execution_count": 25,
      "outputs": [
        {
          "output_type": "execute_result",
          "data": {
            "text/plain": [
              "[10, 20, 30]"
            ]
          },
          "metadata": {
            "tags": []
          },
          "execution_count": 25
        }
      ]
    },
    {
      "cell_type": "code",
      "metadata": {
        "id": "uCvAItk38rqN"
      },
      "source": [
        "lst=lst2"
      ],
      "execution_count": 26,
      "outputs": []
    },
    {
      "cell_type": "code",
      "metadata": {
        "id": "d63Kyx8A8uQG"
      },
      "source": [
        "lst2[0]= 100"
      ],
      "execution_count": 27,
      "outputs": []
    },
    {
      "cell_type": "code",
      "metadata": {
        "colab": {
          "base_uri": "https://localhost:8080/"
        },
        "id": "AKdKH2pX8zmW",
        "outputId": "27af49a9-1b0c-4809-eee4-a221dca478cf"
      },
      "source": [
        "lst"
      ],
      "execution_count": 28,
      "outputs": [
        {
          "output_type": "execute_result",
          "data": {
            "text/plain": [
              "[100, 20, 30]"
            ]
          },
          "metadata": {
            "tags": []
          },
          "execution_count": 28
        }
      ]
    },
    {
      "cell_type": "code",
      "metadata": {
        "id": "YXz6fiyc80-H"
      },
      "source": [
        "lst = lst2.copy()"
      ],
      "execution_count": 29,
      "outputs": []
    },
    {
      "cell_type": "code",
      "metadata": {
        "colab": {
          "base_uri": "https://localhost:8080/"
        },
        "id": "KU99G9N787jO",
        "outputId": "8989526a-f96f-44d9-c07b-cfe05b22188d"
      },
      "source": [
        "lst2"
      ],
      "execution_count": 30,
      "outputs": [
        {
          "output_type": "execute_result",
          "data": {
            "text/plain": [
              "[100, 20, 30]"
            ]
          },
          "metadata": {
            "tags": []
          },
          "execution_count": 30
        }
      ]
    },
    {
      "cell_type": "code",
      "metadata": {
        "colab": {
          "base_uri": "https://localhost:8080/"
        },
        "id": "Swq1N87p89Qf",
        "outputId": "36183ca5-c93b-44b0-d360-b80ba059193a"
      },
      "source": [
        "lst"
      ],
      "execution_count": 31,
      "outputs": [
        {
          "output_type": "execute_result",
          "data": {
            "text/plain": [
              "[100, 20, 30]"
            ]
          },
          "metadata": {
            "tags": []
          },
          "execution_count": 31
        }
      ]
    },
    {
      "cell_type": "code",
      "metadata": {
        "id": "CMdgq8gP8-Pd"
      },
      "source": [
        "lst2[0] = 10"
      ],
      "execution_count": 32,
      "outputs": []
    },
    {
      "cell_type": "code",
      "metadata": {
        "colab": {
          "base_uri": "https://localhost:8080/"
        },
        "id": "yzSBnOKg9BrX",
        "outputId": "48bd7bac-b282-4a66-cef3-cfd711ef4a98"
      },
      "source": [
        "lst2"
      ],
      "execution_count": 33,
      "outputs": [
        {
          "output_type": "execute_result",
          "data": {
            "text/plain": [
              "[10, 20, 30]"
            ]
          },
          "metadata": {
            "tags": []
          },
          "execution_count": 33
        }
      ]
    },
    {
      "cell_type": "code",
      "metadata": {
        "colab": {
          "base_uri": "https://localhost:8080/"
        },
        "id": "T3WnhQyy9Ci-",
        "outputId": "95d48b7a-7e7c-4f70-ee40-a45cbd610d8c"
      },
      "source": [
        "lst"
      ],
      "execution_count": 34,
      "outputs": [
        {
          "output_type": "execute_result",
          "data": {
            "text/plain": [
              "[100, 20, 30]"
            ]
          },
          "metadata": {
            "tags": []
          },
          "execution_count": 34
        }
      ]
    },
    {
      "cell_type": "code",
      "metadata": {
        "id": "Gn9yEMns9EBW"
      },
      "source": [
        "lst[0] = 10"
      ],
      "execution_count": 35,
      "outputs": []
    },
    {
      "cell_type": "code",
      "metadata": {
        "colab": {
          "base_uri": "https://localhost:8080/"
        },
        "id": "WK5jgd-D9G6l",
        "outputId": "78af71c4-ba71-4dfe-c940-c2d0a379579a"
      },
      "source": [
        "lst[0]"
      ],
      "execution_count": 36,
      "outputs": [
        {
          "output_type": "execute_result",
          "data": {
            "text/plain": [
              "10"
            ]
          },
          "metadata": {
            "tags": []
          },
          "execution_count": 36
        }
      ]
    },
    {
      "cell_type": "code",
      "metadata": {
        "colab": {
          "base_uri": "https://localhost:8080/"
        },
        "id": "ehpjqZlr9IpW",
        "outputId": "6269e329-95bb-4e7a-cdf7-e6b46e710ad6"
      },
      "source": [
        "lst[-1]"
      ],
      "execution_count": 37,
      "outputs": [
        {
          "output_type": "execute_result",
          "data": {
            "text/plain": [
              "30"
            ]
          },
          "metadata": {
            "tags": []
          },
          "execution_count": 37
        }
      ]
    },
    {
      "cell_type": "code",
      "metadata": {
        "colab": {
          "base_uri": "https://localhost:8080/"
        },
        "id": "0ZhtWpPY9Ka2",
        "outputId": "cef152a9-1fee-4826-fe4f-ccd1735955b5"
      },
      "source": [
        "lst[:]"
      ],
      "execution_count": 38,
      "outputs": [
        {
          "output_type": "execute_result",
          "data": {
            "text/plain": [
              "[10, 20, 30]"
            ]
          },
          "metadata": {
            "tags": []
          },
          "execution_count": 38
        }
      ]
    },
    {
      "cell_type": "code",
      "metadata": {
        "colab": {
          "base_uri": "https://localhost:8080/"
        },
        "id": "_gbbKaef9NQe",
        "outputId": "65407e1c-8744-4d9d-f09a-d3dac44ab9cd"
      },
      "source": [
        "lst[:2]"
      ],
      "execution_count": 39,
      "outputs": [
        {
          "output_type": "execute_result",
          "data": {
            "text/plain": [
              "[10, 20]"
            ]
          },
          "metadata": {
            "tags": []
          },
          "execution_count": 39
        }
      ]
    },
    {
      "cell_type": "code",
      "metadata": {
        "colab": {
          "base_uri": "https://localhost:8080/"
        },
        "id": "MUp9isbw9R22",
        "outputId": "fcbb2c6a-9108-4a3d-ca34-a0f73b1dce7c"
      },
      "source": [
        "lst[1:]"
      ],
      "execution_count": 40,
      "outputs": [
        {
          "output_type": "execute_result",
          "data": {
            "text/plain": [
              "[20, 30]"
            ]
          },
          "metadata": {
            "tags": []
          },
          "execution_count": 40
        }
      ]
    },
    {
      "cell_type": "code",
      "metadata": {
        "id": "CxL2G8mh9VpN"
      },
      "source": [
        "lst1= [10,20]\n",
        "lst2 = [100, 200]"
      ],
      "execution_count": 41,
      "outputs": []
    },
    {
      "cell_type": "code",
      "metadata": {
        "colab": {
          "base_uri": "https://localhost:8080/"
        },
        "id": "IwDaIk5P9h2e",
        "outputId": "477a55a2-6139-4c86-a9b1-6d1c81ba9535"
      },
      "source": [
        "lst3 = lst1 + lst2\n",
        "lst3"
      ],
      "execution_count": 42,
      "outputs": [
        {
          "output_type": "execute_result",
          "data": {
            "text/plain": [
              "[10, 20, 100, 200]"
            ]
          },
          "metadata": {
            "tags": []
          },
          "execution_count": 42
        }
      ]
    },
    {
      "cell_type": "code",
      "metadata": {
        "colab": {
          "base_uri": "https://localhost:8080/"
        },
        "id": "8vLFIa3g9nse",
        "outputId": "d2051f15-bfe8-44db-91f0-e48a324cf420"
      },
      "source": [
        "lst4 = lst3 * 3\n",
        "lst4"
      ],
      "execution_count": 43,
      "outputs": [
        {
          "output_type": "execute_result",
          "data": {
            "text/plain": [
              "[10, 20, 100, 200, 10, 20, 100, 200, 10, 20, 100, 200]"
            ]
          },
          "metadata": {
            "tags": []
          },
          "execution_count": 43
        }
      ]
    },
    {
      "cell_type": "code",
      "metadata": {
        "id": "zfAXv3Mj9y8n"
      },
      "source": [
        "lst = ['a', 'b', 'c']"
      ],
      "execution_count": 50,
      "outputs": []
    },
    {
      "cell_type": "code",
      "metadata": {
        "id": "l3lnJTeB9-QV"
      },
      "source": [
        "lst.append('d')"
      ],
      "execution_count": 51,
      "outputs": []
    },
    {
      "cell_type": "code",
      "metadata": {
        "colab": {
          "base_uri": "https://localhost:8080/"
        },
        "id": "iTk7xD40-c5O",
        "outputId": "b1b53dc3-ec06-4e86-e19d-ee5635ad5f62"
      },
      "source": [
        "lst"
      ],
      "execution_count": 52,
      "outputs": [
        {
          "output_type": "execute_result",
          "data": {
            "text/plain": [
              "['a', 'b', 'c', 'd']"
            ]
          },
          "metadata": {
            "tags": []
          },
          "execution_count": 52
        }
      ]
    },
    {
      "cell_type": "code",
      "metadata": {
        "id": "6LOTKu5d-ee2"
      },
      "source": [
        "lst.append(100)"
      ],
      "execution_count": 53,
      "outputs": []
    },
    {
      "cell_type": "code",
      "metadata": {
        "colab": {
          "base_uri": "https://localhost:8080/"
        },
        "id": "9TCPDQie-hHH",
        "outputId": "b4a7ce6a-c80f-440d-d815-79d2c57f3fd0"
      },
      "source": [
        "lst"
      ],
      "execution_count": 54,
      "outputs": [
        {
          "output_type": "execute_result",
          "data": {
            "text/plain": [
              "['a', 'b', 'c', 'd', 100]"
            ]
          },
          "metadata": {
            "tags": []
          },
          "execution_count": 54
        }
      ]
    },
    {
      "cell_type": "code",
      "metadata": {
        "colab": {
          "base_uri": "https://localhost:8080/"
        },
        "id": "jy2PzquJ-h--",
        "outputId": "a73f8f7d-db7b-4b6c-a158-1b2edf734c42"
      },
      "source": [
        "lst.pop"
      ],
      "execution_count": 55,
      "outputs": [
        {
          "output_type": "execute_result",
          "data": {
            "text/plain": [
              "<function list.pop>"
            ]
          },
          "metadata": {
            "tags": []
          },
          "execution_count": 55
        }
      ]
    },
    {
      "cell_type": "code",
      "metadata": {
        "colab": {
          "base_uri": "https://localhost:8080/"
        },
        "id": "aF4MQtT1-p8H",
        "outputId": "4c78b2dd-3f7d-4b40-e8ca-149d6c8b7c30"
      },
      "source": [
        "lst"
      ],
      "execution_count": 56,
      "outputs": [
        {
          "output_type": "execute_result",
          "data": {
            "text/plain": [
              "['a', 'b', 'c', 'd', 100]"
            ]
          },
          "metadata": {
            "tags": []
          },
          "execution_count": 56
        }
      ]
    },
    {
      "cell_type": "code",
      "metadata": {
        "colab": {
          "base_uri": "https://localhost:8080/"
        },
        "id": "brMyQMOk-rUP",
        "outputId": "ea671484-3c92-48a2-e8db-6752ee275b93"
      },
      "source": [
        "lst.pop()"
      ],
      "execution_count": 57,
      "outputs": [
        {
          "output_type": "execute_result",
          "data": {
            "text/plain": [
              "100"
            ]
          },
          "metadata": {
            "tags": []
          },
          "execution_count": 57
        }
      ]
    },
    {
      "cell_type": "code",
      "metadata": {
        "colab": {
          "base_uri": "https://localhost:8080/"
        },
        "id": "XifknrA3-t92",
        "outputId": "843c9c04-162d-4460-a3d8-95bc56912faa"
      },
      "source": [
        "lst"
      ],
      "execution_count": 58,
      "outputs": [
        {
          "output_type": "execute_result",
          "data": {
            "text/plain": [
              "['a', 'b', 'c', 'd']"
            ]
          },
          "metadata": {
            "tags": []
          },
          "execution_count": 58
        }
      ]
    },
    {
      "cell_type": "code",
      "metadata": {
        "colab": {
          "base_uri": "https://localhost:8080/",
          "height": 35
        },
        "id": "OcBFUw0c-vot",
        "outputId": "ea934f84-b984-49f6-df57-cb2c43f98a05"
      },
      "source": [
        "lst.pop()"
      ],
      "execution_count": 59,
      "outputs": [
        {
          "output_type": "execute_result",
          "data": {
            "application/vnd.google.colaboratory.intrinsic+json": {
              "type": "string"
            },
            "text/plain": [
              "'d'"
            ]
          },
          "metadata": {
            "tags": []
          },
          "execution_count": 59
        }
      ]
    },
    {
      "cell_type": "code",
      "metadata": {
        "colab": {
          "base_uri": "https://localhost:8080/"
        },
        "id": "JUbUPnGg-3lG",
        "outputId": "54da1cfc-9468-4337-859f-d283fc4744c6"
      },
      "source": [
        "lst"
      ],
      "execution_count": 60,
      "outputs": [
        {
          "output_type": "execute_result",
          "data": {
            "text/plain": [
              "['a', 'b', 'c']"
            ]
          },
          "metadata": {
            "tags": []
          },
          "execution_count": 60
        }
      ]
    },
    {
      "cell_type": "code",
      "metadata": {
        "colab": {
          "base_uri": "https://localhost:8080/"
        },
        "id": "6VRByKoN-4Tm",
        "outputId": "405ca856-6596-4ca5-8b0f-6ce32ceedfa9"
      },
      "source": [
        "lst"
      ],
      "execution_count": 61,
      "outputs": [
        {
          "output_type": "execute_result",
          "data": {
            "text/plain": [
              "['a', 'b', 'c']"
            ]
          },
          "metadata": {
            "tags": []
          },
          "execution_count": 61
        }
      ]
    },
    {
      "cell_type": "code",
      "metadata": {
        "colab": {
          "base_uri": "https://localhost:8080/"
        },
        "id": "8TcvbSgx-7QO",
        "outputId": "3681f39f-7777-4d62-bd3e-ef130cf7ecb1"
      },
      "source": [
        "lst.index('a')"
      ],
      "execution_count": 62,
      "outputs": [
        {
          "output_type": "execute_result",
          "data": {
            "text/plain": [
              "0"
            ]
          },
          "metadata": {
            "tags": []
          },
          "execution_count": 62
        }
      ]
    },
    {
      "cell_type": "code",
      "metadata": {
        "colab": {
          "base_uri": "https://localhost:8080/",
          "height": 35
        },
        "id": "yOJpzDKl_DiP",
        "outputId": "b9349481-1ff5-461e-f6db-39c048f68092"
      },
      "source": [
        "lst[1]"
      ],
      "execution_count": 64,
      "outputs": [
        {
          "output_type": "execute_result",
          "data": {
            "application/vnd.google.colaboratory.intrinsic+json": {
              "type": "string"
            },
            "text/plain": [
              "'b'"
            ]
          },
          "metadata": {
            "tags": []
          },
          "execution_count": 64
        }
      ]
    },
    {
      "cell_type": "code",
      "metadata": {
        "id": "VIg_y8td_MEN"
      },
      "source": [
        "lst = ['c', 'a', 'b']"
      ],
      "execution_count": 65,
      "outputs": []
    },
    {
      "cell_type": "code",
      "metadata": {
        "id": "V9WviZeeB4Im"
      },
      "source": [
        "lst.sort()"
      ],
      "execution_count": 66,
      "outputs": []
    },
    {
      "cell_type": "code",
      "metadata": {
        "colab": {
          "base_uri": "https://localhost:8080/"
        },
        "id": "wmURRjDZB6RA",
        "outputId": "a3f63270-f8fe-40be-c3b0-026713c76c33"
      },
      "source": [
        "lst"
      ],
      "execution_count": 67,
      "outputs": [
        {
          "output_type": "execute_result",
          "data": {
            "text/plain": [
              "['a', 'b', 'c']"
            ]
          },
          "metadata": {
            "tags": []
          },
          "execution_count": 67
        }
      ]
    },
    {
      "cell_type": "code",
      "metadata": {
        "id": "e9wPyEcLB7VX"
      },
      "source": [
        "lst.sort(reverse=True)"
      ],
      "execution_count": 69,
      "outputs": []
    },
    {
      "cell_type": "code",
      "metadata": {
        "colab": {
          "base_uri": "https://localhost:8080/"
        },
        "id": "Tzor3zxqCp3Q",
        "outputId": "d189b1a3-0538-46a0-d8e4-3074af7d17a2"
      },
      "source": [
        "lst"
      ],
      "execution_count": 70,
      "outputs": [
        {
          "output_type": "execute_result",
          "data": {
            "text/plain": [
              "['c', 'b', 'a']"
            ]
          },
          "metadata": {
            "tags": []
          },
          "execution_count": 70
        }
      ]
    },
    {
      "cell_type": "code",
      "metadata": {
        "id": "tj7FnWeICtFu"
      },
      "source": [
        "lst = ['c','a','b']\n",
        "lst.reverse()"
      ],
      "execution_count": 72,
      "outputs": []
    },
    {
      "cell_type": "code",
      "metadata": {
        "colab": {
          "base_uri": "https://localhost:8080/"
        },
        "id": "KMdHslvyC8HF",
        "outputId": "e0236df2-b346-4331-962c-d59f49db99d9"
      },
      "source": [
        "lst"
      ],
      "execution_count": 73,
      "outputs": [
        {
          "output_type": "execute_result",
          "data": {
            "text/plain": [
              "['b', 'a', 'c']"
            ]
          },
          "metadata": {
            "tags": []
          },
          "execution_count": 73
        }
      ]
    },
    {
      "cell_type": "code",
      "metadata": {
        "id": "YEB8WiVJC_IO"
      },
      "source": [
        "tp = (10,20,30)"
      ],
      "execution_count": 74,
      "outputs": []
    },
    {
      "cell_type": "code",
      "metadata": {
        "colab": {
          "base_uri": "https://localhost:8080/"
        },
        "id": "p_F7dhHUDUEe",
        "outputId": "0d02e496-f112-4486-c006-9b74f16f8bbd"
      },
      "source": [
        "tp[-1]"
      ],
      "execution_count": 76,
      "outputs": [
        {
          "output_type": "execute_result",
          "data": {
            "text/plain": [
              "30"
            ]
          },
          "metadata": {
            "tags": []
          },
          "execution_count": 76
        }
      ]
    },
    {
      "cell_type": "code",
      "metadata": {
        "colab": {
          "base_uri": "https://localhost:8080/"
        },
        "id": "wr9BpO96DVz1",
        "outputId": "34e26d21-3c70-4141-f566-5d6979467e18"
      },
      "source": [
        "tp[1:]"
      ],
      "execution_count": 77,
      "outputs": [
        {
          "output_type": "execute_result",
          "data": {
            "text/plain": [
              "(20, 30)"
            ]
          },
          "metadata": {
            "tags": []
          },
          "execution_count": 77
        }
      ]
    },
    {
      "cell_type": "code",
      "metadata": {
        "id": "sLEAKRFhDalN"
      },
      "source": [
        "tp1 = (10,20)\n",
        "tp2 = (30,40)"
      ],
      "execution_count": 78,
      "outputs": []
    },
    {
      "cell_type": "code",
      "metadata": {
        "colab": {
          "base_uri": "https://localhost:8080/"
        },
        "id": "d5JtoNqfDg_P",
        "outputId": "45626c08-c15b-457e-8775-ee5b985f0549"
      },
      "source": [
        "tp1"
      ],
      "execution_count": 79,
      "outputs": [
        {
          "output_type": "execute_result",
          "data": {
            "text/plain": [
              "(10, 20)"
            ]
          },
          "metadata": {
            "tags": []
          },
          "execution_count": 79
        }
      ]
    },
    {
      "cell_type": "code",
      "metadata": {
        "colab": {
          "base_uri": "https://localhost:8080/"
        },
        "id": "VWwJlTBMDhuf",
        "outputId": "3f2ba141-a8f5-4075-c9cc-aeb291ec2c75"
      },
      "source": [
        "tp2"
      ],
      "execution_count": 80,
      "outputs": [
        {
          "output_type": "execute_result",
          "data": {
            "text/plain": [
              "(30, 40)"
            ]
          },
          "metadata": {
            "tags": []
          },
          "execution_count": 80
        }
      ]
    },
    {
      "cell_type": "code",
      "metadata": {
        "id": "qsFplvz9DjtR"
      },
      "source": [
        "tp3 = tp1 + tp2"
      ],
      "execution_count": 81,
      "outputs": []
    },
    {
      "cell_type": "code",
      "metadata": {
        "id": "Ny1nR5NbDqRo"
      },
      "source": [
        "tp4 = tp3 *3"
      ],
      "execution_count": 82,
      "outputs": []
    },
    {
      "cell_type": "code",
      "metadata": {
        "colab": {
          "base_uri": "https://localhost:8080/"
        },
        "id": "Us3x_YTADzVW",
        "outputId": "2eda23a7-99a3-42bb-eb50-d52a5729932c"
      },
      "source": [
        "tp4"
      ],
      "execution_count": 83,
      "outputs": [
        {
          "output_type": "execute_result",
          "data": {
            "text/plain": [
              "(10, 20, 30, 40, 10, 20, 30, 40, 10, 20, 30, 40)"
            ]
          },
          "metadata": {
            "tags": []
          },
          "execution_count": 83
        }
      ]
    },
    {
      "cell_type": "code",
      "metadata": {
        "id": "JH8QfVe6D19G"
      },
      "source": [
        "tpx, tpy, tpz = (10,20,30)"
      ],
      "execution_count": 88,
      "outputs": []
    },
    {
      "cell_type": "code",
      "metadata": {
        "colab": {
          "base_uri": "https://localhost:8080/"
        },
        "id": "JxKhinfeD7I-",
        "outputId": "d04c7fdc-ca63-44f0-f97b-8557c9eea477"
      },
      "source": [
        "tpx"
      ],
      "execution_count": 89,
      "outputs": [
        {
          "output_type": "execute_result",
          "data": {
            "text/plain": [
              "10"
            ]
          },
          "metadata": {
            "tags": []
          },
          "execution_count": 89
        }
      ]
    },
    {
      "cell_type": "code",
      "metadata": {
        "colab": {
          "base_uri": "https://localhost:8080/"
        },
        "id": "sCugxap5ELsA",
        "outputId": "8a4d9222-5adb-44cd-e3cc-55b20b4c4fc1"
      },
      "source": [
        "tpy"
      ],
      "execution_count": 90,
      "outputs": [
        {
          "output_type": "execute_result",
          "data": {
            "text/plain": [
              "20"
            ]
          },
          "metadata": {
            "tags": []
          },
          "execution_count": 90
        }
      ]
    },
    {
      "cell_type": "code",
      "metadata": {
        "colab": {
          "base_uri": "https://localhost:8080/"
        },
        "id": "Kte9B9YEEM1e",
        "outputId": "710dba9f-9536-46be-d63c-86ec8e2cffaa"
      },
      "source": [
        "tpz"
      ],
      "execution_count": 91,
      "outputs": [
        {
          "output_type": "execute_result",
          "data": {
            "text/plain": [
              "30"
            ]
          },
          "metadata": {
            "tags": []
          },
          "execution_count": 91
        }
      ]
    },
    {
      "cell_type": "code",
      "metadata": {
        "colab": {
          "base_uri": "https://localhost:8080/",
          "height": 190
        },
        "id": "S86gmnMgENpG",
        "outputId": "bae5754c-3e0d-45a8-84c0-b0007abafc6f"
      },
      "source": [
        "tp = (10, 20, 30)\n",
        "tp[0] = 100"
      ],
      "execution_count": 92,
      "outputs": [
        {
          "output_type": "error",
          "ename": "TypeError",
          "evalue": "ignored",
          "traceback": [
            "\u001b[0;31m---------------------------------------------------------------------------\u001b[0m",
            "\u001b[0;31mTypeError\u001b[0m                                 Traceback (most recent call last)",
            "\u001b[0;32m<ipython-input-92-e0dd4b638159>\u001b[0m in \u001b[0;36m<module>\u001b[0;34m()\u001b[0m\n\u001b[1;32m      1\u001b[0m \u001b[0mtp\u001b[0m \u001b[0;34m=\u001b[0m \u001b[0;34m(\u001b[0m\u001b[0;36m10\u001b[0m\u001b[0;34m,\u001b[0m \u001b[0;36m20\u001b[0m\u001b[0;34m,\u001b[0m \u001b[0;36m30\u001b[0m\u001b[0;34m)\u001b[0m\u001b[0;34m\u001b[0m\u001b[0;34m\u001b[0m\u001b[0m\n\u001b[0;32m----> 2\u001b[0;31m \u001b[0mtp\u001b[0m\u001b[0;34m[\u001b[0m\u001b[0;36m0\u001b[0m\u001b[0;34m]\u001b[0m \u001b[0;34m=\u001b[0m \u001b[0;36m100\u001b[0m\u001b[0;34m\u001b[0m\u001b[0;34m\u001b[0m\u001b[0m\n\u001b[0m",
            "\u001b[0;31mTypeError\u001b[0m: 'tuple' object does not support item assignment"
          ]
        }
      ]
    },
    {
      "cell_type": "code",
      "metadata": {
        "id": "AOujENX9EWvK"
      },
      "source": [
        "dt = {'a':200, 'b':150, 'c':100}"
      ],
      "execution_count": 101,
      "outputs": []
    },
    {
      "cell_type": "code",
      "metadata": {
        "colab": {
          "base_uri": "https://localhost:8080/"
        },
        "id": "q8cmmNSQFL3_",
        "outputId": "a006101a-0720-4009-8c44-2e330f23b2a3"
      },
      "source": [
        "dt.keys()"
      ],
      "execution_count": 102,
      "outputs": [
        {
          "output_type": "execute_result",
          "data": {
            "text/plain": [
              "dict_keys(['a', 'b', 'c'])"
            ]
          },
          "metadata": {
            "tags": []
          },
          "execution_count": 102
        }
      ]
    },
    {
      "cell_type": "code",
      "metadata": {
        "colab": {
          "base_uri": "https://localhost:8080/",
          "height": 172
        },
        "id": "FkgZ9mJ7FZLn",
        "outputId": "c3ffbc33-3570-40bd-96cd-df44e1104627"
      },
      "source": [
        "list(dt.values())"
      ],
      "execution_count": 106,
      "outputs": [
        {
          "output_type": "error",
          "ename": "TypeError",
          "evalue": "ignored",
          "traceback": [
            "\u001b[0;31m---------------------------------------------------------------------------\u001b[0m",
            "\u001b[0;31mTypeError\u001b[0m                                 Traceback (most recent call last)",
            "\u001b[0;32m<ipython-input-106-51cc56426c6d>\u001b[0m in \u001b[0;36m<module>\u001b[0;34m()\u001b[0m\n\u001b[0;32m----> 1\u001b[0;31m \u001b[0mlist\u001b[0m\u001b[0;34m(\u001b[0m\u001b[0mdt\u001b[0m\u001b[0;34m.\u001b[0m\u001b[0mvalues\u001b[0m\u001b[0;34m(\u001b[0m\u001b[0;34m)\u001b[0m\u001b[0;34m)\u001b[0m\u001b[0;34m\u001b[0m\u001b[0;34m\u001b[0m\u001b[0m\n\u001b[0m",
            "\u001b[0;31mTypeError\u001b[0m: 'list' object is not callable"
          ]
        }
      ]
    },
    {
      "cell_type": "code",
      "metadata": {
        "colab": {
          "base_uri": "https://localhost:8080/"
        },
        "id": "XSqFZ9NTFrDg",
        "outputId": "041bdc99-519a-4efa-804f-f090fff85e7a"
      },
      "source": [
        "dt.values()"
      ],
      "execution_count": 98,
      "outputs": [
        {
          "output_type": "execute_result",
          "data": {
            "text/plain": [
              "dict_values([200, 150, 100])"
            ]
          },
          "metadata": {
            "tags": []
          },
          "execution_count": 98
        }
      ]
    },
    {
      "cell_type": "code",
      "metadata": {
        "colab": {
          "base_uri": "https://localhost:8080/",
          "height": 172
        },
        "id": "vP0gDm7BF1se",
        "outputId": "dc27a3f4-159e-4452-b259-85f662eb7629"
      },
      "source": [
        "list (dt.values())"
      ],
      "execution_count": 108,
      "outputs": [
        {
          "output_type": "error",
          "ename": "TypeError",
          "evalue": "ignored",
          "traceback": [
            "\u001b[0;31m---------------------------------------------------------------------------\u001b[0m",
            "\u001b[0;31mTypeError\u001b[0m                                 Traceback (most recent call last)",
            "\u001b[0;32m<ipython-input-108-a41983ed64ca>\u001b[0m in \u001b[0;36m<module>\u001b[0;34m()\u001b[0m\n\u001b[0;32m----> 1\u001b[0;31m \u001b[0mlist\u001b[0m \u001b[0;34m(\u001b[0m\u001b[0mdt\u001b[0m\u001b[0;34m.\u001b[0m\u001b[0mvalues\u001b[0m\u001b[0;34m(\u001b[0m\u001b[0;34m)\u001b[0m\u001b[0;34m)\u001b[0m\u001b[0;34m\u001b[0m\u001b[0;34m\u001b[0m\u001b[0m\n\u001b[0m",
            "\u001b[0;31mTypeError\u001b[0m: 'list' object is not callable"
          ]
        }
      ]
    },
    {
      "cell_type": "code",
      "metadata": {
        "colab": {
          "base_uri": "https://localhost:8080/"
        },
        "id": "jXmREveWF65u",
        "outputId": "1d80ef56-b514-4a72-96bd-01ff6f973736"
      },
      "source": [
        "dt['d'] = 30\n",
        "\n",
        "print(dt)"
      ],
      "execution_count": 109,
      "outputs": [
        {
          "output_type": "stream",
          "text": [
            "{'a': 200, 'b': 150, 'c': 100, 'd': 30}\n"
          ],
          "name": "stdout"
        }
      ]
    },
    {
      "cell_type": "code",
      "metadata": {
        "colab": {
          "base_uri": "https://localhost:8080/"
        },
        "id": "a2-ngkBgGjp9",
        "outputId": "c900e5ea-2905-498b-afaf-a79e6dd97a22"
      },
      "source": [
        "del dt['b']\n",
        "\n",
        "print(dt)"
      ],
      "execution_count": 110,
      "outputs": [
        {
          "output_type": "stream",
          "text": [
            "{'a': 200, 'c': 100, 'd': 30}\n"
          ],
          "name": "stdout"
        }
      ]
    },
    {
      "cell_type": "code",
      "metadata": {
        "id": "yBV5Y2w-GmRd"
      },
      "source": [
        "a = (1,2,2,3)\n",
        "b = [10,20,30,30,]"
      ],
      "execution_count": 112,
      "outputs": []
    },
    {
      "cell_type": "code",
      "metadata": {
        "colab": {
          "base_uri": "https://localhost:8080/"
        },
        "id": "3LcOhXepHCrW",
        "outputId": "3eb1289d-08a0-4ec1-d053-cffd3c0ffb26"
      },
      "source": [
        "type(a), type(b)"
      ],
      "execution_count": 114,
      "outputs": [
        {
          "output_type": "execute_result",
          "data": {
            "text/plain": [
              "(tuple, list)"
            ]
          },
          "metadata": {
            "tags": []
          },
          "execution_count": 114
        }
      ]
    },
    {
      "cell_type": "code",
      "metadata": {
        "colab": {
          "base_uri": "https://localhost:8080/"
        },
        "id": "9FKefpa9HNcD",
        "outputId": "5fcb1bab-2048-470b-8311-20ffb49a7d30"
      },
      "source": [
        "a = set(a)\n",
        "a"
      ],
      "execution_count": 122,
      "outputs": [
        {
          "output_type": "execute_result",
          "data": {
            "text/plain": [
              "{1, 2, 3}"
            ]
          },
          "metadata": {
            "tags": []
          },
          "execution_count": 122
        }
      ]
    },
    {
      "cell_type": "code",
      "metadata": {
        "colab": {
          "base_uri": "https://localhost:8080/"
        },
        "id": "H0lOw45UHbGt",
        "outputId": "a34afeba-66e6-48d1-cb9a-4b8d5a87f176"
      },
      "source": [
        "type(c)"
      ],
      "execution_count": 116,
      "outputs": [
        {
          "output_type": "execute_result",
          "data": {
            "text/plain": [
              "set"
            ]
          },
          "metadata": {
            "tags": []
          },
          "execution_count": 116
        }
      ]
    },
    {
      "cell_type": "code",
      "metadata": {
        "id": "dV3YNv4AHdg3"
      },
      "source": [
        "b = set(b)"
      ],
      "execution_count": 120,
      "outputs": []
    },
    {
      "cell_type": "code",
      "metadata": {
        "colab": {
          "base_uri": "https://localhost:8080/"
        },
        "id": "moucPETtHjWG",
        "outputId": "ff1d5576-296c-47c2-964c-37f9e632c4df"
      },
      "source": [
        "b"
      ],
      "execution_count": 121,
      "outputs": [
        {
          "output_type": "execute_result",
          "data": {
            "text/plain": [
              "{10, 20, 30}"
            ]
          },
          "metadata": {
            "tags": []
          },
          "execution_count": 121
        }
      ]
    },
    {
      "cell_type": "code",
      "metadata": {
        "colab": {
          "base_uri": "https://localhost:8080/"
        },
        "id": "tsv2U77hHkCP",
        "outputId": "1388f30b-1ba1-47d4-f5f0-c98115573383"
      },
      "source": [
        "a"
      ],
      "execution_count": 123,
      "outputs": [
        {
          "output_type": "execute_result",
          "data": {
            "text/plain": [
              "{1, 2, 3}"
            ]
          },
          "metadata": {
            "tags": []
          },
          "execution_count": 123
        }
      ]
    },
    {
      "cell_type": "code",
      "metadata": {
        "id": "60dmg9hmHywH"
      },
      "source": [
        "a.add(100)"
      ],
      "execution_count": 124,
      "outputs": []
    },
    {
      "cell_type": "code",
      "metadata": {
        "colab": {
          "base_uri": "https://localhost:8080/"
        },
        "id": "or92nrq9IOKU",
        "outputId": "185b6c6c-8edc-4636-d1d1-ad03fe7741ac"
      },
      "source": [
        "b"
      ],
      "execution_count": 125,
      "outputs": [
        {
          "output_type": "execute_result",
          "data": {
            "text/plain": [
              "{10, 20, 30}"
            ]
          },
          "metadata": {
            "tags": []
          },
          "execution_count": 125
        }
      ]
    },
    {
      "cell_type": "code",
      "metadata": {
        "id": "9R7YaKalIPQs"
      },
      "source": [
        "b.update({100,200,300})"
      ],
      "execution_count": 127,
      "outputs": []
    },
    {
      "cell_type": "code",
      "metadata": {
        "colab": {
          "base_uri": "https://localhost:8080/"
        },
        "id": "DTNeGIJXIUbW",
        "outputId": "f3df40b8-0041-4658-d2a8-7fb50c7b0b93"
      },
      "source": [
        "b"
      ],
      "execution_count": 128,
      "outputs": [
        {
          "output_type": "execute_result",
          "data": {
            "text/plain": [
              "{10, 20, 30, 100, 200, 300}"
            ]
          },
          "metadata": {
            "tags": []
          },
          "execution_count": 128
        }
      ]
    },
    {
      "cell_type": "code",
      "metadata": {
        "id": "U_Y62SY7IZs-"
      },
      "source": [
        "a.clear()"
      ],
      "execution_count": 129,
      "outputs": []
    },
    {
      "cell_type": "code",
      "metadata": {
        "colab": {
          "base_uri": "https://localhost:8080/"
        },
        "id": "Qa12gPzwIb-J",
        "outputId": "f37ce385-9f72-4df1-8b65-13718e16893f"
      },
      "source": [
        "a"
      ],
      "execution_count": 130,
      "outputs": [
        {
          "output_type": "execute_result",
          "data": {
            "text/plain": [
              "set()"
            ]
          },
          "metadata": {
            "tags": []
          },
          "execution_count": 130
        }
      ]
    },
    {
      "cell_type": "code",
      "metadata": {
        "id": "EVQQ14wvIcfo"
      },
      "source": [
        "a.update({100,200,300})"
      ],
      "execution_count": 131,
      "outputs": []
    },
    {
      "cell_type": "code",
      "metadata": {
        "colab": {
          "base_uri": "https://localhost:8080/"
        },
        "id": "rwe5CtQSIjQe",
        "outputId": "7deedadc-b93a-4642-9849-f193857b8847"
      },
      "source": [
        "a"
      ],
      "execution_count": 132,
      "outputs": [
        {
          "output_type": "execute_result",
          "data": {
            "text/plain": [
              "{100, 200, 300}"
            ]
          },
          "metadata": {
            "tags": []
          },
          "execution_count": 132
        }
      ]
    },
    {
      "cell_type": "code",
      "metadata": {
        "colab": {
          "base_uri": "https://localhost:8080/"
        },
        "id": "uv0IE3NnIkUa",
        "outputId": "11a15d1e-d235-4e70-bd5d-e9fa2337059f"
      },
      "source": [
        "b"
      ],
      "execution_count": 133,
      "outputs": [
        {
          "output_type": "execute_result",
          "data": {
            "text/plain": [
              "{10, 20, 30, 100, 200, 300}"
            ]
          },
          "metadata": {
            "tags": []
          },
          "execution_count": 133
        }
      ]
    },
    {
      "cell_type": "code",
      "metadata": {
        "colab": {
          "base_uri": "https://localhost:8080/"
        },
        "id": "PpSyVkMGIlGP",
        "outputId": "b9e1d2f9-4af0-4fd6-e645-6f81db1bfd8b"
      },
      "source": [
        "a & b"
      ],
      "execution_count": 134,
      "outputs": [
        {
          "output_type": "execute_result",
          "data": {
            "text/plain": [
              "{100, 200, 300}"
            ]
          },
          "metadata": {
            "tags": []
          },
          "execution_count": 134
        }
      ]
    },
    {
      "cell_type": "code",
      "metadata": {
        "colab": {
          "base_uri": "https://localhost:8080/"
        },
        "id": "TpSzA6dwI0sh",
        "outputId": "d16244bb-be4e-4fc2-fd8c-f15c3064abc3"
      },
      "source": [
        "a|b"
      ],
      "execution_count": 135,
      "outputs": [
        {
          "output_type": "execute_result",
          "data": {
            "text/plain": [
              "{10, 20, 30, 100, 200, 300}"
            ]
          },
          "metadata": {
            "tags": []
          },
          "execution_count": 135
        }
      ]
    },
    {
      "cell_type": "code",
      "metadata": {
        "colab": {
          "base_uri": "https://localhost:8080/"
        },
        "id": "6cv-XqUvI2gu",
        "outputId": "4b062fcb-92d4-4ffa-8454-5bbd184bba75"
      },
      "source": [
        "a - b"
      ],
      "execution_count": 136,
      "outputs": [
        {
          "output_type": "execute_result",
          "data": {
            "text/plain": [
              "set()"
            ]
          },
          "metadata": {
            "tags": []
          },
          "execution_count": 136
        }
      ]
    },
    {
      "cell_type": "code",
      "metadata": {
        "colab": {
          "base_uri": "https://localhost:8080/"
        },
        "id": "3I8-K3jbI32C",
        "outputId": "26e1cd6d-9c97-49dc-f75e-dcdada03c5a9"
      },
      "source": [
        "b - a"
      ],
      "execution_count": 137,
      "outputs": [
        {
          "output_type": "execute_result",
          "data": {
            "text/plain": [
              "{10, 20, 30}"
            ]
          },
          "metadata": {
            "tags": []
          },
          "execution_count": 137
        }
      ]
    },
    {
      "cell_type": "code",
      "metadata": {
        "id": "LvmIzeaRI6fO"
      },
      "source": [
        "lst = [10,50, 30]\n",
        "\n",
        "tp = ('a','b','c')"
      ],
      "execution_count": 139,
      "outputs": []
    },
    {
      "cell_type": "code",
      "metadata": {
        "colab": {
          "base_uri": "https://localhost:8080/"
        },
        "id": "uhLM0zADJStf",
        "outputId": "6eb48aa4-6e97-42ba-ae17-097e6bd65f04"
      },
      "source": [
        "for item in lst:\n",
        "  print(item)"
      ],
      "execution_count": 141,
      "outputs": [
        {
          "output_type": "stream",
          "text": [
            "10\n",
            "50\n",
            "30\n"
          ],
          "name": "stdout"
        }
      ]
    },
    {
      "cell_type": "code",
      "metadata": {
        "colab": {
          "base_uri": "https://localhost:8080/"
        },
        "id": "5JSA4RWuJdPv",
        "outputId": "fe50a9e7-1066-4683-9cb9-3b8ddb1e702c"
      },
      "source": [
        "for item in tp:\n",
        "  print(item)"
      ],
      "execution_count": 142,
      "outputs": [
        {
          "output_type": "stream",
          "text": [
            "a\n",
            "b\n",
            "c\n"
          ],
          "name": "stdout"
        }
      ]
    },
    {
      "cell_type": "code",
      "metadata": {
        "colab": {
          "base_uri": "https://localhost:8080/"
        },
        "id": "c75wwphIJsLo",
        "outputId": "6d0a2f13-899f-4a54-e3c3-14a0a4d5dd6f"
      },
      "source": [
        "tp , lst"
      ],
      "execution_count": 143,
      "outputs": [
        {
          "output_type": "execute_result",
          "data": {
            "text/plain": [
              "(('a', 'b', 'c'), [10, 50, 30])"
            ]
          },
          "metadata": {
            "tags": []
          },
          "execution_count": 143
        }
      ]
    },
    {
      "cell_type": "code",
      "metadata": {
        "colab": {
          "base_uri": "https://localhost:8080/"
        },
        "id": "55IjuDFuJyQu",
        "outputId": "c9af673d-543b-4f1c-8e32-c7f13a7175a7"
      },
      "source": [
        "zip(tp, lst)"
      ],
      "execution_count": 144,
      "outputs": [
        {
          "output_type": "execute_result",
          "data": {
            "text/plain": [
              "<zip at 0x7f45eca082d0>"
            ]
          },
          "metadata": {
            "tags": []
          },
          "execution_count": 144
        }
      ]
    },
    {
      "cell_type": "code",
      "metadata": {
        "colab": {
          "base_uri": "https://localhost:8080/"
        },
        "id": "W9f-Qd24KJCu",
        "outputId": "8de7c375-1fff-4500-9284-6218ab1b1212"
      },
      "source": [
        "for item in zip(tp,lst):\n",
        "  print(item)"
      ],
      "execution_count": 145,
      "outputs": [
        {
          "output_type": "stream",
          "text": [
            "('a', 10)\n",
            "('b', 50)\n",
            "('c', 30)\n"
          ],
          "name": "stdout"
        }
      ]
    },
    {
      "cell_type": "code",
      "metadata": {
        "colab": {
          "base_uri": "https://localhost:8080/"
        },
        "id": "b7Z4Da3GKSpJ",
        "outputId": "60f68563-86e1-4809-fa03-b7a6554ef56a"
      },
      "source": [
        "dt"
      ],
      "execution_count": 146,
      "outputs": [
        {
          "output_type": "execute_result",
          "data": {
            "text/plain": [
              "{'a': 200, 'c': 100, 'd': 30}"
            ]
          },
          "metadata": {
            "tags": []
          },
          "execution_count": 146
        }
      ]
    },
    {
      "cell_type": "code",
      "metadata": {
        "colab": {
          "base_uri": "https://localhost:8080/"
        },
        "id": "jOO2yD5qKmVn",
        "outputId": "a193db4b-5250-4ae2-e721-3037c16894c3"
      },
      "source": [
        "for item in dt:\n",
        "  print(f'{item} : {dt[item]}')"
      ],
      "execution_count": 149,
      "outputs": [
        {
          "output_type": "stream",
          "text": [
            "a : 200\n",
            "c : 100\n",
            "d : 30\n"
          ],
          "name": "stdout"
        }
      ]
    },
    {
      "cell_type": "code",
      "metadata": {
        "id": "g--WAJl5KsZX"
      },
      "source": [
        "temp = [10.8,  8.5,  8.7,  7.9,  5.1,\n",
        "         8.1,  8.2, 10.4,   11,  9.9,\n",
        "         7.8,  9.5, 11.6,  8.2,  7.7,\n",
        "         6.6, 11.1, 12.2, 12.6, 10.4,\n",
        "        13.7, 14.1, 12.6, 11.5,   13,\n",
        "        14.5, 13.7,  9.4, 10.4, 11.6, 12.9]\n"
      ],
      "execution_count": 150,
      "outputs": []
    },
    {
      "cell_type": "code",
      "metadata": {
        "colab": {
          "base_uri": "https://localhost:8080/"
        },
        "id": "SGPYxIZULb94",
        "outputId": "027f940c-a981-43fd-d207-4abae26bb80a"
      },
      "source": [
        "max(temp)"
      ],
      "execution_count": 151,
      "outputs": [
        {
          "output_type": "execute_result",
          "data": {
            "text/plain": [
              "14.5"
            ]
          },
          "metadata": {
            "tags": []
          },
          "execution_count": 151
        }
      ]
    },
    {
      "cell_type": "code",
      "metadata": {
        "colab": {
          "base_uri": "https://localhost:8080/"
        },
        "id": "sEWKPfv_LeA3",
        "outputId": "7f570678-90db-4210-db04-e4710de567d2"
      },
      "source": [
        "print(f'최고기온 : {max(temp) : 6.2f}도')"
      ],
      "execution_count": 157,
      "outputs": [
        {
          "output_type": "stream",
          "text": [
            "최고기온 :  14.50도\n"
          ],
          "name": "stdout"
        }
      ]
    },
    {
      "cell_type": "code",
      "metadata": {
        "colab": {
          "base_uri": "https://localhost:8080/"
        },
        "id": "N59xtrZQLy7f",
        "outputId": "4feba00f-e839-4c9e-bf20-18de9a2e0394"
      },
      "source": [
        "min(temp)"
      ],
      "execution_count": 154,
      "outputs": [
        {
          "output_type": "execute_result",
          "data": {
            "text/plain": [
              "5.1"
            ]
          },
          "metadata": {
            "tags": []
          },
          "execution_count": 154
        }
      ]
    },
    {
      "cell_type": "code",
      "metadata": {
        "colab": {
          "base_uri": "https://localhost:8080/"
        },
        "id": "wd6azK0jL_du",
        "outputId": "53fc6d3a-9454-4061-90f7-61673c65b6c9"
      },
      "source": [
        "print(f'최저기온 : {min(temp) : 6.2f} 도')"
      ],
      "execution_count": 155,
      "outputs": [
        {
          "output_type": "stream",
          "text": [
            "최저기온 :   5.10 도\n"
          ],
          "name": "stdout"
        }
      ]
    },
    {
      "cell_type": "code",
      "metadata": {
        "colab": {
          "base_uri": "https://localhost:8080/"
        },
        "id": "E6RJjxw4MFOu",
        "outputId": "f9f33719-b497-46a4-c653-c518745b4767"
      },
      "source": [
        "avg = sum(temp)/ len(temp)\n",
        "avg"
      ],
      "execution_count": 156,
      "outputs": [
        {
          "output_type": "execute_result",
          "data": {
            "text/plain": [
              "10.441935483870964"
            ]
          },
          "metadata": {
            "tags": []
          },
          "execution_count": 156
        }
      ]
    },
    {
      "cell_type": "code",
      "metadata": {
        "colab": {
          "base_uri": "https://localhost:8080/"
        },
        "id": "1gFvaWIhMRUW",
        "outputId": "c52cdb1b-e2ce-40e1-c245-e4efebf45052"
      },
      "source": [
        "print(f'평균기온 : {sum(temp) / len(temp) : 6.2f} 도')"
      ],
      "execution_count": 158,
      "outputs": [
        {
          "output_type": "stream",
          "text": [
            "평균기온 :  10.44 도\n"
          ],
          "name": "stdout"
        }
      ]
    },
    {
      "cell_type": "code",
      "metadata": {
        "id": "rsXkIlF_MVZH"
      },
      "source": [
        ""
      ],
      "execution_count": null,
      "outputs": []
    }
  ]
}