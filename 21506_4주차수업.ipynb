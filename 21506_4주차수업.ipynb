{
  "nbformat": 4,
  "nbformat_minor": 0,
  "metadata": {
    "colab": {
      "name": "21506_4주차수업.ipynb",
      "provenance": [],
      "authorship_tag": "ABX9TyOOzLuVmaD8H+e5MTeuWDpg",
      "include_colab_link": true
    },
    "kernelspec": {
      "name": "python3",
      "display_name": "Python 3"
    },
    "language_info": {
      "name": "python"
    }
  },
  "cells": [
    {
      "cell_type": "markdown",
      "metadata": {
        "id": "view-in-github",
        "colab_type": "text"
      },
      "source": [
        "<a href=\"https://colab.research.google.com/github/xmfrn/bmt_python/blob/main/21506_4%EC%A3%BC%EC%B0%A8%EC%88%98%EC%97%85.ipynb\" target=\"_parent\"><img src=\"https://colab.research.google.com/assets/colab-badge.svg\" alt=\"Open In Colab\"/></a>"
      ]
    },
    {
      "cell_type": "code",
      "metadata": {
        "colab": {
          "base_uri": "https://localhost:8080/"
        },
        "id": "FPQfVvxpywht",
        "outputId": "0556106d-24c4-4866-cc94-b790f6ed5aa9"
      },
      "source": [
        "#심리게임\n",
        "\n",
        "# string , int, float ,char \n",
        "print('[심리테스테]')\n",
        "\n",
        "menu = input('당신이 좋아하는 과일 입력:')\n",
        "\n",
        "if menu == '사과' :\n",
        "  print('당신은 사과를 좋아하네요')\n",
        "elif menu == 수박 :\n",
        "  print('당신은 여름 사나이군요')\n",
        "else :\n",
        "  print('좋아하는 과일을 입력하세요')"
      ],
      "execution_count": 4,
      "outputs": [
        {
          "output_type": "stream",
          "text": [
            "[심리테스테]\n",
            "당신이 좋아하는 과일 입력:사과\n",
            "당신은 사과를 좋아하네요\n"
          ],
          "name": "stdout"
        }
      ]
    },
    {
      "cell_type": "code",
      "metadata": {
        "colab": {
          "base_uri": "https://localhost:8080/",
          "height": 35
        },
        "id": "HkBIDayj2JVK",
        "outputId": "be26e833-f0f1-44ea-ec2e-f1adc66f3aed"
      },
      "source": [
        "menu"
      ],
      "execution_count": 3,
      "outputs": [
        {
          "output_type": "execute_result",
          "data": {
            "application/vnd.google.colaboratory.intrinsic+json": {
              "type": "string"
            },
            "text/plain": [
              "'사과'"
            ]
          },
          "metadata": {
            "tags": []
          },
          "execution_count": 3
        }
      ]
    },
    {
      "cell_type": "code",
      "metadata": {
        "colab": {
          "base_uri": "https://localhost:8080/"
        },
        "id": "maXRPQrg2SiV",
        "outputId": "0f5b554e-a13c-4736-f737-d1ea3ad919ef"
      },
      "source": [
        "names = ['정밀', '폴리', '산설', '메카','로봇','전기']\n",
        "\n",
        "for i in [0, 1, 2, 3, 4, 5]:\n",
        "  print(names[i], end=' ')"
      ],
      "execution_count": 10,
      "outputs": [
        {
          "output_type": "stream",
          "text": [
            "정밀 폴리 산설 메카 로봇 전기 "
          ],
          "name": "stdout"
        }
      ]
    },
    {
      "cell_type": "code",
      "metadata": {
        "colab": {
          "base_uri": "https://localhost:8080/"
        },
        "id": "6Lgt8oIS4igg",
        "outputId": "de5c7cb7-9132-48cc-d901-83dc0eaccb4b"
      },
      "source": [
        "for i in range(6):\n",
        "  print(names[i], end=' ' )"
      ],
      "execution_count": 11,
      "outputs": [
        {
          "output_type": "stream",
          "text": [
            "정밀 폴리 산설 메카 로봇 전기 "
          ],
          "name": "stdout"
        }
      ]
    },
    {
      "cell_type": "code",
      "metadata": {
        "colab": {
          "base_uri": "https://localhost:8080/"
        },
        "id": "BJgbbg4J5u4w",
        "outputId": "6323fc24-dc2a-4feb-b5fb-51c63a255250"
      },
      "source": [
        "names"
      ],
      "execution_count": 12,
      "outputs": [
        {
          "output_type": "execute_result",
          "data": {
            "text/plain": [
              "['정밀', '폴리', '산설', '메카', '로봇', '전기']"
            ]
          },
          "metadata": {
            "tags": []
          },
          "execution_count": 12
        }
      ]
    },
    {
      "cell_type": "code",
      "metadata": {
        "colab": {
          "base_uri": "https://localhost:8080/",
          "height": 35
        },
        "id": "BwMMMrGc5xJw",
        "outputId": "a0d72624-a0a6-4dd2-ae36-d2f5673033dc"
      },
      "source": [
        "names[-1]"
      ],
      "execution_count": 13,
      "outputs": [
        {
          "output_type": "execute_result",
          "data": {
            "application/vnd.google.colaboratory.intrinsic+json": {
              "type": "string"
            },
            "text/plain": [
              "'전기'"
            ]
          },
          "metadata": {
            "tags": []
          },
          "execution_count": 13
        }
      ]
    },
    {
      "cell_type": "code",
      "metadata": {
        "colab": {
          "base_uri": "https://localhost:8080/"
        },
        "id": "4UF44gNV50Lg",
        "outputId": "540f8fb5-7ff2-4d81-98ba-11227ab6cb02"
      },
      "source": [
        "names[1:3]"
      ],
      "execution_count": 14,
      "outputs": [
        {
          "output_type": "execute_result",
          "data": {
            "text/plain": [
              "['폴리', '산설']"
            ]
          },
          "metadata": {
            "tags": []
          },
          "execution_count": 14
        }
      ]
    },
    {
      "cell_type": "code",
      "metadata": {
        "colab": {
          "base_uri": "https://localhost:8080/"
        },
        "id": "RPMHRFTr6HRB",
        "outputId": "fc4ec89e-e889-4bf0-b610-43103a248caf"
      },
      "source": [
        "names"
      ],
      "execution_count": 15,
      "outputs": [
        {
          "output_type": "execute_result",
          "data": {
            "text/plain": [
              "['정밀', '폴리', '산설', '메카', '로봇', '전기']"
            ]
          },
          "metadata": {
            "tags": []
          },
          "execution_count": 15
        }
      ]
    },
    {
      "cell_type": "code",
      "metadata": {
        "id": "Q4zdYVe56U7B"
      },
      "source": [
        "names.append('부기공')"
      ],
      "execution_count": 16,
      "outputs": []
    },
    {
      "cell_type": "code",
      "metadata": {
        "colab": {
          "base_uri": "https://localhost:8080/"
        },
        "id": "c7RpRfrC6iSy",
        "outputId": "556b7902-73ae-4589-a38f-06405b8df222"
      },
      "source": [
        "names"
      ],
      "execution_count": 17,
      "outputs": [
        {
          "output_type": "execute_result",
          "data": {
            "text/plain": [
              "['정밀', '폴리', '산설', '메카', '로봇', '전기', '부기공']"
            ]
          },
          "metadata": {
            "tags": []
          },
          "execution_count": 17
        }
      ]
    },
    {
      "cell_type": "code",
      "metadata": {
        "colab": {
          "base_uri": "https://localhost:8080/"
        },
        "id": "0aYfRIIi6kFB",
        "outputId": "4e987817-d515-4242-a7dc-9fb418529968"
      },
      "source": [
        "len(names)"
      ],
      "execution_count": 19,
      "outputs": [
        {
          "output_type": "execute_result",
          "data": {
            "text/plain": [
              "7"
            ]
          },
          "metadata": {
            "tags": []
          },
          "execution_count": 19
        }
      ]
    },
    {
      "cell_type": "code",
      "metadata": {
        "colab": {
          "base_uri": "https://localhost:8080/"
        },
        "id": "o-6D5Ez-7P0D",
        "outputId": "edb7745f-80f1-4e0a-e427-5638ff859226"
      },
      "source": [
        "names"
      ],
      "execution_count": 20,
      "outputs": [
        {
          "output_type": "execute_result",
          "data": {
            "text/plain": [
              "['정밀', '폴리', '산설', '메카', '로봇', '전기', '부기공']"
            ]
          },
          "metadata": {
            "tags": []
          },
          "execution_count": 20
        }
      ]
    },
    {
      "cell_type": "code",
      "metadata": {
        "colab": {
          "base_uri": "https://localhost:8080/"
        },
        "id": "YGhPotUS7SiB",
        "outputId": "78e9c963-3844-40b8-a8f6-893abcd4f968"
      },
      "source": [
        "names.append ('부산기계공')\n",
        "\n",
        "for name in names:\n",
        "  if len(name) >4:\n",
        "    print(f' {name}업고등학교')"
      ],
      "execution_count": 27,
      "outputs": [
        {
          "output_type": "stream",
          "text": [
            " 부산기계공 업고등학교\n",
            " 부산기계공 업고등학교\n",
            " 부산기계공 업고등학교\n",
            " 부산기계공 업고등학교\n"
          ],
          "name": "stdout"
        }
      ]
    },
    {
      "cell_type": "code",
      "metadata": {
        "colab": {
          "base_uri": "https://localhost:8080/"
        },
        "id": "PWtWfL_m8Q_B",
        "outputId": "258892ba-8881-4e18-a99f-e607482ba5b0"
      },
      "source": [
        "print('hello world\\n')\n",
        "print('부산')"
      ],
      "execution_count": 29,
      "outputs": [
        {
          "output_type": "stream",
          "text": [
            "hello world\n",
            "\n",
            "부산\n"
          ],
          "name": "stdout"
        }
      ]
    },
    {
      "cell_type": "code",
      "metadata": {
        "colab": {
          "base_uri": "https://localhost:8080/"
        },
        "id": "Qq0qib4t-74Z",
        "outputId": "1757538d-c4e8-448b-8357-e39d99ed60fc"
      },
      "source": [
        "# print()함수 end 매개변수\n",
        "print('hello', end ='\\n')\n",
        "print('world')"
      ],
      "execution_count": 32,
      "outputs": [
        {
          "output_type": "stream",
          "text": [
            "hello\n",
            "world\n"
          ],
          "name": "stdout"
        }
      ]
    },
    {
      "cell_type": "code",
      "metadata": {
        "colab": {
          "base_uri": "https://localhost:8080/"
        },
        "id": "_l9AyJl1_hRj",
        "outputId": "55ef7357-8c44-4dc9-832c-8626e2e8b857"
      },
      "source": [
        "print('hello', 'world')\n",
        "print('hello'+'world')"
      ],
      "execution_count": 35,
      "outputs": [
        {
          "output_type": "stream",
          "text": [
            "hello world\n",
            "helloworld\n"
          ],
          "name": "stdout"
        }
      ]
    },
    {
      "cell_type": "code",
      "metadata": {
        "colab": {
          "base_uri": "https://localhost:8080/"
        },
        "id": "sDZG3hx3ADBD",
        "outputId": "66081262-f360-4068-a291-ca5230a90379"
      },
      "source": [
        "print('hello\\'')\n",
        "print('hello\\\"')\n",
        "print('hello\\tworld')"
      ],
      "execution_count": 40,
      "outputs": [
        {
          "output_type": "stream",
          "text": [
            "hello'\n",
            "hello\"\n",
            "hello\tworld\n"
          ],
          "name": "stdout"
        }
      ]
    },
    {
      "cell_type": "code",
      "metadata": {
        "colab": {
          "base_uri": "https://localhost:8080/"
        },
        "id": "LLqbWj-dAkNz",
        "outputId": "ee5a9f65-869e-4827-d1b8-3abb75fa9143"
      },
      "source": [
        "x = input()"
      ],
      "execution_count": 41,
      "outputs": [
        {
          "output_type": "stream",
          "text": [
            "안녕하세요\n"
          ],
          "name": "stdout"
        }
      ]
    },
    {
      "cell_type": "code",
      "metadata": {
        "colab": {
          "base_uri": "https://localhost:8080/"
        },
        "id": "H9GV2mPhBPdj",
        "outputId": "cd5edd1f-b3fb-43e8-8a50-9e749c2e6bbd"
      },
      "source": [
        "print(x)"
      ],
      "execution_count": 42,
      "outputs": [
        {
          "output_type": "stream",
          "text": [
            "안녕하세요\n"
          ],
          "name": "stdout"
        }
      ]
    },
    {
      "cell_type": "code",
      "metadata": {
        "colab": {
          "base_uri": "https://localhost:8080/"
        },
        "id": "mdWGZECWBU3y",
        "outputId": "e81d9af2-2ade-43e7-f5b2-de077573edcb"
      },
      "source": [
        "#문자열\n",
        "x = input('x입력:')\n",
        "y = input('y입력:')"
      ],
      "execution_count": 46,
      "outputs": [
        {
          "output_type": "stream",
          "text": [
            "x입력:10\n",
            "y입력:20\n"
          ],
          "name": "stdout"
        }
      ]
    },
    {
      "cell_type": "code",
      "metadata": {
        "colab": {
          "base_uri": "https://localhost:8080/"
        },
        "id": "AgMkTv9gBf2D",
        "outputId": "e1b2e255-aedc-435a-c51f-903d309130ab"
      },
      "source": [
        "print(f'{x} + {y} = {x+y}')"
      ],
      "execution_count": 47,
      "outputs": [
        {
          "output_type": "stream",
          "text": [
            "10 + 20 = 1020\n"
          ],
          "name": "stdout"
        }
      ]
    },
    {
      "cell_type": "code",
      "metadata": {
        "id": "ChwsTpIiB33j"
      },
      "source": [
        "x = int(x)\n",
        "y = int(y)"
      ],
      "execution_count": 48,
      "outputs": []
    },
    {
      "cell_type": "code",
      "metadata": {
        "colab": {
          "base_uri": "https://localhost:8080/"
        },
        "id": "gPnqMfROCAxD",
        "outputId": "60cd473c-cd3b-434e-de38-5fc1b37eafe5"
      },
      "source": [
        "print(f'{x} + {y} = {x+y}')"
      ],
      "execution_count": 49,
      "outputs": [
        {
          "output_type": "stream",
          "text": [
            "10 + 20 = 30\n"
          ],
          "name": "stdout"
        }
      ]
    },
    {
      "cell_type": "code",
      "metadata": {
        "colab": {
          "base_uri": "https://localhost:8080/"
        },
        "id": "3qfcYmEzCC1y",
        "outputId": "672acabf-95c3-4d39-9ea6-d40ea201ede1"
      },
      "source": [
        "#두 정수 입력 사칙 연산 프로그램\n",
        "\n",
        "#입력부\n",
        "x = int(input('첫 번째 정수 입력:'))\n",
        "y = int(input('en 번째 정수 입력:'))\n",
        "\n",
        "print(x, '+', y, '=', (x + y))\n",
        "print(x, '-', y, '=', (x - y))\n",
        "print(x, 'x', y, '=', (x * y))\n",
        "print(x, '/', y, '=', (x / y))\n"
      ],
      "execution_count": 52,
      "outputs": [
        {
          "output_type": "stream",
          "text": [
            "첫 번째 정수 입력:10\n",
            "en 번째 정수 입력:20\n",
            "10 + 20 = 30\n",
            "10 - 20 = -10\n",
            "10 x 20 = 200\n",
            "10 / 20 = 0.5\n"
          ],
          "name": "stdout"
        }
      ]
    },
    {
      "cell_type": "code",
      "metadata": {
        "colab": {
          "base_uri": "https://localhost:8080/"
        },
        "id": "jur2gbhnCvP7",
        "outputId": "26becdac-c41a-4c2b-99a8-e7658858963c"
      },
      "source": [
        "print('*'*50)\n"
      ],
      "execution_count": 55,
      "outputs": [
        {
          "output_type": "stream",
          "text": [
            "**************************************************\n"
          ],
          "name": "stdout"
        }
      ]
    },
    {
      "cell_type": "code",
      "metadata": {
        "colab": {
          "base_uri": "https://localhost:8080/"
        },
        "id": "TM6fFP7nDM8D",
        "outputId": "675bdb85-e7b2-4ab8-bc24-6ab61d46218e"
      },
      "source": [
        "#BMI(body mass index ) 지수 구하기 프로그램\n",
        "\n",
        "#입력부\n",
        "weight = float(input('weght(kg): ' ))\n",
        "height = float(input('height(cm) : '))\n",
        "\n",
        " # 제어부\n",
        "BMI_index = weight / ( height/100)**2\n",
        "\n",
        " #출력부\n",
        "print(f'BMI : {BMI_index:.2f}')"
      ],
      "execution_count": 63,
      "outputs": [
        {
          "output_type": "stream",
          "text": [
            "weght(kg): 88\n",
            "height(cm) : 182\n",
            "BMI : 26.57\n"
          ],
          "name": "stdout"
        }
      ]
    },
    {
      "cell_type": "code",
      "metadata": {
        "id": "buNYp3i7D7uV"
      },
      "source": [
        "x = 'Hello python'"
      ],
      "execution_count": 69,
      "outputs": []
    },
    {
      "cell_type": "code",
      "metadata": {
        "colab": {
          "base_uri": "https://localhost:8080/",
          "height": 35
        },
        "id": "yXEEbPm6HsFb",
        "outputId": "3cfaa1d4-19f3-40a8-b3e9-a6858854a9dc"
      },
      "source": [
        "x"
      ],
      "execution_count": 70,
      "outputs": [
        {
          "output_type": "execute_result",
          "data": {
            "application/vnd.google.colaboratory.intrinsic+json": {
              "type": "string"
            },
            "text/plain": [
              "'Hello python'"
            ]
          },
          "metadata": {
            "tags": []
          },
          "execution_count": 70
        }
      ]
    },
    {
      "cell_type": "code",
      "metadata": {
        "colab": {
          "base_uri": "https://localhost:8080/"
        },
        "id": "hUgb3x3kHtCk",
        "outputId": "02f42d1c-10f8-47e5-af20-f78bde37e6a4"
      },
      "source": [
        "len(x)"
      ],
      "execution_count": 71,
      "outputs": [
        {
          "output_type": "execute_result",
          "data": {
            "text/plain": [
              "12"
            ]
          },
          "metadata": {
            "tags": []
          },
          "execution_count": 71
        }
      ]
    },
    {
      "cell_type": "code",
      "metadata": {
        "colab": {
          "base_uri": "https://localhost:8080/"
        },
        "id": "QZp6AGFZHvNk",
        "outputId": "c5aea7ec-7036-4a69-b5eb-060d9972be5b"
      },
      "source": [
        "x.count('o')"
      ],
      "execution_count": 72,
      "outputs": [
        {
          "output_type": "execute_result",
          "data": {
            "text/plain": [
              "2"
            ]
          },
          "metadata": {
            "tags": []
          },
          "execution_count": 72
        }
      ]
    },
    {
      "cell_type": "code",
      "metadata": {
        "colab": {
          "base_uri": "https://localhost:8080/"
        },
        "id": "712E1J8sH02h",
        "outputId": "c7b224e0-7d13-4ad5-b395-a5b7dabaf7ed"
      },
      "source": [
        "x.count('H')"
      ],
      "execution_count": 73,
      "outputs": [
        {
          "output_type": "execute_result",
          "data": {
            "text/plain": [
              "1"
            ]
          },
          "metadata": {
            "tags": []
          },
          "execution_count": 73
        }
      ]
    },
    {
      "cell_type": "code",
      "metadata": {
        "colab": {
          "base_uri": "https://localhost:8080/",
          "height": 35
        },
        "id": "MCVekrLZIBq0",
        "outputId": "3415e2c6-a63b-4583-a908-220c2e46652d"
      },
      "source": [
        "x"
      ],
      "execution_count": 74,
      "outputs": [
        {
          "output_type": "execute_result",
          "data": {
            "application/vnd.google.colaboratory.intrinsic+json": {
              "type": "string"
            },
            "text/plain": [
              "'Hello python'"
            ]
          },
          "metadata": {
            "tags": []
          },
          "execution_count": 74
        }
      ]
    },
    {
      "cell_type": "code",
      "metadata": {
        "colab": {
          "base_uri": "https://localhost:8080/"
        },
        "id": "k9z8434eIH2D",
        "outputId": "951305e3-8dc8-4589-fdcd-e64dc529b020"
      },
      "source": [
        "x.find('o')"
      ],
      "execution_count": 78,
      "outputs": [
        {
          "output_type": "execute_result",
          "data": {
            "text/plain": [
              "4"
            ]
          },
          "metadata": {
            "tags": []
          },
          "execution_count": 78
        }
      ]
    },
    {
      "cell_type": "code",
      "metadata": {
        "colab": {
          "base_uri": "https://localhost:8080/",
          "height": 35
        },
        "id": "DJSCjaxoINvE",
        "outputId": "945cc66c-a11f-4c72-ccc5-63d632a437e7"
      },
      "source": [
        "x[0]"
      ],
      "execution_count": 76,
      "outputs": [
        {
          "output_type": "execute_result",
          "data": {
            "application/vnd.google.colaboratory.intrinsic+json": {
              "type": "string"
            },
            "text/plain": [
              "'H'"
            ]
          },
          "metadata": {
            "tags": []
          },
          "execution_count": 76
        }
      ]
    },
    {
      "cell_type": "code",
      "metadata": {
        "colab": {
          "base_uri": "https://localhost:8080/",
          "height": 35
        },
        "id": "mNxQ416jIR11",
        "outputId": "f9528f76-2c53-42cc-8ac6-ede052aa3941"
      },
      "source": [
        "x[9]"
      ],
      "execution_count": 77,
      "outputs": [
        {
          "output_type": "execute_result",
          "data": {
            "application/vnd.google.colaboratory.intrinsic+json": {
              "type": "string"
            },
            "text/plain": [
              "'h'"
            ]
          },
          "metadata": {
            "tags": []
          },
          "execution_count": 77
        }
      ]
    },
    {
      "cell_type": "code",
      "metadata": {
        "colab": {
          "base_uri": "https://localhost:8080/",
          "height": 35
        },
        "id": "42TagZJ0IbW1",
        "outputId": "0aebf189-7f55-4347-f402-a8606024e716"
      },
      "source": [
        "x"
      ],
      "execution_count": 79,
      "outputs": [
        {
          "output_type": "execute_result",
          "data": {
            "application/vnd.google.colaboratory.intrinsic+json": {
              "type": "string"
            },
            "text/plain": [
              "'Hello python'"
            ]
          },
          "metadata": {
            "tags": []
          },
          "execution_count": 79
        }
      ]
    },
    {
      "cell_type": "code",
      "metadata": {
        "colab": {
          "base_uri": "https://localhost:8080/"
        },
        "id": "ZF4524DMImYF",
        "outputId": "49f10f84-f2a7-48fa-df0c-c7836c802f21"
      },
      "source": [
        "x.index('python')"
      ],
      "execution_count": 80,
      "outputs": [
        {
          "output_type": "execute_result",
          "data": {
            "text/plain": [
              "6"
            ]
          },
          "metadata": {
            "tags": []
          },
          "execution_count": 80
        }
      ]
    },
    {
      "cell_type": "code",
      "metadata": {
        "colab": {
          "base_uri": "https://localhost:8080/",
          "height": 35
        },
        "id": "Pf8RA4FkIxm0",
        "outputId": "203b7c9d-7664-4721-e38b-6b5aa7968a79"
      },
      "source": [
        "x[6:]"
      ],
      "execution_count": 81,
      "outputs": [
        {
          "output_type": "execute_result",
          "data": {
            "application/vnd.google.colaboratory.intrinsic+json": {
              "type": "string"
            },
            "text/plain": [
              "'python'"
            ]
          },
          "metadata": {
            "tags": []
          },
          "execution_count": 81
        }
      ]
    },
    {
      "cell_type": "code",
      "metadata": {
        "colab": {
          "base_uri": "https://localhost:8080/",
          "height": 35
        },
        "id": "pFJMqBBlI1ik",
        "outputId": "8f6c98b3-9b4a-4e15-cf90-ccdfe40ccf65"
      },
      "source": [
        "x"
      ],
      "execution_count": 82,
      "outputs": [
        {
          "output_type": "execute_result",
          "data": {
            "application/vnd.google.colaboratory.intrinsic+json": {
              "type": "string"
            },
            "text/plain": [
              "'Hello python'"
            ]
          },
          "metadata": {
            "tags": []
          },
          "execution_count": 82
        }
      ]
    },
    {
      "cell_type": "code",
      "metadata": {
        "colab": {
          "base_uri": "https://localhost:8080/",
          "height": 35
        },
        "id": "ygCvsDAQI6k0",
        "outputId": "03182f5c-80d7-40c7-b6d7-3687421e8382"
      },
      "source": [
        "z = '-'.join(x)\n",
        "z"
      ],
      "execution_count": 83,
      "outputs": [
        {
          "output_type": "execute_result",
          "data": {
            "application/vnd.google.colaboratory.intrinsic+json": {
              "type": "string"
            },
            "text/plain": [
              "'H-e-l-l-o- -p-y-t-h-o-n'"
            ]
          },
          "metadata": {
            "tags": []
          },
          "execution_count": 83
        }
      ]
    },
    {
      "cell_type": "code",
      "metadata": {
        "colab": {
          "base_uri": "https://localhost:8080/",
          "height": 35
        },
        "id": "oMT3Q5gNJDYT",
        "outputId": "a8d717a8-02f1-439f-b7b0-d06cab38982d"
      },
      "source": [
        "x"
      ],
      "execution_count": 84,
      "outputs": [
        {
          "output_type": "execute_result",
          "data": {
            "application/vnd.google.colaboratory.intrinsic+json": {
              "type": "string"
            },
            "text/plain": [
              "'Hello python'"
            ]
          },
          "metadata": {
            "tags": []
          },
          "execution_count": 84
        }
      ]
    },
    {
      "cell_type": "code",
      "metadata": {
        "colab": {
          "base_uri": "https://localhost:8080/",
          "height": 35
        },
        "id": "WdpaCaW3JYPE",
        "outputId": "2855ddf3-82d1-4f5c-82a3-1ce232cba408"
      },
      "source": [
        "x.upper()"
      ],
      "execution_count": 85,
      "outputs": [
        {
          "output_type": "execute_result",
          "data": {
            "application/vnd.google.colaboratory.intrinsic+json": {
              "type": "string"
            },
            "text/plain": [
              "'HELLO PYTHON'"
            ]
          },
          "metadata": {
            "tags": []
          },
          "execution_count": 85
        }
      ]
    },
    {
      "cell_type": "code",
      "metadata": {
        "colab": {
          "base_uri": "https://localhost:8080/",
          "height": 35
        },
        "id": "Y84GJ7_JJaoE",
        "outputId": "e43c677c-38d3-4713-a69f-efee2467128a"
      },
      "source": [
        "x"
      ],
      "execution_count": 86,
      "outputs": [
        {
          "output_type": "execute_result",
          "data": {
            "application/vnd.google.colaboratory.intrinsic+json": {
              "type": "string"
            },
            "text/plain": [
              "'Hello python'"
            ]
          },
          "metadata": {
            "tags": []
          },
          "execution_count": 86
        }
      ]
    },
    {
      "cell_type": "code",
      "metadata": {
        "colab": {
          "base_uri": "https://localhost:8080/",
          "height": 35
        },
        "id": "oBNdm8FAJbnV",
        "outputId": "aefdfd4a-ebc9-401e-ab68-e8b69efebfa4"
      },
      "source": [
        "x. replace('p', '👍')"
      ],
      "execution_count": 88,
      "outputs": [
        {
          "output_type": "execute_result",
          "data": {
            "application/vnd.google.colaboratory.intrinsic+json": {
              "type": "string"
            },
            "text/plain": [
              "'Hello 👍ython'"
            ]
          },
          "metadata": {
            "tags": []
          },
          "execution_count": 88
        }
      ]
    },
    {
      "cell_type": "code",
      "metadata": {
        "colab": {
          "base_uri": "https://localhost:8080/",
          "height": 35
        },
        "id": "pks2aRsrJoaG",
        "outputId": "51e32f08-b588-479f-cf12-a2ddf0756825"
      },
      "source": [
        "x\n"
      ],
      "execution_count": 89,
      "outputs": [
        {
          "output_type": "execute_result",
          "data": {
            "application/vnd.google.colaboratory.intrinsic+json": {
              "type": "string"
            },
            "text/plain": [
              "'Hello python'"
            ]
          },
          "metadata": {
            "tags": []
          },
          "execution_count": 89
        }
      ]
    },
    {
      "cell_type": "code",
      "metadata": {
        "colab": {
          "base_uri": "https://localhost:8080/"
        },
        "id": "xXE6OXoZJvHm",
        "outputId": "f297b2e4-7aa5-48f6-caf5-0826845d831c"
      },
      "source": [
        "y = '-'.join(x)\n",
        "print(y)\n",
        "\n",
        "y.split(\"-\")\n",
        "print(f'y.split(\"-\") : {y.split(\"-\")}')"
      ],
      "execution_count": 91,
      "outputs": [
        {
          "output_type": "stream",
          "text": [
            "H-e-l-l-o- -p-y-t-h-o-n\n",
            "y.split(\"-\") : ['H', 'e', 'l', 'l', 'o', ' ', 'p', 'y', 't', 'h', 'o', 'n']\n"
          ],
          "name": "stdout"
        }
      ]
    },
    {
      "cell_type": "code",
      "metadata": {
        "id": "XJp4r59-J18G"
      },
      "source": [
        ""
      ],
      "execution_count": null,
      "outputs": []
    }
  ]
}