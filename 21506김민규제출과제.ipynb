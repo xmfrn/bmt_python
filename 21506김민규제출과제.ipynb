{
  "nbformat": 4,
  "nbformat_minor": 0,
  "metadata": {
    "colab": {
      "name": "21506김민규제출과제.ipynb",
      "provenance": [],
      "authorship_tag": "ABX9TyOkXFXOO5tkFW5kwTLr2c3H",
      "include_colab_link": true
    },
    "kernelspec": {
      "name": "python3",
      "display_name": "Python 3"
    }
  },
  "cells": [
    {
      "cell_type": "markdown",
      "metadata": {
        "id": "view-in-github",
        "colab_type": "text"
      },
      "source": [
        "<a href=\"https://colab.research.google.com/github/xmfrn/bmt_python/blob/main/21506%EA%B9%80%EB%AF%BC%EA%B7%9C%EC%A0%9C%EC%B6%9C%EA%B3%BC%EC%A0%9C.ipynb\" target=\"_parent\"><img src=\"https://colab.research.google.com/assets/colab-badge.svg\" alt=\"Open In Colab\"/></a>"
      ]
    },
    {
      "cell_type": "code",
      "metadata": {
        "id": "S6ExANXQ-_e5"
      },
      "source": [
        "a=1"
      ],
      "execution_count": 1,
      "outputs": []
    },
    {
      "cell_type": "code",
      "metadata": {
        "id": "Hrkj48FT_LuA"
      },
      "source": [
        "b=3"
      ],
      "execution_count": 2,
      "outputs": []
    },
    {
      "cell_type": "code",
      "metadata": {
        "colab": {
          "base_uri": "https://localhost:8080/"
        },
        "id": "Cq_-BxI-_NC3",
        "outputId": "dace8da2-5751-4757-dc5f-5a0b73273c32"
      },
      "source": [
        "a+b"
      ],
      "execution_count": 4,
      "outputs": [
        {
          "output_type": "execute_result",
          "data": {
            "text/plain": [
              "4"
            ]
          },
          "metadata": {
            "tags": []
          },
          "execution_count": 4
        }
      ]
    },
    {
      "cell_type": "code",
      "metadata": {
        "colab": {
          "base_uri": "https://localhost:8080/"
        },
        "id": "VRfRClhL_jpu",
        "outputId": "8ddee462-32d2-4f01-bb6f-57cd7afda91f"
      },
      "source": [
        "print('안녕하세요 열공해요')"
      ],
      "execution_count": 5,
      "outputs": [
        {
          "output_type": "stream",
          "text": [
            "안녕하세요 열공해요\n"
          ],
          "name": "stdout"
        }
      ]
    }
  ]
}