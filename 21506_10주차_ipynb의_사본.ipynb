{
  "nbformat": 4,
  "nbformat_minor": 0,
  "metadata": {
    "colab": {
      "name": "21506_10주차.ipynb의 사본",
      "provenance": [],
      "authorship_tag": "ABX9TyOyvi8ZF0AaL9EuVdFYCfpZ",
      "include_colab_link": true
    },
    "kernelspec": {
      "name": "python3",
      "display_name": "Python 3"
    },
    "language_info": {
      "name": "python"
    }
  },
  "cells": [
    {
      "cell_type": "markdown",
      "metadata": {
        "id": "view-in-github",
        "colab_type": "text"
      },
      "source": [
        "<a href=\"https://colab.research.google.com/github/xmfrn/bmt_python/blob/main/21506_10%EC%A3%BC%EC%B0%A8_ipynb%EC%9D%98_%EC%82%AC%EB%B3%B8.ipynb\" target=\"_parent\"><img src=\"https://colab.research.google.com/assets/colab-badge.svg\" alt=\"Open In Colab\"/></a>"
      ]
    },
    {
      "cell_type": "code",
      "metadata": {
        "id": "ykfh8B2hF4um"
      },
      "source": [
        "import pandas as pd\n",
        "import numpy as np\n",
        "import matplotlib.pyplot as plt\n"
      ],
      "execution_count": null,
      "outputs": []
    },
    {
      "cell_type": "code",
      "metadata": {
        "colab": {
          "base_uri": "https://localhost:8080/"
        },
        "id": "CUs98UjFHe7q",
        "outputId": "89978d46-22dc-4d82-d423-1e5f5be4cd63"
      },
      "source": [
        "s = pd.Series([1,3,5,np.nan,6,8,])\n",
        "\n",
        "a=1\n",
        "s\n"
      ],
      "execution_count": null,
      "outputs": [
        {
          "output_type": "execute_result",
          "data": {
            "text/plain": [
              "0    1.0\n",
              "1    3.0\n",
              "2    5.0\n",
              "3    NaN\n",
              "4    6.0\n",
              "5    8.0\n",
              "dtype: float64"
            ]
          },
          "metadata": {
            "tags": []
          },
          "execution_count": 4
        }
      ]
    },
    {
      "cell_type": "code",
      "metadata": {
        "colab": {
          "base_uri": "https://localhost:8080/"
        },
        "id": "tOSC5gF7IPoI",
        "outputId": "09db9fa6-ad4f-42b2-ab32-c17d2929374e"
      },
      "source": [
        "type(s)"
      ],
      "execution_count": null,
      "outputs": [
        {
          "output_type": "execute_result",
          "data": {
            "text/plain": [
              "pandas.core.series.Series"
            ]
          },
          "metadata": {
            "tags": []
          },
          "execution_count": 7
        }
      ]
    },
    {
      "cell_type": "code",
      "metadata": {
        "colab": {
          "base_uri": "https://localhost:8080/"
        },
        "id": "oBrGKQCJIto4",
        "outputId": "d5d839a3-052a-4552-a26d-c47f6b406e1f"
      },
      "source": [
        "dates = pd.date_range('20210507',periods=6)\n",
        "dates"
      ],
      "execution_count": null,
      "outputs": [
        {
          "output_type": "execute_result",
          "data": {
            "text/plain": [
              "DatetimeIndex(['2021-05-07', '2021-05-08', '2021-05-09', '2021-05-10',\n",
              "               '2021-05-11', '2021-05-12'],\n",
              "              dtype='datetime64[ns]', freq='D')"
            ]
          },
          "metadata": {
            "tags": []
          },
          "execution_count": 10
        }
      ]
    },
    {
      "cell_type": "code",
      "metadata": {
        "colab": {
          "base_uri": "https://localhost:8080/",
          "height": 235
        },
        "id": "HWn40qUDJUAL",
        "outputId": "83b58a0a-8439-4649-bce5-8a969e298b19"
      },
      "source": [
        "df = pd.DataFrame(np.random.randn(6,4)) \n",
        "df"
      ],
      "execution_count": null,
      "outputs": [
        {
          "output_type": "execute_result",
          "data": {
            "text/html": [
              "<div>\n",
              "<style scoped>\n",
              "    .dataframe tbody tr th:only-of-type {\n",
              "        vertical-align: middle;\n",
              "    }\n",
              "\n",
              "    .dataframe tbody tr th {\n",
              "        vertical-align: top;\n",
              "    }\n",
              "\n",
              "    .dataframe thead th {\n",
              "        text-align: right;\n",
              "    }\n",
              "</style>\n",
              "<table border=\"1\" class=\"dataframe\">\n",
              "  <thead>\n",
              "    <tr style=\"text-align: right;\">\n",
              "      <th></th>\n",
              "      <th>0</th>\n",
              "      <th>1</th>\n",
              "      <th>2</th>\n",
              "      <th>3</th>\n",
              "    </tr>\n",
              "  </thead>\n",
              "  <tbody>\n",
              "    <tr>\n",
              "      <th>0</th>\n",
              "      <td>1.068051</td>\n",
              "      <td>-1.819416</td>\n",
              "      <td>0.380920</td>\n",
              "      <td>-2.071714</td>\n",
              "    </tr>\n",
              "    <tr>\n",
              "      <th>1</th>\n",
              "      <td>0.310982</td>\n",
              "      <td>0.284305</td>\n",
              "      <td>0.287907</td>\n",
              "      <td>0.152214</td>\n",
              "    </tr>\n",
              "    <tr>\n",
              "      <th>2</th>\n",
              "      <td>-0.332282</td>\n",
              "      <td>0.562906</td>\n",
              "      <td>-0.965571</td>\n",
              "      <td>1.003100</td>\n",
              "    </tr>\n",
              "    <tr>\n",
              "      <th>3</th>\n",
              "      <td>0.850415</td>\n",
              "      <td>-0.460521</td>\n",
              "      <td>-0.849799</td>\n",
              "      <td>-1.185283</td>\n",
              "    </tr>\n",
              "    <tr>\n",
              "      <th>4</th>\n",
              "      <td>-0.076553</td>\n",
              "      <td>1.321259</td>\n",
              "      <td>1.882191</td>\n",
              "      <td>-2.886496</td>\n",
              "    </tr>\n",
              "    <tr>\n",
              "      <th>5</th>\n",
              "      <td>2.361135</td>\n",
              "      <td>-0.870937</td>\n",
              "      <td>1.536313</td>\n",
              "      <td>-1.702491</td>\n",
              "    </tr>\n",
              "  </tbody>\n",
              "</table>\n",
              "</div>"
            ],
            "text/plain": [
              "          0         1         2         3\n",
              "0  1.068051 -1.819416  0.380920 -2.071714\n",
              "1  0.310982  0.284305  0.287907  0.152214\n",
              "2 -0.332282  0.562906 -0.965571  1.003100\n",
              "3  0.850415 -0.460521 -0.849799 -1.185283\n",
              "4 -0.076553  1.321259  1.882191 -2.886496\n",
              "5  2.361135 -0.870937  1.536313 -1.702491"
            ]
          },
          "metadata": {
            "tags": []
          },
          "execution_count": 16
        }
      ]
    },
    {
      "cell_type": "code",
      "metadata": {
        "colab": {
          "base_uri": "https://localhost:8080/",
          "height": 235
        },
        "id": "j2_gWheDJU84",
        "outputId": "b6d50a77-7446-4592-ae3c-b1507c065d24"
      },
      "source": [
        "df = pd.DataFrame(np.random.randn(6,4),index=dates)\n",
        "df"
      ],
      "execution_count": null,
      "outputs": [
        {
          "output_type": "execute_result",
          "data": {
            "text/html": [
              "<div>\n",
              "<style scoped>\n",
              "    .dataframe tbody tr th:only-of-type {\n",
              "        vertical-align: middle;\n",
              "    }\n",
              "\n",
              "    .dataframe tbody tr th {\n",
              "        vertical-align: top;\n",
              "    }\n",
              "\n",
              "    .dataframe thead th {\n",
              "        text-align: right;\n",
              "    }\n",
              "</style>\n",
              "<table border=\"1\" class=\"dataframe\">\n",
              "  <thead>\n",
              "    <tr style=\"text-align: right;\">\n",
              "      <th></th>\n",
              "      <th>0</th>\n",
              "      <th>1</th>\n",
              "      <th>2</th>\n",
              "      <th>3</th>\n",
              "    </tr>\n",
              "  </thead>\n",
              "  <tbody>\n",
              "    <tr>\n",
              "      <th>2021-05-07</th>\n",
              "      <td>1.093192</td>\n",
              "      <td>0.956810</td>\n",
              "      <td>0.557103</td>\n",
              "      <td>0.098864</td>\n",
              "    </tr>\n",
              "    <tr>\n",
              "      <th>2021-05-08</th>\n",
              "      <td>0.126601</td>\n",
              "      <td>-0.713011</td>\n",
              "      <td>0.364808</td>\n",
              "      <td>0.176592</td>\n",
              "    </tr>\n",
              "    <tr>\n",
              "      <th>2021-05-09</th>\n",
              "      <td>0.411035</td>\n",
              "      <td>-0.172991</td>\n",
              "      <td>0.724943</td>\n",
              "      <td>-0.406913</td>\n",
              "    </tr>\n",
              "    <tr>\n",
              "      <th>2021-05-10</th>\n",
              "      <td>-1.817290</td>\n",
              "      <td>1.074378</td>\n",
              "      <td>0.538844</td>\n",
              "      <td>-0.063020</td>\n",
              "    </tr>\n",
              "    <tr>\n",
              "      <th>2021-05-11</th>\n",
              "      <td>-0.270612</td>\n",
              "      <td>-0.103907</td>\n",
              "      <td>0.706148</td>\n",
              "      <td>2.188608</td>\n",
              "    </tr>\n",
              "    <tr>\n",
              "      <th>2021-05-12</th>\n",
              "      <td>2.101867</td>\n",
              "      <td>-0.698879</td>\n",
              "      <td>-0.017959</td>\n",
              "      <td>0.452691</td>\n",
              "    </tr>\n",
              "  </tbody>\n",
              "</table>\n",
              "</div>"
            ],
            "text/plain": [
              "                   0         1         2         3\n",
              "2021-05-07  1.093192  0.956810  0.557103  0.098864\n",
              "2021-05-08  0.126601 -0.713011  0.364808  0.176592\n",
              "2021-05-09  0.411035 -0.172991  0.724943 -0.406913\n",
              "2021-05-10 -1.817290  1.074378  0.538844 -0.063020\n",
              "2021-05-11 -0.270612 -0.103907  0.706148  2.188608\n",
              "2021-05-12  2.101867 -0.698879 -0.017959  0.452691"
            ]
          },
          "metadata": {
            "tags": []
          },
          "execution_count": 18
        }
      ]
    },
    {
      "cell_type": "code",
      "metadata": {
        "colab": {
          "base_uri": "https://localhost:8080/",
          "height": 235
        },
        "id": "9oN-6B80KRrj",
        "outputId": "1caf20e9-70d0-4bfc-8d0c-03c801e55b0e"
      },
      "source": [
        "df = pd.DataFrame(np.random.randn(6,4),index=dates, columns=['국','영','수','물'])\n",
        "df"
      ],
      "execution_count": null,
      "outputs": [
        {
          "output_type": "execute_result",
          "data": {
            "text/html": [
              "<div>\n",
              "<style scoped>\n",
              "    .dataframe tbody tr th:only-of-type {\n",
              "        vertical-align: middle;\n",
              "    }\n",
              "\n",
              "    .dataframe tbody tr th {\n",
              "        vertical-align: top;\n",
              "    }\n",
              "\n",
              "    .dataframe thead th {\n",
              "        text-align: right;\n",
              "    }\n",
              "</style>\n",
              "<table border=\"1\" class=\"dataframe\">\n",
              "  <thead>\n",
              "    <tr style=\"text-align: right;\">\n",
              "      <th></th>\n",
              "      <th>국</th>\n",
              "      <th>영</th>\n",
              "      <th>수</th>\n",
              "      <th>물</th>\n",
              "    </tr>\n",
              "  </thead>\n",
              "  <tbody>\n",
              "    <tr>\n",
              "      <th>2021-05-07</th>\n",
              "      <td>1.676275</td>\n",
              "      <td>-0.810645</td>\n",
              "      <td>1.596401</td>\n",
              "      <td>-0.285115</td>\n",
              "    </tr>\n",
              "    <tr>\n",
              "      <th>2021-05-08</th>\n",
              "      <td>-0.023182</td>\n",
              "      <td>0.429651</td>\n",
              "      <td>1.873813</td>\n",
              "      <td>-1.366525</td>\n",
              "    </tr>\n",
              "    <tr>\n",
              "      <th>2021-05-09</th>\n",
              "      <td>0.555594</td>\n",
              "      <td>-0.102213</td>\n",
              "      <td>-0.597352</td>\n",
              "      <td>0.952507</td>\n",
              "    </tr>\n",
              "    <tr>\n",
              "      <th>2021-05-10</th>\n",
              "      <td>2.209995</td>\n",
              "      <td>1.240659</td>\n",
              "      <td>0.728422</td>\n",
              "      <td>0.698406</td>\n",
              "    </tr>\n",
              "    <tr>\n",
              "      <th>2021-05-11</th>\n",
              "      <td>-0.690762</td>\n",
              "      <td>-1.251232</td>\n",
              "      <td>-0.804784</td>\n",
              "      <td>0.207370</td>\n",
              "    </tr>\n",
              "    <tr>\n",
              "      <th>2021-05-12</th>\n",
              "      <td>-0.693665</td>\n",
              "      <td>-0.143944</td>\n",
              "      <td>-0.621357</td>\n",
              "      <td>0.355666</td>\n",
              "    </tr>\n",
              "  </tbody>\n",
              "</table>\n",
              "</div>"
            ],
            "text/plain": [
              "                   국         영         수         물\n",
              "2021-05-07  1.676275 -0.810645  1.596401 -0.285115\n",
              "2021-05-08 -0.023182  0.429651  1.873813 -1.366525\n",
              "2021-05-09  0.555594 -0.102213 -0.597352  0.952507\n",
              "2021-05-10  2.209995  1.240659  0.728422  0.698406\n",
              "2021-05-11 -0.690762 -1.251232 -0.804784  0.207370\n",
              "2021-05-12 -0.693665 -0.143944 -0.621357  0.355666"
            ]
          },
          "metadata": {
            "tags": []
          },
          "execution_count": 20
        }
      ]
    },
    {
      "cell_type": "code",
      "metadata": {
        "colab": {
          "base_uri": "https://localhost:8080/",
          "height": 235
        },
        "id": "FwAc-RRXKkkY",
        "outputId": "248bd7a4-552c-4591-b4c7-e76fa23b683b"
      },
      "source": [
        "df = pd.DataFrame(np.random.randn(6,4),index=dates, columns=list('ABCD'))\n",
        "df"
      ],
      "execution_count": null,
      "outputs": [
        {
          "output_type": "execute_result",
          "data": {
            "text/html": [
              "<div>\n",
              "<style scoped>\n",
              "    .dataframe tbody tr th:only-of-type {\n",
              "        vertical-align: middle;\n",
              "    }\n",
              "\n",
              "    .dataframe tbody tr th {\n",
              "        vertical-align: top;\n",
              "    }\n",
              "\n",
              "    .dataframe thead th {\n",
              "        text-align: right;\n",
              "    }\n",
              "</style>\n",
              "<table border=\"1\" class=\"dataframe\">\n",
              "  <thead>\n",
              "    <tr style=\"text-align: right;\">\n",
              "      <th></th>\n",
              "      <th>A</th>\n",
              "      <th>B</th>\n",
              "      <th>C</th>\n",
              "      <th>D</th>\n",
              "    </tr>\n",
              "  </thead>\n",
              "  <tbody>\n",
              "    <tr>\n",
              "      <th>2021-05-07</th>\n",
              "      <td>-0.923471</td>\n",
              "      <td>-1.128722</td>\n",
              "      <td>0.344329</td>\n",
              "      <td>2.473931</td>\n",
              "    </tr>\n",
              "    <tr>\n",
              "      <th>2021-05-08</th>\n",
              "      <td>1.042931</td>\n",
              "      <td>-0.516518</td>\n",
              "      <td>-1.168607</td>\n",
              "      <td>2.268072</td>\n",
              "    </tr>\n",
              "    <tr>\n",
              "      <th>2021-05-09</th>\n",
              "      <td>-0.041827</td>\n",
              "      <td>1.963407</td>\n",
              "      <td>0.815771</td>\n",
              "      <td>0.522941</td>\n",
              "    </tr>\n",
              "    <tr>\n",
              "      <th>2021-05-10</th>\n",
              "      <td>0.563310</td>\n",
              "      <td>0.469937</td>\n",
              "      <td>1.036107</td>\n",
              "      <td>0.488630</td>\n",
              "    </tr>\n",
              "    <tr>\n",
              "      <th>2021-05-11</th>\n",
              "      <td>-0.158417</td>\n",
              "      <td>-0.724108</td>\n",
              "      <td>2.277442</td>\n",
              "      <td>0.684901</td>\n",
              "    </tr>\n",
              "    <tr>\n",
              "      <th>2021-05-12</th>\n",
              "      <td>0.397523</td>\n",
              "      <td>0.358805</td>\n",
              "      <td>1.446533</td>\n",
              "      <td>0.354344</td>\n",
              "    </tr>\n",
              "  </tbody>\n",
              "</table>\n",
              "</div>"
            ],
            "text/plain": [
              "                   A         B         C         D\n",
              "2021-05-07 -0.923471 -1.128722  0.344329  2.473931\n",
              "2021-05-08  1.042931 -0.516518 -1.168607  2.268072\n",
              "2021-05-09 -0.041827  1.963407  0.815771  0.522941\n",
              "2021-05-10  0.563310  0.469937  1.036107  0.488630\n",
              "2021-05-11 -0.158417 -0.724108  2.277442  0.684901\n",
              "2021-05-12  0.397523  0.358805  1.446533  0.354344"
            ]
          },
          "metadata": {
            "tags": []
          },
          "execution_count": 21
        }
      ]
    },
    {
      "cell_type": "code",
      "metadata": {
        "colab": {
          "base_uri": "https://localhost:8080/",
          "height": 173
        },
        "id": "TKhsslyGLBZH",
        "outputId": "8e0dab1b-d988-48bb-c329-60b472bcccf6"
      },
      "source": [
        "df2 = pd.DataFrame(\n",
        "    {\n",
        "        'A': 1.,\n",
        "        'B': pd.Timestamp('20210507'),\n",
        "        'C': pd.Series(1, index=list(range(4)), dtype='float32'),\n",
        "        'D': np.array([3] * 4, dtype='int32'),\n",
        "        'E': pd.Categorical([\"test\", \"train\", \"test\", \"train\"]),\n",
        "        'F': 'foo'\n",
        "     }\n",
        ")\n",
        "df2"
      ],
      "execution_count": null,
      "outputs": [
        {
          "output_type": "execute_result",
          "data": {
            "text/html": [
              "<div>\n",
              "<style scoped>\n",
              "    .dataframe tbody tr th:only-of-type {\n",
              "        vertical-align: middle;\n",
              "    }\n",
              "\n",
              "    .dataframe tbody tr th {\n",
              "        vertical-align: top;\n",
              "    }\n",
              "\n",
              "    .dataframe thead th {\n",
              "        text-align: right;\n",
              "    }\n",
              "</style>\n",
              "<table border=\"1\" class=\"dataframe\">\n",
              "  <thead>\n",
              "    <tr style=\"text-align: right;\">\n",
              "      <th></th>\n",
              "      <th>A</th>\n",
              "      <th>B</th>\n",
              "      <th>C</th>\n",
              "      <th>D</th>\n",
              "      <th>E</th>\n",
              "      <th>F</th>\n",
              "    </tr>\n",
              "  </thead>\n",
              "  <tbody>\n",
              "    <tr>\n",
              "      <th>0</th>\n",
              "      <td>1.0</td>\n",
              "      <td>2021-05-07</td>\n",
              "      <td>1.0</td>\n",
              "      <td>3</td>\n",
              "      <td>test</td>\n",
              "      <td>foo</td>\n",
              "    </tr>\n",
              "    <tr>\n",
              "      <th>1</th>\n",
              "      <td>1.0</td>\n",
              "      <td>2021-05-07</td>\n",
              "      <td>1.0</td>\n",
              "      <td>3</td>\n",
              "      <td>train</td>\n",
              "      <td>foo</td>\n",
              "    </tr>\n",
              "    <tr>\n",
              "      <th>2</th>\n",
              "      <td>1.0</td>\n",
              "      <td>2021-05-07</td>\n",
              "      <td>1.0</td>\n",
              "      <td>3</td>\n",
              "      <td>test</td>\n",
              "      <td>foo</td>\n",
              "    </tr>\n",
              "    <tr>\n",
              "      <th>3</th>\n",
              "      <td>1.0</td>\n",
              "      <td>2021-05-07</td>\n",
              "      <td>1.0</td>\n",
              "      <td>3</td>\n",
              "      <td>train</td>\n",
              "      <td>foo</td>\n",
              "    </tr>\n",
              "  </tbody>\n",
              "</table>\n",
              "</div>"
            ],
            "text/plain": [
              "     A          B    C  D      E    F\n",
              "0  1.0 2021-05-07  1.0  3   test  foo\n",
              "1  1.0 2021-05-07  1.0  3  train  foo\n",
              "2  1.0 2021-05-07  1.0  3   test  foo\n",
              "3  1.0 2021-05-07  1.0  3  train  foo"
            ]
          },
          "metadata": {
            "tags": []
          },
          "execution_count": 29
        }
      ]
    },
    {
      "cell_type": "code",
      "metadata": {
        "colab": {
          "base_uri": "https://localhost:8080/",
          "height": 235
        },
        "id": "pJfCwpr4Mm5J",
        "outputId": "17d9b06a-6a3c-4579-c0fb-1bbd954f8f8b"
      },
      "source": [
        "df"
      ],
      "execution_count": null,
      "outputs": [
        {
          "output_type": "execute_result",
          "data": {
            "text/html": [
              "<div>\n",
              "<style scoped>\n",
              "    .dataframe tbody tr th:only-of-type {\n",
              "        vertical-align: middle;\n",
              "    }\n",
              "\n",
              "    .dataframe tbody tr th {\n",
              "        vertical-align: top;\n",
              "    }\n",
              "\n",
              "    .dataframe thead th {\n",
              "        text-align: right;\n",
              "    }\n",
              "</style>\n",
              "<table border=\"1\" class=\"dataframe\">\n",
              "  <thead>\n",
              "    <tr style=\"text-align: right;\">\n",
              "      <th></th>\n",
              "      <th>A</th>\n",
              "      <th>B</th>\n",
              "      <th>C</th>\n",
              "      <th>D</th>\n",
              "    </tr>\n",
              "  </thead>\n",
              "  <tbody>\n",
              "    <tr>\n",
              "      <th>2021-05-07</th>\n",
              "      <td>-0.923471</td>\n",
              "      <td>-1.128722</td>\n",
              "      <td>0.344329</td>\n",
              "      <td>2.473931</td>\n",
              "    </tr>\n",
              "    <tr>\n",
              "      <th>2021-05-08</th>\n",
              "      <td>1.042931</td>\n",
              "      <td>-0.516518</td>\n",
              "      <td>-1.168607</td>\n",
              "      <td>2.268072</td>\n",
              "    </tr>\n",
              "    <tr>\n",
              "      <th>2021-05-09</th>\n",
              "      <td>-0.041827</td>\n",
              "      <td>1.963407</td>\n",
              "      <td>0.815771</td>\n",
              "      <td>0.522941</td>\n",
              "    </tr>\n",
              "    <tr>\n",
              "      <th>2021-05-10</th>\n",
              "      <td>0.563310</td>\n",
              "      <td>0.469937</td>\n",
              "      <td>1.036107</td>\n",
              "      <td>0.488630</td>\n",
              "    </tr>\n",
              "    <tr>\n",
              "      <th>2021-05-11</th>\n",
              "      <td>-0.158417</td>\n",
              "      <td>-0.724108</td>\n",
              "      <td>2.277442</td>\n",
              "      <td>0.684901</td>\n",
              "    </tr>\n",
              "    <tr>\n",
              "      <th>2021-05-12</th>\n",
              "      <td>0.397523</td>\n",
              "      <td>0.358805</td>\n",
              "      <td>1.446533</td>\n",
              "      <td>0.354344</td>\n",
              "    </tr>\n",
              "  </tbody>\n",
              "</table>\n",
              "</div>"
            ],
            "text/plain": [
              "                   A         B         C         D\n",
              "2021-05-07 -0.923471 -1.128722  0.344329  2.473931\n",
              "2021-05-08  1.042931 -0.516518 -1.168607  2.268072\n",
              "2021-05-09 -0.041827  1.963407  0.815771  0.522941\n",
              "2021-05-10  0.563310  0.469937  1.036107  0.488630\n",
              "2021-05-11 -0.158417 -0.724108  2.277442  0.684901\n",
              "2021-05-12  0.397523  0.358805  1.446533  0.354344"
            ]
          },
          "metadata": {
            "tags": []
          },
          "execution_count": 30
        }
      ]
    },
    {
      "cell_type": "code",
      "metadata": {
        "colab": {
          "base_uri": "https://localhost:8080/",
          "height": 204
        },
        "id": "we7Mt-_yND9m",
        "outputId": "1854e3e6-144e-4dd8-9435-f40fe4bd74d2"
      },
      "source": [
        "df.head()"
      ],
      "execution_count": null,
      "outputs": [
        {
          "output_type": "execute_result",
          "data": {
            "text/html": [
              "<div>\n",
              "<style scoped>\n",
              "    .dataframe tbody tr th:only-of-type {\n",
              "        vertical-align: middle;\n",
              "    }\n",
              "\n",
              "    .dataframe tbody tr th {\n",
              "        vertical-align: top;\n",
              "    }\n",
              "\n",
              "    .dataframe thead th {\n",
              "        text-align: right;\n",
              "    }\n",
              "</style>\n",
              "<table border=\"1\" class=\"dataframe\">\n",
              "  <thead>\n",
              "    <tr style=\"text-align: right;\">\n",
              "      <th></th>\n",
              "      <th>A</th>\n",
              "      <th>B</th>\n",
              "      <th>C</th>\n",
              "      <th>D</th>\n",
              "    </tr>\n",
              "  </thead>\n",
              "  <tbody>\n",
              "    <tr>\n",
              "      <th>2021-05-07</th>\n",
              "      <td>-0.923471</td>\n",
              "      <td>-1.128722</td>\n",
              "      <td>0.344329</td>\n",
              "      <td>2.473931</td>\n",
              "    </tr>\n",
              "    <tr>\n",
              "      <th>2021-05-08</th>\n",
              "      <td>1.042931</td>\n",
              "      <td>-0.516518</td>\n",
              "      <td>-1.168607</td>\n",
              "      <td>2.268072</td>\n",
              "    </tr>\n",
              "    <tr>\n",
              "      <th>2021-05-09</th>\n",
              "      <td>-0.041827</td>\n",
              "      <td>1.963407</td>\n",
              "      <td>0.815771</td>\n",
              "      <td>0.522941</td>\n",
              "    </tr>\n",
              "    <tr>\n",
              "      <th>2021-05-10</th>\n",
              "      <td>0.563310</td>\n",
              "      <td>0.469937</td>\n",
              "      <td>1.036107</td>\n",
              "      <td>0.488630</td>\n",
              "    </tr>\n",
              "    <tr>\n",
              "      <th>2021-05-11</th>\n",
              "      <td>-0.158417</td>\n",
              "      <td>-0.724108</td>\n",
              "      <td>2.277442</td>\n",
              "      <td>0.684901</td>\n",
              "    </tr>\n",
              "  </tbody>\n",
              "</table>\n",
              "</div>"
            ],
            "text/plain": [
              "                   A         B         C         D\n",
              "2021-05-07 -0.923471 -1.128722  0.344329  2.473931\n",
              "2021-05-08  1.042931 -0.516518 -1.168607  2.268072\n",
              "2021-05-09 -0.041827  1.963407  0.815771  0.522941\n",
              "2021-05-10  0.563310  0.469937  1.036107  0.488630\n",
              "2021-05-11 -0.158417 -0.724108  2.277442  0.684901"
            ]
          },
          "metadata": {
            "tags": []
          },
          "execution_count": 31
        }
      ]
    },
    {
      "cell_type": "code",
      "metadata": {
        "colab": {
          "base_uri": "https://localhost:8080/",
          "height": 204
        },
        "id": "Yc14Hrd4NMR1",
        "outputId": "4051cc81-2ac1-4fc1-bf6a-e8c7a08a3f89"
      },
      "source": [
        "df.tail()"
      ],
      "execution_count": null,
      "outputs": [
        {
          "output_type": "execute_result",
          "data": {
            "text/html": [
              "<div>\n",
              "<style scoped>\n",
              "    .dataframe tbody tr th:only-of-type {\n",
              "        vertical-align: middle;\n",
              "    }\n",
              "\n",
              "    .dataframe tbody tr th {\n",
              "        vertical-align: top;\n",
              "    }\n",
              "\n",
              "    .dataframe thead th {\n",
              "        text-align: right;\n",
              "    }\n",
              "</style>\n",
              "<table border=\"1\" class=\"dataframe\">\n",
              "  <thead>\n",
              "    <tr style=\"text-align: right;\">\n",
              "      <th></th>\n",
              "      <th>A</th>\n",
              "      <th>B</th>\n",
              "      <th>C</th>\n",
              "      <th>D</th>\n",
              "    </tr>\n",
              "  </thead>\n",
              "  <tbody>\n",
              "    <tr>\n",
              "      <th>2021-05-08</th>\n",
              "      <td>1.042931</td>\n",
              "      <td>-0.516518</td>\n",
              "      <td>-1.168607</td>\n",
              "      <td>2.268072</td>\n",
              "    </tr>\n",
              "    <tr>\n",
              "      <th>2021-05-09</th>\n",
              "      <td>-0.041827</td>\n",
              "      <td>1.963407</td>\n",
              "      <td>0.815771</td>\n",
              "      <td>0.522941</td>\n",
              "    </tr>\n",
              "    <tr>\n",
              "      <th>2021-05-10</th>\n",
              "      <td>0.563310</td>\n",
              "      <td>0.469937</td>\n",
              "      <td>1.036107</td>\n",
              "      <td>0.488630</td>\n",
              "    </tr>\n",
              "    <tr>\n",
              "      <th>2021-05-11</th>\n",
              "      <td>-0.158417</td>\n",
              "      <td>-0.724108</td>\n",
              "      <td>2.277442</td>\n",
              "      <td>0.684901</td>\n",
              "    </tr>\n",
              "    <tr>\n",
              "      <th>2021-05-12</th>\n",
              "      <td>0.397523</td>\n",
              "      <td>0.358805</td>\n",
              "      <td>1.446533</td>\n",
              "      <td>0.354344</td>\n",
              "    </tr>\n",
              "  </tbody>\n",
              "</table>\n",
              "</div>"
            ],
            "text/plain": [
              "                   A         B         C         D\n",
              "2021-05-08  1.042931 -0.516518 -1.168607  2.268072\n",
              "2021-05-09 -0.041827  1.963407  0.815771  0.522941\n",
              "2021-05-10  0.563310  0.469937  1.036107  0.488630\n",
              "2021-05-11 -0.158417 -0.724108  2.277442  0.684901\n",
              "2021-05-12  0.397523  0.358805  1.446533  0.354344"
            ]
          },
          "metadata": {
            "tags": []
          },
          "execution_count": 32
        }
      ]
    },
    {
      "cell_type": "code",
      "metadata": {
        "colab": {
          "base_uri": "https://localhost:8080/",
          "height": 80
        },
        "id": "zcVoZIi2NTXn",
        "outputId": "531e6bf8-a7d5-4994-91fc-d9dbb98cbfcc"
      },
      "source": [
        "df.head(1)"
      ],
      "execution_count": null,
      "outputs": [
        {
          "output_type": "execute_result",
          "data": {
            "text/html": [
              "<div>\n",
              "<style scoped>\n",
              "    .dataframe tbody tr th:only-of-type {\n",
              "        vertical-align: middle;\n",
              "    }\n",
              "\n",
              "    .dataframe tbody tr th {\n",
              "        vertical-align: top;\n",
              "    }\n",
              "\n",
              "    .dataframe thead th {\n",
              "        text-align: right;\n",
              "    }\n",
              "</style>\n",
              "<table border=\"1\" class=\"dataframe\">\n",
              "  <thead>\n",
              "    <tr style=\"text-align: right;\">\n",
              "      <th></th>\n",
              "      <th>A</th>\n",
              "      <th>B</th>\n",
              "      <th>C</th>\n",
              "      <th>D</th>\n",
              "    </tr>\n",
              "  </thead>\n",
              "  <tbody>\n",
              "    <tr>\n",
              "      <th>2021-05-07</th>\n",
              "      <td>-0.923471</td>\n",
              "      <td>-1.128722</td>\n",
              "      <td>0.344329</td>\n",
              "      <td>2.473931</td>\n",
              "    </tr>\n",
              "  </tbody>\n",
              "</table>\n",
              "</div>"
            ],
            "text/plain": [
              "                   A         B         C         D\n",
              "2021-05-07 -0.923471 -1.128722  0.344329  2.473931"
            ]
          },
          "metadata": {
            "tags": []
          },
          "execution_count": 33
        }
      ]
    },
    {
      "cell_type": "code",
      "metadata": {
        "colab": {
          "base_uri": "https://localhost:8080/",
          "height": 111
        },
        "id": "GtThtbjLNh5G",
        "outputId": "d3d2a4e2-c9f0-48de-e318-08c9251e78b0"
      },
      "source": [
        "df.tail(2)"
      ],
      "execution_count": null,
      "outputs": [
        {
          "output_type": "execute_result",
          "data": {
            "text/html": [
              "<div>\n",
              "<style scoped>\n",
              "    .dataframe tbody tr th:only-of-type {\n",
              "        vertical-align: middle;\n",
              "    }\n",
              "\n",
              "    .dataframe tbody tr th {\n",
              "        vertical-align: top;\n",
              "    }\n",
              "\n",
              "    .dataframe thead th {\n",
              "        text-align: right;\n",
              "    }\n",
              "</style>\n",
              "<table border=\"1\" class=\"dataframe\">\n",
              "  <thead>\n",
              "    <tr style=\"text-align: right;\">\n",
              "      <th></th>\n",
              "      <th>A</th>\n",
              "      <th>B</th>\n",
              "      <th>C</th>\n",
              "      <th>D</th>\n",
              "    </tr>\n",
              "  </thead>\n",
              "  <tbody>\n",
              "    <tr>\n",
              "      <th>2021-05-11</th>\n",
              "      <td>-0.158417</td>\n",
              "      <td>-0.724108</td>\n",
              "      <td>2.277442</td>\n",
              "      <td>0.684901</td>\n",
              "    </tr>\n",
              "    <tr>\n",
              "      <th>2021-05-12</th>\n",
              "      <td>0.397523</td>\n",
              "      <td>0.358805</td>\n",
              "      <td>1.446533</td>\n",
              "      <td>0.354344</td>\n",
              "    </tr>\n",
              "  </tbody>\n",
              "</table>\n",
              "</div>"
            ],
            "text/plain": [
              "                   A         B         C         D\n",
              "2021-05-11 -0.158417 -0.724108  2.277442  0.684901\n",
              "2021-05-12  0.397523  0.358805  1.446533  0.354344"
            ]
          },
          "metadata": {
            "tags": []
          },
          "execution_count": 34
        }
      ]
    },
    {
      "cell_type": "code",
      "metadata": {
        "colab": {
          "base_uri": "https://localhost:8080/",
          "height": 235
        },
        "id": "AgiBI5AjNkem",
        "outputId": "b5a32eb9-7f45-4acb-acc8-ec61b90ad4a6"
      },
      "source": [
        "df"
      ],
      "execution_count": null,
      "outputs": [
        {
          "output_type": "execute_result",
          "data": {
            "text/html": [
              "<div>\n",
              "<style scoped>\n",
              "    .dataframe tbody tr th:only-of-type {\n",
              "        vertical-align: middle;\n",
              "    }\n",
              "\n",
              "    .dataframe tbody tr th {\n",
              "        vertical-align: top;\n",
              "    }\n",
              "\n",
              "    .dataframe thead th {\n",
              "        text-align: right;\n",
              "    }\n",
              "</style>\n",
              "<table border=\"1\" class=\"dataframe\">\n",
              "  <thead>\n",
              "    <tr style=\"text-align: right;\">\n",
              "      <th></th>\n",
              "      <th>A</th>\n",
              "      <th>B</th>\n",
              "      <th>C</th>\n",
              "      <th>D</th>\n",
              "    </tr>\n",
              "  </thead>\n",
              "  <tbody>\n",
              "    <tr>\n",
              "      <th>2021-05-07</th>\n",
              "      <td>-0.923471</td>\n",
              "      <td>-1.128722</td>\n",
              "      <td>0.344329</td>\n",
              "      <td>2.473931</td>\n",
              "    </tr>\n",
              "    <tr>\n",
              "      <th>2021-05-08</th>\n",
              "      <td>1.042931</td>\n",
              "      <td>-0.516518</td>\n",
              "      <td>-1.168607</td>\n",
              "      <td>2.268072</td>\n",
              "    </tr>\n",
              "    <tr>\n",
              "      <th>2021-05-09</th>\n",
              "      <td>-0.041827</td>\n",
              "      <td>1.963407</td>\n",
              "      <td>0.815771</td>\n",
              "      <td>0.522941</td>\n",
              "    </tr>\n",
              "    <tr>\n",
              "      <th>2021-05-10</th>\n",
              "      <td>0.563310</td>\n",
              "      <td>0.469937</td>\n",
              "      <td>1.036107</td>\n",
              "      <td>0.488630</td>\n",
              "    </tr>\n",
              "    <tr>\n",
              "      <th>2021-05-11</th>\n",
              "      <td>-0.158417</td>\n",
              "      <td>-0.724108</td>\n",
              "      <td>2.277442</td>\n",
              "      <td>0.684901</td>\n",
              "    </tr>\n",
              "    <tr>\n",
              "      <th>2021-05-12</th>\n",
              "      <td>0.397523</td>\n",
              "      <td>0.358805</td>\n",
              "      <td>1.446533</td>\n",
              "      <td>0.354344</td>\n",
              "    </tr>\n",
              "  </tbody>\n",
              "</table>\n",
              "</div>"
            ],
            "text/plain": [
              "                   A         B         C         D\n",
              "2021-05-07 -0.923471 -1.128722  0.344329  2.473931\n",
              "2021-05-08  1.042931 -0.516518 -1.168607  2.268072\n",
              "2021-05-09 -0.041827  1.963407  0.815771  0.522941\n",
              "2021-05-10  0.563310  0.469937  1.036107  0.488630\n",
              "2021-05-11 -0.158417 -0.724108  2.277442  0.684901\n",
              "2021-05-12  0.397523  0.358805  1.446533  0.354344"
            ]
          },
          "metadata": {
            "tags": []
          },
          "execution_count": 35
        }
      ]
    },
    {
      "cell_type": "code",
      "metadata": {
        "colab": {
          "base_uri": "https://localhost:8080/"
        },
        "id": "RqtxnmGeNtdX",
        "outputId": "53f4cb4e-2a41-4f55-e2db-57fd32c0a695"
      },
      "source": [
        "df.index"
      ],
      "execution_count": null,
      "outputs": [
        {
          "output_type": "execute_result",
          "data": {
            "text/plain": [
              "DatetimeIndex(['2021-05-07', '2021-05-08', '2021-05-09', '2021-05-10',\n",
              "               '2021-05-11', '2021-05-12'],\n",
              "              dtype='datetime64[ns]', freq='D')"
            ]
          },
          "metadata": {
            "tags": []
          },
          "execution_count": 36
        }
      ]
    },
    {
      "cell_type": "code",
      "metadata": {
        "colab": {
          "base_uri": "https://localhost:8080/"
        },
        "id": "a888LvtPN0dW",
        "outputId": "70bf20dc-eeb8-42bd-de84-0f6d9deb7edd"
      },
      "source": [
        "df.columns\n"
      ],
      "execution_count": null,
      "outputs": [
        {
          "output_type": "execute_result",
          "data": {
            "text/plain": [
              "Index(['A', 'B', 'C', 'D'], dtype='object')"
            ]
          },
          "metadata": {
            "tags": []
          },
          "execution_count": 37
        }
      ]
    },
    {
      "cell_type": "code",
      "metadata": {
        "colab": {
          "base_uri": "https://localhost:8080/"
        },
        "id": "VE_6XzbIN5iX",
        "outputId": "b26d7895-be41-4d2b-ae04-f6a53ba4bcc0"
      },
      "source": [
        "df.values"
      ],
      "execution_count": null,
      "outputs": [
        {
          "output_type": "execute_result",
          "data": {
            "text/plain": [
              "array([[-0.92347055, -1.12872206,  0.34432913,  2.47393125],\n",
              "       [ 1.04293088, -0.51651778, -1.16860711,  2.26807161],\n",
              "       [-0.04182668,  1.96340723,  0.81577104,  0.52294134],\n",
              "       [ 0.56330956,  0.46993687,  1.03610725,  0.48863004],\n",
              "       [-0.15841734, -0.72410781,  2.27744187,  0.68490085],\n",
              "       [ 0.39752274,  0.35880508,  1.44653295,  0.35434394]])"
            ]
          },
          "metadata": {
            "tags": []
          },
          "execution_count": 38
        }
      ]
    },
    {
      "cell_type": "code",
      "metadata": {
        "colab": {
          "base_uri": "https://localhost:8080/",
          "height": 297
        },
        "id": "CfGrtPP6OGsW",
        "outputId": "f5b4b176-9bb8-4911-9fc1-d53f4176b849"
      },
      "source": [
        "df.describe()"
      ],
      "execution_count": null,
      "outputs": [
        {
          "output_type": "execute_result",
          "data": {
            "text/html": [
              "<div>\n",
              "<style scoped>\n",
              "    .dataframe tbody tr th:only-of-type {\n",
              "        vertical-align: middle;\n",
              "    }\n",
              "\n",
              "    .dataframe tbody tr th {\n",
              "        vertical-align: top;\n",
              "    }\n",
              "\n",
              "    .dataframe thead th {\n",
              "        text-align: right;\n",
              "    }\n",
              "</style>\n",
              "<table border=\"1\" class=\"dataframe\">\n",
              "  <thead>\n",
              "    <tr style=\"text-align: right;\">\n",
              "      <th></th>\n",
              "      <th>A</th>\n",
              "      <th>B</th>\n",
              "      <th>C</th>\n",
              "      <th>D</th>\n",
              "    </tr>\n",
              "  </thead>\n",
              "  <tbody>\n",
              "    <tr>\n",
              "      <th>count</th>\n",
              "      <td>6.000000</td>\n",
              "      <td>6.000000</td>\n",
              "      <td>6.000000</td>\n",
              "      <td>6.000000</td>\n",
              "    </tr>\n",
              "    <tr>\n",
              "      <th>mean</th>\n",
              "      <td>0.146675</td>\n",
              "      <td>0.070467</td>\n",
              "      <td>0.791929</td>\n",
              "      <td>1.132137</td>\n",
              "    </tr>\n",
              "    <tr>\n",
              "      <th>std</th>\n",
              "      <td>0.680237</td>\n",
              "      <td>1.117130</td>\n",
              "      <td>1.160990</td>\n",
              "      <td>0.967570</td>\n",
              "    </tr>\n",
              "    <tr>\n",
              "      <th>min</th>\n",
              "      <td>-0.923471</td>\n",
              "      <td>-1.128722</td>\n",
              "      <td>-1.168607</td>\n",
              "      <td>0.354344</td>\n",
              "    </tr>\n",
              "    <tr>\n",
              "      <th>25%</th>\n",
              "      <td>-0.129270</td>\n",
              "      <td>-0.672210</td>\n",
              "      <td>0.462190</td>\n",
              "      <td>0.497208</td>\n",
              "    </tr>\n",
              "    <tr>\n",
              "      <th>50%</th>\n",
              "      <td>0.177848</td>\n",
              "      <td>-0.078856</td>\n",
              "      <td>0.925939</td>\n",
              "      <td>0.603921</td>\n",
              "    </tr>\n",
              "    <tr>\n",
              "      <th>75%</th>\n",
              "      <td>0.521863</td>\n",
              "      <td>0.442154</td>\n",
              "      <td>1.343927</td>\n",
              "      <td>1.872279</td>\n",
              "    </tr>\n",
              "    <tr>\n",
              "      <th>max</th>\n",
              "      <td>1.042931</td>\n",
              "      <td>1.963407</td>\n",
              "      <td>2.277442</td>\n",
              "      <td>2.473931</td>\n",
              "    </tr>\n",
              "  </tbody>\n",
              "</table>\n",
              "</div>"
            ],
            "text/plain": [
              "              A         B         C         D\n",
              "count  6.000000  6.000000  6.000000  6.000000\n",
              "mean   0.146675  0.070467  0.791929  1.132137\n",
              "std    0.680237  1.117130  1.160990  0.967570\n",
              "min   -0.923471 -1.128722 -1.168607  0.354344\n",
              "25%   -0.129270 -0.672210  0.462190  0.497208\n",
              "50%    0.177848 -0.078856  0.925939  0.603921\n",
              "75%    0.521863  0.442154  1.343927  1.872279\n",
              "max    1.042931  1.963407  2.277442  2.473931"
            ]
          },
          "metadata": {
            "tags": []
          },
          "execution_count": 40
        }
      ]
    },
    {
      "cell_type": "code",
      "metadata": {
        "colab": {
          "base_uri": "https://localhost:8080/",
          "height": 173
        },
        "id": "jUW5Ve3IOPOG",
        "outputId": "f8b243f7-2eb7-4502-9566-5043e828c261"
      },
      "source": [
        "df.T"
      ],
      "execution_count": null,
      "outputs": [
        {
          "output_type": "execute_result",
          "data": {
            "text/html": [
              "<div>\n",
              "<style scoped>\n",
              "    .dataframe tbody tr th:only-of-type {\n",
              "        vertical-align: middle;\n",
              "    }\n",
              "\n",
              "    .dataframe tbody tr th {\n",
              "        vertical-align: top;\n",
              "    }\n",
              "\n",
              "    .dataframe thead th {\n",
              "        text-align: right;\n",
              "    }\n",
              "</style>\n",
              "<table border=\"1\" class=\"dataframe\">\n",
              "  <thead>\n",
              "    <tr style=\"text-align: right;\">\n",
              "      <th></th>\n",
              "      <th>2021-05-07</th>\n",
              "      <th>2021-05-08</th>\n",
              "      <th>2021-05-09</th>\n",
              "      <th>2021-05-10</th>\n",
              "      <th>2021-05-11</th>\n",
              "      <th>2021-05-12</th>\n",
              "    </tr>\n",
              "  </thead>\n",
              "  <tbody>\n",
              "    <tr>\n",
              "      <th>A</th>\n",
              "      <td>-0.923471</td>\n",
              "      <td>1.042931</td>\n",
              "      <td>-0.041827</td>\n",
              "      <td>0.563310</td>\n",
              "      <td>-0.158417</td>\n",
              "      <td>0.397523</td>\n",
              "    </tr>\n",
              "    <tr>\n",
              "      <th>B</th>\n",
              "      <td>-1.128722</td>\n",
              "      <td>-0.516518</td>\n",
              "      <td>1.963407</td>\n",
              "      <td>0.469937</td>\n",
              "      <td>-0.724108</td>\n",
              "      <td>0.358805</td>\n",
              "    </tr>\n",
              "    <tr>\n",
              "      <th>C</th>\n",
              "      <td>0.344329</td>\n",
              "      <td>-1.168607</td>\n",
              "      <td>0.815771</td>\n",
              "      <td>1.036107</td>\n",
              "      <td>2.277442</td>\n",
              "      <td>1.446533</td>\n",
              "    </tr>\n",
              "    <tr>\n",
              "      <th>D</th>\n",
              "      <td>2.473931</td>\n",
              "      <td>2.268072</td>\n",
              "      <td>0.522941</td>\n",
              "      <td>0.488630</td>\n",
              "      <td>0.684901</td>\n",
              "      <td>0.354344</td>\n",
              "    </tr>\n",
              "  </tbody>\n",
              "</table>\n",
              "</div>"
            ],
            "text/plain": [
              "   2021-05-07  2021-05-08  2021-05-09  2021-05-10  2021-05-11  2021-05-12\n",
              "A   -0.923471    1.042931   -0.041827    0.563310   -0.158417    0.397523\n",
              "B   -1.128722   -0.516518    1.963407    0.469937   -0.724108    0.358805\n",
              "C    0.344329   -1.168607    0.815771    1.036107    2.277442    1.446533\n",
              "D    2.473931    2.268072    0.522941    0.488630    0.684901    0.354344"
            ]
          },
          "metadata": {
            "tags": []
          },
          "execution_count": 42
        }
      ]
    },
    {
      "cell_type": "code",
      "metadata": {
        "colab": {
          "base_uri": "https://localhost:8080/",
          "height": 235
        },
        "id": "yWFA0fj-O_Y2",
        "outputId": "654a45f6-db9c-4085-f298-ef3ae7440791"
      },
      "source": [
        "df.sort_index(axis=1,ascending=True)"
      ],
      "execution_count": null,
      "outputs": [
        {
          "output_type": "execute_result",
          "data": {
            "text/html": [
              "<div>\n",
              "<style scoped>\n",
              "    .dataframe tbody tr th:only-of-type {\n",
              "        vertical-align: middle;\n",
              "    }\n",
              "\n",
              "    .dataframe tbody tr th {\n",
              "        vertical-align: top;\n",
              "    }\n",
              "\n",
              "    .dataframe thead th {\n",
              "        text-align: right;\n",
              "    }\n",
              "</style>\n",
              "<table border=\"1\" class=\"dataframe\">\n",
              "  <thead>\n",
              "    <tr style=\"text-align: right;\">\n",
              "      <th></th>\n",
              "      <th>A</th>\n",
              "      <th>B</th>\n",
              "      <th>C</th>\n",
              "      <th>D</th>\n",
              "    </tr>\n",
              "  </thead>\n",
              "  <tbody>\n",
              "    <tr>\n",
              "      <th>2021-05-07</th>\n",
              "      <td>-0.923471</td>\n",
              "      <td>-1.128722</td>\n",
              "      <td>0.344329</td>\n",
              "      <td>2.473931</td>\n",
              "    </tr>\n",
              "    <tr>\n",
              "      <th>2021-05-08</th>\n",
              "      <td>1.042931</td>\n",
              "      <td>-0.516518</td>\n",
              "      <td>-1.168607</td>\n",
              "      <td>2.268072</td>\n",
              "    </tr>\n",
              "    <tr>\n",
              "      <th>2021-05-09</th>\n",
              "      <td>-0.041827</td>\n",
              "      <td>1.963407</td>\n",
              "      <td>0.815771</td>\n",
              "      <td>0.522941</td>\n",
              "    </tr>\n",
              "    <tr>\n",
              "      <th>2021-05-10</th>\n",
              "      <td>0.563310</td>\n",
              "      <td>0.469937</td>\n",
              "      <td>1.036107</td>\n",
              "      <td>0.488630</td>\n",
              "    </tr>\n",
              "    <tr>\n",
              "      <th>2021-05-11</th>\n",
              "      <td>-0.158417</td>\n",
              "      <td>-0.724108</td>\n",
              "      <td>2.277442</td>\n",
              "      <td>0.684901</td>\n",
              "    </tr>\n",
              "    <tr>\n",
              "      <th>2021-05-12</th>\n",
              "      <td>0.397523</td>\n",
              "      <td>0.358805</td>\n",
              "      <td>1.446533</td>\n",
              "      <td>0.354344</td>\n",
              "    </tr>\n",
              "  </tbody>\n",
              "</table>\n",
              "</div>"
            ],
            "text/plain": [
              "                   A         B         C         D\n",
              "2021-05-07 -0.923471 -1.128722  0.344329  2.473931\n",
              "2021-05-08  1.042931 -0.516518 -1.168607  2.268072\n",
              "2021-05-09 -0.041827  1.963407  0.815771  0.522941\n",
              "2021-05-10  0.563310  0.469937  1.036107  0.488630\n",
              "2021-05-11 -0.158417 -0.724108  2.277442  0.684901\n",
              "2021-05-12  0.397523  0.358805  1.446533  0.354344"
            ]
          },
          "metadata": {
            "tags": []
          },
          "execution_count": 46
        }
      ]
    },
    {
      "cell_type": "code",
      "metadata": {
        "colab": {
          "base_uri": "https://localhost:8080/",
          "height": 235
        },
        "id": "4y_FMuqTRkwU",
        "outputId": "cfdf79cd-dfa4-4e68-f777-0836a86f40aa"
      },
      "source": [
        "df.sort_index(axis=0,ascending=True)"
      ],
      "execution_count": null,
      "outputs": [
        {
          "output_type": "execute_result",
          "data": {
            "text/html": [
              "<div>\n",
              "<style scoped>\n",
              "    .dataframe tbody tr th:only-of-type {\n",
              "        vertical-align: middle;\n",
              "    }\n",
              "\n",
              "    .dataframe tbody tr th {\n",
              "        vertical-align: top;\n",
              "    }\n",
              "\n",
              "    .dataframe thead th {\n",
              "        text-align: right;\n",
              "    }\n",
              "</style>\n",
              "<table border=\"1\" class=\"dataframe\">\n",
              "  <thead>\n",
              "    <tr style=\"text-align: right;\">\n",
              "      <th></th>\n",
              "      <th>A</th>\n",
              "      <th>B</th>\n",
              "      <th>C</th>\n",
              "      <th>D</th>\n",
              "    </tr>\n",
              "  </thead>\n",
              "  <tbody>\n",
              "    <tr>\n",
              "      <th>2021-05-07</th>\n",
              "      <td>-0.923471</td>\n",
              "      <td>-1.128722</td>\n",
              "      <td>0.344329</td>\n",
              "      <td>2.473931</td>\n",
              "    </tr>\n",
              "    <tr>\n",
              "      <th>2021-05-08</th>\n",
              "      <td>1.042931</td>\n",
              "      <td>-0.516518</td>\n",
              "      <td>-1.168607</td>\n",
              "      <td>2.268072</td>\n",
              "    </tr>\n",
              "    <tr>\n",
              "      <th>2021-05-09</th>\n",
              "      <td>-0.041827</td>\n",
              "      <td>1.963407</td>\n",
              "      <td>0.815771</td>\n",
              "      <td>0.522941</td>\n",
              "    </tr>\n",
              "    <tr>\n",
              "      <th>2021-05-10</th>\n",
              "      <td>0.563310</td>\n",
              "      <td>0.469937</td>\n",
              "      <td>1.036107</td>\n",
              "      <td>0.488630</td>\n",
              "    </tr>\n",
              "    <tr>\n",
              "      <th>2021-05-11</th>\n",
              "      <td>-0.158417</td>\n",
              "      <td>-0.724108</td>\n",
              "      <td>2.277442</td>\n",
              "      <td>0.684901</td>\n",
              "    </tr>\n",
              "    <tr>\n",
              "      <th>2021-05-12</th>\n",
              "      <td>0.397523</td>\n",
              "      <td>0.358805</td>\n",
              "      <td>1.446533</td>\n",
              "      <td>0.354344</td>\n",
              "    </tr>\n",
              "  </tbody>\n",
              "</table>\n",
              "</div>"
            ],
            "text/plain": [
              "                   A         B         C         D\n",
              "2021-05-07 -0.923471 -1.128722  0.344329  2.473931\n",
              "2021-05-08  1.042931 -0.516518 -1.168607  2.268072\n",
              "2021-05-09 -0.041827  1.963407  0.815771  0.522941\n",
              "2021-05-10  0.563310  0.469937  1.036107  0.488630\n",
              "2021-05-11 -0.158417 -0.724108  2.277442  0.684901\n",
              "2021-05-12  0.397523  0.358805  1.446533  0.354344"
            ]
          },
          "metadata": {
            "tags": []
          },
          "execution_count": 47
        }
      ]
    },
    {
      "cell_type": "code",
      "metadata": {
        "colab": {
          "base_uri": "https://localhost:8080/",
          "height": 235
        },
        "id": "6JNVJLWVSOME",
        "outputId": "dd694c97-23fa-48a2-9d71-37c425b08545"
      },
      "source": [
        "df.sort_index(axis=0,ascending=False)"
      ],
      "execution_count": null,
      "outputs": [
        {
          "output_type": "execute_result",
          "data": {
            "text/html": [
              "<div>\n",
              "<style scoped>\n",
              "    .dataframe tbody tr th:only-of-type {\n",
              "        vertical-align: middle;\n",
              "    }\n",
              "\n",
              "    .dataframe tbody tr th {\n",
              "        vertical-align: top;\n",
              "    }\n",
              "\n",
              "    .dataframe thead th {\n",
              "        text-align: right;\n",
              "    }\n",
              "</style>\n",
              "<table border=\"1\" class=\"dataframe\">\n",
              "  <thead>\n",
              "    <tr style=\"text-align: right;\">\n",
              "      <th></th>\n",
              "      <th>A</th>\n",
              "      <th>B</th>\n",
              "      <th>C</th>\n",
              "      <th>D</th>\n",
              "    </tr>\n",
              "  </thead>\n",
              "  <tbody>\n",
              "    <tr>\n",
              "      <th>2021-05-12</th>\n",
              "      <td>0.397523</td>\n",
              "      <td>0.358805</td>\n",
              "      <td>1.446533</td>\n",
              "      <td>0.354344</td>\n",
              "    </tr>\n",
              "    <tr>\n",
              "      <th>2021-05-11</th>\n",
              "      <td>-0.158417</td>\n",
              "      <td>-0.724108</td>\n",
              "      <td>2.277442</td>\n",
              "      <td>0.684901</td>\n",
              "    </tr>\n",
              "    <tr>\n",
              "      <th>2021-05-10</th>\n",
              "      <td>0.563310</td>\n",
              "      <td>0.469937</td>\n",
              "      <td>1.036107</td>\n",
              "      <td>0.488630</td>\n",
              "    </tr>\n",
              "    <tr>\n",
              "      <th>2021-05-09</th>\n",
              "      <td>-0.041827</td>\n",
              "      <td>1.963407</td>\n",
              "      <td>0.815771</td>\n",
              "      <td>0.522941</td>\n",
              "    </tr>\n",
              "    <tr>\n",
              "      <th>2021-05-08</th>\n",
              "      <td>1.042931</td>\n",
              "      <td>-0.516518</td>\n",
              "      <td>-1.168607</td>\n",
              "      <td>2.268072</td>\n",
              "    </tr>\n",
              "    <tr>\n",
              "      <th>2021-05-07</th>\n",
              "      <td>-0.923471</td>\n",
              "      <td>-1.128722</td>\n",
              "      <td>0.344329</td>\n",
              "      <td>2.473931</td>\n",
              "    </tr>\n",
              "  </tbody>\n",
              "</table>\n",
              "</div>"
            ],
            "text/plain": [
              "                   A         B         C         D\n",
              "2021-05-12  0.397523  0.358805  1.446533  0.354344\n",
              "2021-05-11 -0.158417 -0.724108  2.277442  0.684901\n",
              "2021-05-10  0.563310  0.469937  1.036107  0.488630\n",
              "2021-05-09 -0.041827  1.963407  0.815771  0.522941\n",
              "2021-05-08  1.042931 -0.516518 -1.168607  2.268072\n",
              "2021-05-07 -0.923471 -1.128722  0.344329  2.473931"
            ]
          },
          "metadata": {
            "tags": []
          },
          "execution_count": 49
        }
      ]
    },
    {
      "cell_type": "code",
      "metadata": {
        "colab": {
          "base_uri": "https://localhost:8080/",
          "height": 235
        },
        "id": "-syPCoO_SQkU",
        "outputId": "2a027b9b-58f8-48fd-98eb-6443105a511c"
      },
      "source": [
        "df.sort_values(by='B')"
      ],
      "execution_count": null,
      "outputs": [
        {
          "output_type": "execute_result",
          "data": {
            "text/html": [
              "<div>\n",
              "<style scoped>\n",
              "    .dataframe tbody tr th:only-of-type {\n",
              "        vertical-align: middle;\n",
              "    }\n",
              "\n",
              "    .dataframe tbody tr th {\n",
              "        vertical-align: top;\n",
              "    }\n",
              "\n",
              "    .dataframe thead th {\n",
              "        text-align: right;\n",
              "    }\n",
              "</style>\n",
              "<table border=\"1\" class=\"dataframe\">\n",
              "  <thead>\n",
              "    <tr style=\"text-align: right;\">\n",
              "      <th></th>\n",
              "      <th>A</th>\n",
              "      <th>B</th>\n",
              "      <th>C</th>\n",
              "      <th>D</th>\n",
              "    </tr>\n",
              "  </thead>\n",
              "  <tbody>\n",
              "    <tr>\n",
              "      <th>2021-05-07</th>\n",
              "      <td>-0.923471</td>\n",
              "      <td>-1.128722</td>\n",
              "      <td>0.344329</td>\n",
              "      <td>2.473931</td>\n",
              "    </tr>\n",
              "    <tr>\n",
              "      <th>2021-05-11</th>\n",
              "      <td>-0.158417</td>\n",
              "      <td>-0.724108</td>\n",
              "      <td>2.277442</td>\n",
              "      <td>0.684901</td>\n",
              "    </tr>\n",
              "    <tr>\n",
              "      <th>2021-05-08</th>\n",
              "      <td>1.042931</td>\n",
              "      <td>-0.516518</td>\n",
              "      <td>-1.168607</td>\n",
              "      <td>2.268072</td>\n",
              "    </tr>\n",
              "    <tr>\n",
              "      <th>2021-05-12</th>\n",
              "      <td>0.397523</td>\n",
              "      <td>0.358805</td>\n",
              "      <td>1.446533</td>\n",
              "      <td>0.354344</td>\n",
              "    </tr>\n",
              "    <tr>\n",
              "      <th>2021-05-10</th>\n",
              "      <td>0.563310</td>\n",
              "      <td>0.469937</td>\n",
              "      <td>1.036107</td>\n",
              "      <td>0.488630</td>\n",
              "    </tr>\n",
              "    <tr>\n",
              "      <th>2021-05-09</th>\n",
              "      <td>-0.041827</td>\n",
              "      <td>1.963407</td>\n",
              "      <td>0.815771</td>\n",
              "      <td>0.522941</td>\n",
              "    </tr>\n",
              "  </tbody>\n",
              "</table>\n",
              "</div>"
            ],
            "text/plain": [
              "                   A         B         C         D\n",
              "2021-05-07 -0.923471 -1.128722  0.344329  2.473931\n",
              "2021-05-11 -0.158417 -0.724108  2.277442  0.684901\n",
              "2021-05-08  1.042931 -0.516518 -1.168607  2.268072\n",
              "2021-05-12  0.397523  0.358805  1.446533  0.354344\n",
              "2021-05-10  0.563310  0.469937  1.036107  0.488630\n",
              "2021-05-09 -0.041827  1.963407  0.815771  0.522941"
            ]
          },
          "metadata": {
            "tags": []
          },
          "execution_count": 50
        }
      ]
    },
    {
      "cell_type": "code",
      "metadata": {
        "colab": {
          "base_uri": "https://localhost:8080/",
          "height": 235
        },
        "id": "tbsScJ1CSz4E",
        "outputId": "2a7dd3cc-fd3b-42b5-cdec-a20672c8ea8c"
      },
      "source": [
        "df"
      ],
      "execution_count": null,
      "outputs": [
        {
          "output_type": "execute_result",
          "data": {
            "text/html": [
              "<div>\n",
              "<style scoped>\n",
              "    .dataframe tbody tr th:only-of-type {\n",
              "        vertical-align: middle;\n",
              "    }\n",
              "\n",
              "    .dataframe tbody tr th {\n",
              "        vertical-align: top;\n",
              "    }\n",
              "\n",
              "    .dataframe thead th {\n",
              "        text-align: right;\n",
              "    }\n",
              "</style>\n",
              "<table border=\"1\" class=\"dataframe\">\n",
              "  <thead>\n",
              "    <tr style=\"text-align: right;\">\n",
              "      <th></th>\n",
              "      <th>A</th>\n",
              "      <th>B</th>\n",
              "      <th>C</th>\n",
              "      <th>D</th>\n",
              "    </tr>\n",
              "  </thead>\n",
              "  <tbody>\n",
              "    <tr>\n",
              "      <th>2021-05-07</th>\n",
              "      <td>-0.923471</td>\n",
              "      <td>-1.128722</td>\n",
              "      <td>0.344329</td>\n",
              "      <td>2.473931</td>\n",
              "    </tr>\n",
              "    <tr>\n",
              "      <th>2021-05-08</th>\n",
              "      <td>1.042931</td>\n",
              "      <td>-0.516518</td>\n",
              "      <td>-1.168607</td>\n",
              "      <td>2.268072</td>\n",
              "    </tr>\n",
              "    <tr>\n",
              "      <th>2021-05-09</th>\n",
              "      <td>-0.041827</td>\n",
              "      <td>1.963407</td>\n",
              "      <td>0.815771</td>\n",
              "      <td>0.522941</td>\n",
              "    </tr>\n",
              "    <tr>\n",
              "      <th>2021-05-10</th>\n",
              "      <td>0.563310</td>\n",
              "      <td>0.469937</td>\n",
              "      <td>1.036107</td>\n",
              "      <td>0.488630</td>\n",
              "    </tr>\n",
              "    <tr>\n",
              "      <th>2021-05-11</th>\n",
              "      <td>-0.158417</td>\n",
              "      <td>-0.724108</td>\n",
              "      <td>2.277442</td>\n",
              "      <td>0.684901</td>\n",
              "    </tr>\n",
              "    <tr>\n",
              "      <th>2021-05-12</th>\n",
              "      <td>0.397523</td>\n",
              "      <td>0.358805</td>\n",
              "      <td>1.446533</td>\n",
              "      <td>0.354344</td>\n",
              "    </tr>\n",
              "  </tbody>\n",
              "</table>\n",
              "</div>"
            ],
            "text/plain": [
              "                   A         B         C         D\n",
              "2021-05-07 -0.923471 -1.128722  0.344329  2.473931\n",
              "2021-05-08  1.042931 -0.516518 -1.168607  2.268072\n",
              "2021-05-09 -0.041827  1.963407  0.815771  0.522941\n",
              "2021-05-10  0.563310  0.469937  1.036107  0.488630\n",
              "2021-05-11 -0.158417 -0.724108  2.277442  0.684901\n",
              "2021-05-12  0.397523  0.358805  1.446533  0.354344"
            ]
          },
          "metadata": {
            "tags": []
          },
          "execution_count": 51
        }
      ]
    },
    {
      "cell_type": "code",
      "metadata": {
        "colab": {
          "base_uri": "https://localhost:8080/"
        },
        "id": "2Z-fOK8xTGWk",
        "outputId": "be40815d-97a1-4632-ad93-9c7b0f72166a"
      },
      "source": [
        "df['A']"
      ],
      "execution_count": null,
      "outputs": [
        {
          "output_type": "execute_result",
          "data": {
            "text/plain": [
              "2021-05-07   -0.923471\n",
              "2021-05-08    1.042931\n",
              "2021-05-09   -0.041827\n",
              "2021-05-10    0.563310\n",
              "2021-05-11   -0.158417\n",
              "2021-05-12    0.397523\n",
              "Freq: D, Name: A, dtype: float64"
            ]
          },
          "metadata": {
            "tags": []
          },
          "execution_count": 52
        }
      ]
    },
    {
      "cell_type": "code",
      "metadata": {
        "colab": {
          "base_uri": "https://localhost:8080/"
        },
        "id": "VjZYVMIATIBl",
        "outputId": "1f7f9822-25f4-451d-b288-d4b14fc53bad"
      },
      "source": [
        "df['B']"
      ],
      "execution_count": null,
      "outputs": [
        {
          "output_type": "execute_result",
          "data": {
            "text/plain": [
              "2021-05-07   -1.128722\n",
              "2021-05-08   -0.516518\n",
              "2021-05-09    1.963407\n",
              "2021-05-10    0.469937\n",
              "2021-05-11   -0.724108\n",
              "2021-05-12    0.358805\n",
              "Freq: D, Name: B, dtype: float64"
            ]
          },
          "metadata": {
            "tags": []
          },
          "execution_count": 53
        }
      ]
    },
    {
      "cell_type": "code",
      "metadata": {
        "colab": {
          "base_uri": "https://localhost:8080/",
          "height": 235
        },
        "id": "EU17DKBETP8U",
        "outputId": "68a74c6b-ea10-4c32-9382-6234c48c642f"
      },
      "source": [
        "df[['A','D']]"
      ],
      "execution_count": null,
      "outputs": [
        {
          "output_type": "execute_result",
          "data": {
            "text/html": [
              "<div>\n",
              "<style scoped>\n",
              "    .dataframe tbody tr th:only-of-type {\n",
              "        vertical-align: middle;\n",
              "    }\n",
              "\n",
              "    .dataframe tbody tr th {\n",
              "        vertical-align: top;\n",
              "    }\n",
              "\n",
              "    .dataframe thead th {\n",
              "        text-align: right;\n",
              "    }\n",
              "</style>\n",
              "<table border=\"1\" class=\"dataframe\">\n",
              "  <thead>\n",
              "    <tr style=\"text-align: right;\">\n",
              "      <th></th>\n",
              "      <th>A</th>\n",
              "      <th>D</th>\n",
              "    </tr>\n",
              "  </thead>\n",
              "  <tbody>\n",
              "    <tr>\n",
              "      <th>2021-05-07</th>\n",
              "      <td>-0.923471</td>\n",
              "      <td>2.473931</td>\n",
              "    </tr>\n",
              "    <tr>\n",
              "      <th>2021-05-08</th>\n",
              "      <td>1.042931</td>\n",
              "      <td>2.268072</td>\n",
              "    </tr>\n",
              "    <tr>\n",
              "      <th>2021-05-09</th>\n",
              "      <td>-0.041827</td>\n",
              "      <td>0.522941</td>\n",
              "    </tr>\n",
              "    <tr>\n",
              "      <th>2021-05-10</th>\n",
              "      <td>0.563310</td>\n",
              "      <td>0.488630</td>\n",
              "    </tr>\n",
              "    <tr>\n",
              "      <th>2021-05-11</th>\n",
              "      <td>-0.158417</td>\n",
              "      <td>0.684901</td>\n",
              "    </tr>\n",
              "    <tr>\n",
              "      <th>2021-05-12</th>\n",
              "      <td>0.397523</td>\n",
              "      <td>0.354344</td>\n",
              "    </tr>\n",
              "  </tbody>\n",
              "</table>\n",
              "</div>"
            ],
            "text/plain": [
              "                   A         D\n",
              "2021-05-07 -0.923471  2.473931\n",
              "2021-05-08  1.042931  2.268072\n",
              "2021-05-09 -0.041827  0.522941\n",
              "2021-05-10  0.563310  0.488630\n",
              "2021-05-11 -0.158417  0.684901\n",
              "2021-05-12  0.397523  0.354344"
            ]
          },
          "metadata": {
            "tags": []
          },
          "execution_count": 56
        }
      ]
    },
    {
      "cell_type": "code",
      "metadata": {
        "colab": {
          "base_uri": "https://localhost:8080/"
        },
        "id": "VAKsRnOpTWEj",
        "outputId": "b4b764f3-7d51-43ec-fdaf-4ab9540a9a0e"
      },
      "source": [
        "print(df[0:3])\n",
        "\n",
        "print(df[['A','B','C']])"
      ],
      "execution_count": null,
      "outputs": [
        {
          "output_type": "stream",
          "text": [
            "                   A         B         C         D\n",
            "2021-05-07 -0.923471 -1.128722  0.344329  2.473931\n",
            "2021-05-08  1.042931 -0.516518 -1.168607  2.268072\n",
            "2021-05-09 -0.041827  1.963407  0.815771  0.522941\n",
            "                   A         B         C\n",
            "2021-05-07 -0.923471 -1.128722  0.344329\n",
            "2021-05-08  1.042931 -0.516518 -1.168607\n",
            "2021-05-09 -0.041827  1.963407  0.815771\n",
            "2021-05-10  0.563310  0.469937  1.036107\n",
            "2021-05-11 -0.158417 -0.724108  2.277442\n",
            "2021-05-12  0.397523  0.358805  1.446533\n"
          ],
          "name": "stdout"
        }
      ]
    },
    {
      "cell_type": "code",
      "metadata": {
        "colab": {
          "base_uri": "https://localhost:8080/",
          "height": 235
        },
        "id": "fqGfdb2jT932",
        "outputId": "8b10213e-7d64-439c-83ef-8b0679534749"
      },
      "source": [
        "df"
      ],
      "execution_count": null,
      "outputs": [
        {
          "output_type": "execute_result",
          "data": {
            "text/html": [
              "<div>\n",
              "<style scoped>\n",
              "    .dataframe tbody tr th:only-of-type {\n",
              "        vertical-align: middle;\n",
              "    }\n",
              "\n",
              "    .dataframe tbody tr th {\n",
              "        vertical-align: top;\n",
              "    }\n",
              "\n",
              "    .dataframe thead th {\n",
              "        text-align: right;\n",
              "    }\n",
              "</style>\n",
              "<table border=\"1\" class=\"dataframe\">\n",
              "  <thead>\n",
              "    <tr style=\"text-align: right;\">\n",
              "      <th></th>\n",
              "      <th>A</th>\n",
              "      <th>B</th>\n",
              "      <th>C</th>\n",
              "      <th>D</th>\n",
              "    </tr>\n",
              "  </thead>\n",
              "  <tbody>\n",
              "    <tr>\n",
              "      <th>2021-05-07</th>\n",
              "      <td>-0.923471</td>\n",
              "      <td>-1.128722</td>\n",
              "      <td>0.344329</td>\n",
              "      <td>2.473931</td>\n",
              "    </tr>\n",
              "    <tr>\n",
              "      <th>2021-05-08</th>\n",
              "      <td>1.042931</td>\n",
              "      <td>-0.516518</td>\n",
              "      <td>-1.168607</td>\n",
              "      <td>2.268072</td>\n",
              "    </tr>\n",
              "    <tr>\n",
              "      <th>2021-05-09</th>\n",
              "      <td>-0.041827</td>\n",
              "      <td>1.963407</td>\n",
              "      <td>0.815771</td>\n",
              "      <td>0.522941</td>\n",
              "    </tr>\n",
              "    <tr>\n",
              "      <th>2021-05-10</th>\n",
              "      <td>0.563310</td>\n",
              "      <td>0.469937</td>\n",
              "      <td>1.036107</td>\n",
              "      <td>0.488630</td>\n",
              "    </tr>\n",
              "    <tr>\n",
              "      <th>2021-05-11</th>\n",
              "      <td>-0.158417</td>\n",
              "      <td>-0.724108</td>\n",
              "      <td>2.277442</td>\n",
              "      <td>0.684901</td>\n",
              "    </tr>\n",
              "    <tr>\n",
              "      <th>2021-05-12</th>\n",
              "      <td>0.397523</td>\n",
              "      <td>0.358805</td>\n",
              "      <td>1.446533</td>\n",
              "      <td>0.354344</td>\n",
              "    </tr>\n",
              "  </tbody>\n",
              "</table>\n",
              "</div>"
            ],
            "text/plain": [
              "                   A         B         C         D\n",
              "2021-05-07 -0.923471 -1.128722  0.344329  2.473931\n",
              "2021-05-08  1.042931 -0.516518 -1.168607  2.268072\n",
              "2021-05-09 -0.041827  1.963407  0.815771  0.522941\n",
              "2021-05-10  0.563310  0.469937  1.036107  0.488630\n",
              "2021-05-11 -0.158417 -0.724108  2.277442  0.684901\n",
              "2021-05-12  0.397523  0.358805  1.446533  0.354344"
            ]
          },
          "metadata": {
            "tags": []
          },
          "execution_count": 61
        }
      ]
    },
    {
      "cell_type": "code",
      "metadata": {
        "colab": {
          "base_uri": "https://localhost:8080/",
          "height": 111
        },
        "id": "1BDbSlYsUsMj",
        "outputId": "8231486c-4fe4-4a7e-98ae-07e25aac9e1a"
      },
      "source": [
        "df.loc['20210507':'20210508',['A']]"
      ],
      "execution_count": null,
      "outputs": [
        {
          "output_type": "execute_result",
          "data": {
            "text/html": [
              "<div>\n",
              "<style scoped>\n",
              "    .dataframe tbody tr th:only-of-type {\n",
              "        vertical-align: middle;\n",
              "    }\n",
              "\n",
              "    .dataframe tbody tr th {\n",
              "        vertical-align: top;\n",
              "    }\n",
              "\n",
              "    .dataframe thead th {\n",
              "        text-align: right;\n",
              "    }\n",
              "</style>\n",
              "<table border=\"1\" class=\"dataframe\">\n",
              "  <thead>\n",
              "    <tr style=\"text-align: right;\">\n",
              "      <th></th>\n",
              "      <th>A</th>\n",
              "    </tr>\n",
              "  </thead>\n",
              "  <tbody>\n",
              "    <tr>\n",
              "      <th>2021-05-07</th>\n",
              "      <td>-0.923471</td>\n",
              "    </tr>\n",
              "    <tr>\n",
              "      <th>2021-05-08</th>\n",
              "      <td>1.042931</td>\n",
              "    </tr>\n",
              "  </tbody>\n",
              "</table>\n",
              "</div>"
            ],
            "text/plain": [
              "                   A\n",
              "2021-05-07 -0.923471\n",
              "2021-05-08  1.042931"
            ]
          },
          "metadata": {
            "tags": []
          },
          "execution_count": 63
        }
      ]
    },
    {
      "cell_type": "code",
      "metadata": {
        "colab": {
          "base_uri": "https://localhost:8080/",
          "height": 111
        },
        "id": "Gx1GX5BDU_cS",
        "outputId": "fedaefac-7f51-421c-cad8-460fa6cf0c8b"
      },
      "source": [
        "df.iloc[1:3,0:2]"
      ],
      "execution_count": null,
      "outputs": [
        {
          "output_type": "execute_result",
          "data": {
            "text/html": [
              "<div>\n",
              "<style scoped>\n",
              "    .dataframe tbody tr th:only-of-type {\n",
              "        vertical-align: middle;\n",
              "    }\n",
              "\n",
              "    .dataframe tbody tr th {\n",
              "        vertical-align: top;\n",
              "    }\n",
              "\n",
              "    .dataframe thead th {\n",
              "        text-align: right;\n",
              "    }\n",
              "</style>\n",
              "<table border=\"1\" class=\"dataframe\">\n",
              "  <thead>\n",
              "    <tr style=\"text-align: right;\">\n",
              "      <th></th>\n",
              "      <th>A</th>\n",
              "      <th>B</th>\n",
              "    </tr>\n",
              "  </thead>\n",
              "  <tbody>\n",
              "    <tr>\n",
              "      <th>2021-05-08</th>\n",
              "      <td>1.042931</td>\n",
              "      <td>-0.516518</td>\n",
              "    </tr>\n",
              "    <tr>\n",
              "      <th>2021-05-09</th>\n",
              "      <td>-0.041827</td>\n",
              "      <td>1.963407</td>\n",
              "    </tr>\n",
              "  </tbody>\n",
              "</table>\n",
              "</div>"
            ],
            "text/plain": [
              "                   A         B\n",
              "2021-05-08  1.042931 -0.516518\n",
              "2021-05-09 -0.041827  1.963407"
            ]
          },
          "metadata": {
            "tags": []
          },
          "execution_count": 66
        }
      ]
    },
    {
      "cell_type": "code",
      "metadata": {
        "colab": {
          "base_uri": "https://localhost:8080/",
          "height": 136
        },
        "id": "ezTftpgKVdsz",
        "outputId": "687907f0-3f19-4173-c953-527f503781d5"
      },
      "source": [
        "df.iloc[0:3,1;3]"
      ],
      "execution_count": null,
      "outputs": [
        {
          "output_type": "error",
          "ename": "SyntaxError",
          "evalue": "ignored",
          "traceback": [
            "\u001b[0;36m  File \u001b[0;32m\"<ipython-input-68-06d68c1eb0e5>\"\u001b[0;36m, line \u001b[0;32m1\u001b[0m\n\u001b[0;31m    df.iloc[0:3,1;3]\u001b[0m\n\u001b[0m                 ^\u001b[0m\n\u001b[0;31mSyntaxError\u001b[0m\u001b[0;31m:\u001b[0m invalid syntax\n"
          ]
        }
      ]
    },
    {
      "cell_type": "code",
      "metadata": {
        "colab": {
          "base_uri": "https://localhost:8080/",
          "height": 111
        },
        "id": "BLB7tA56WsFT",
        "outputId": "1113163e-8d96-4172-f45c-b248e8a19271"
      },
      "source": [
        "df.iloc[[0,3],[1,3]]"
      ],
      "execution_count": null,
      "outputs": [
        {
          "output_type": "execute_result",
          "data": {
            "text/html": [
              "<div>\n",
              "<style scoped>\n",
              "    .dataframe tbody tr th:only-of-type {\n",
              "        vertical-align: middle;\n",
              "    }\n",
              "\n",
              "    .dataframe tbody tr th {\n",
              "        vertical-align: top;\n",
              "    }\n",
              "\n",
              "    .dataframe thead th {\n",
              "        text-align: right;\n",
              "    }\n",
              "</style>\n",
              "<table border=\"1\" class=\"dataframe\">\n",
              "  <thead>\n",
              "    <tr style=\"text-align: right;\">\n",
              "      <th></th>\n",
              "      <th>B</th>\n",
              "      <th>D</th>\n",
              "    </tr>\n",
              "  </thead>\n",
              "  <tbody>\n",
              "    <tr>\n",
              "      <th>2021-05-07</th>\n",
              "      <td>-1.128722</td>\n",
              "      <td>2.473931</td>\n",
              "    </tr>\n",
              "    <tr>\n",
              "      <th>2021-05-10</th>\n",
              "      <td>0.469937</td>\n",
              "      <td>0.488630</td>\n",
              "    </tr>\n",
              "  </tbody>\n",
              "</table>\n",
              "</div>"
            ],
            "text/plain": [
              "                   B         D\n",
              "2021-05-07 -1.128722  2.473931\n",
              "2021-05-10  0.469937  0.488630"
            ]
          },
          "metadata": {
            "tags": []
          },
          "execution_count": 69
        }
      ]
    },
    {
      "cell_type": "code",
      "metadata": {
        "colab": {
          "base_uri": "https://localhost:8080/"
        },
        "id": "CaGvYht3W2Nj",
        "outputId": "8d3c08f9-9163-453f-a819-1ed304732708"
      },
      "source": [
        "df.iloc[0,1]"
      ],
      "execution_count": null,
      "outputs": [
        {
          "output_type": "execute_result",
          "data": {
            "text/plain": [
              "-1.1287220632758552"
            ]
          },
          "metadata": {
            "tags": []
          },
          "execution_count": 70
        }
      ]
    },
    {
      "cell_type": "code",
      "metadata": {
        "colab": {
          "base_uri": "https://localhost:8080/",
          "height": 235
        },
        "id": "SXRe7PgvW8eS",
        "outputId": "5fc840b9-000b-48a6-f2e6-61c7f43bbd90"
      },
      "source": [
        "df"
      ],
      "execution_count": null,
      "outputs": [
        {
          "output_type": "execute_result",
          "data": {
            "text/html": [
              "<div>\n",
              "<style scoped>\n",
              "    .dataframe tbody tr th:only-of-type {\n",
              "        vertical-align: middle;\n",
              "    }\n",
              "\n",
              "    .dataframe tbody tr th {\n",
              "        vertical-align: top;\n",
              "    }\n",
              "\n",
              "    .dataframe thead th {\n",
              "        text-align: right;\n",
              "    }\n",
              "</style>\n",
              "<table border=\"1\" class=\"dataframe\">\n",
              "  <thead>\n",
              "    <tr style=\"text-align: right;\">\n",
              "      <th></th>\n",
              "      <th>A</th>\n",
              "      <th>B</th>\n",
              "      <th>C</th>\n",
              "      <th>D</th>\n",
              "    </tr>\n",
              "  </thead>\n",
              "  <tbody>\n",
              "    <tr>\n",
              "      <th>2021-05-07</th>\n",
              "      <td>-0.923471</td>\n",
              "      <td>-1.128722</td>\n",
              "      <td>0.344329</td>\n",
              "      <td>2.473931</td>\n",
              "    </tr>\n",
              "    <tr>\n",
              "      <th>2021-05-08</th>\n",
              "      <td>1.042931</td>\n",
              "      <td>-0.516518</td>\n",
              "      <td>-1.168607</td>\n",
              "      <td>2.268072</td>\n",
              "    </tr>\n",
              "    <tr>\n",
              "      <th>2021-05-09</th>\n",
              "      <td>-0.041827</td>\n",
              "      <td>1.963407</td>\n",
              "      <td>0.815771</td>\n",
              "      <td>0.522941</td>\n",
              "    </tr>\n",
              "    <tr>\n",
              "      <th>2021-05-10</th>\n",
              "      <td>0.563310</td>\n",
              "      <td>0.469937</td>\n",
              "      <td>1.036107</td>\n",
              "      <td>0.488630</td>\n",
              "    </tr>\n",
              "    <tr>\n",
              "      <th>2021-05-11</th>\n",
              "      <td>-0.158417</td>\n",
              "      <td>-0.724108</td>\n",
              "      <td>2.277442</td>\n",
              "      <td>0.684901</td>\n",
              "    </tr>\n",
              "    <tr>\n",
              "      <th>2021-05-12</th>\n",
              "      <td>0.397523</td>\n",
              "      <td>0.358805</td>\n",
              "      <td>1.446533</td>\n",
              "      <td>0.354344</td>\n",
              "    </tr>\n",
              "  </tbody>\n",
              "</table>\n",
              "</div>"
            ],
            "text/plain": [
              "                   A         B         C         D\n",
              "2021-05-07 -0.923471 -1.128722  0.344329  2.473931\n",
              "2021-05-08  1.042931 -0.516518 -1.168607  2.268072\n",
              "2021-05-09 -0.041827  1.963407  0.815771  0.522941\n",
              "2021-05-10  0.563310  0.469937  1.036107  0.488630\n",
              "2021-05-11 -0.158417 -0.724108  2.277442  0.684901\n",
              "2021-05-12  0.397523  0.358805  1.446533  0.354344"
            ]
          },
          "metadata": {
            "tags": []
          },
          "execution_count": 71
        }
      ]
    },
    {
      "cell_type": "code",
      "metadata": {
        "colab": {
          "base_uri": "https://localhost:8080/",
          "height": 111
        },
        "id": "v4pTO1xuW9Jy",
        "outputId": "1ad687a9-9e5c-4f01-8fdc-95b8e2d57f95"
      },
      "source": [
        "df.iloc[[1,3],[1,3] ]"
      ],
      "execution_count": null,
      "outputs": [
        {
          "output_type": "execute_result",
          "data": {
            "text/html": [
              "<div>\n",
              "<style scoped>\n",
              "    .dataframe tbody tr th:only-of-type {\n",
              "        vertical-align: middle;\n",
              "    }\n",
              "\n",
              "    .dataframe tbody tr th {\n",
              "        vertical-align: top;\n",
              "    }\n",
              "\n",
              "    .dataframe thead th {\n",
              "        text-align: right;\n",
              "    }\n",
              "</style>\n",
              "<table border=\"1\" class=\"dataframe\">\n",
              "  <thead>\n",
              "    <tr style=\"text-align: right;\">\n",
              "      <th></th>\n",
              "      <th>B</th>\n",
              "      <th>D</th>\n",
              "    </tr>\n",
              "  </thead>\n",
              "  <tbody>\n",
              "    <tr>\n",
              "      <th>2021-05-08</th>\n",
              "      <td>-0.516518</td>\n",
              "      <td>2.268072</td>\n",
              "    </tr>\n",
              "    <tr>\n",
              "      <th>2021-05-10</th>\n",
              "      <td>0.469937</td>\n",
              "      <td>0.488630</td>\n",
              "    </tr>\n",
              "  </tbody>\n",
              "</table>\n",
              "</div>"
            ],
            "text/plain": [
              "                   B         D\n",
              "2021-05-08 -0.516518  2.268072\n",
              "2021-05-10  0.469937  0.488630"
            ]
          },
          "metadata": {
            "tags": []
          },
          "execution_count": 74
        }
      ]
    },
    {
      "cell_type": "code",
      "metadata": {
        "colab": {
          "base_uri": "https://localhost:8080/"
        },
        "id": "AsDcaxENXxex",
        "outputId": "5883fa11-bfa6-405d-d75b-4ff1b598bc39"
      },
      "source": [
        "df.A>0"
      ],
      "execution_count": null,
      "outputs": [
        {
          "output_type": "execute_result",
          "data": {
            "text/plain": [
              "2021-05-07    False\n",
              "2021-05-08     True\n",
              "2021-05-09    False\n",
              "2021-05-10     True\n",
              "2021-05-11    False\n",
              "2021-05-12     True\n",
              "Freq: D, Name: A, dtype: bool"
            ]
          },
          "metadata": {
            "tags": []
          },
          "execution_count": 76
        }
      ]
    },
    {
      "cell_type": "code",
      "metadata": {
        "colab": {
          "base_uri": "https://localhost:8080/",
          "height": 142
        },
        "id": "Qf1hqt0jYV5R",
        "outputId": "ed64d1ac-8170-4b39-df94-c25fa69ba3fb"
      },
      "source": [
        "df[df.A>0]"
      ],
      "execution_count": null,
      "outputs": [
        {
          "output_type": "execute_result",
          "data": {
            "text/html": [
              "<div>\n",
              "<style scoped>\n",
              "    .dataframe tbody tr th:only-of-type {\n",
              "        vertical-align: middle;\n",
              "    }\n",
              "\n",
              "    .dataframe tbody tr th {\n",
              "        vertical-align: top;\n",
              "    }\n",
              "\n",
              "    .dataframe thead th {\n",
              "        text-align: right;\n",
              "    }\n",
              "</style>\n",
              "<table border=\"1\" class=\"dataframe\">\n",
              "  <thead>\n",
              "    <tr style=\"text-align: right;\">\n",
              "      <th></th>\n",
              "      <th>A</th>\n",
              "      <th>B</th>\n",
              "      <th>C</th>\n",
              "      <th>D</th>\n",
              "    </tr>\n",
              "  </thead>\n",
              "  <tbody>\n",
              "    <tr>\n",
              "      <th>2021-05-08</th>\n",
              "      <td>1.042931</td>\n",
              "      <td>-0.516518</td>\n",
              "      <td>-1.168607</td>\n",
              "      <td>2.268072</td>\n",
              "    </tr>\n",
              "    <tr>\n",
              "      <th>2021-05-10</th>\n",
              "      <td>0.563310</td>\n",
              "      <td>0.469937</td>\n",
              "      <td>1.036107</td>\n",
              "      <td>0.488630</td>\n",
              "    </tr>\n",
              "    <tr>\n",
              "      <th>2021-05-12</th>\n",
              "      <td>0.397523</td>\n",
              "      <td>0.358805</td>\n",
              "      <td>1.446533</td>\n",
              "      <td>0.354344</td>\n",
              "    </tr>\n",
              "  </tbody>\n",
              "</table>\n",
              "</div>"
            ],
            "text/plain": [
              "                   A         B         C         D\n",
              "2021-05-08  1.042931 -0.516518 -1.168607  2.268072\n",
              "2021-05-10  0.563310  0.469937  1.036107  0.488630\n",
              "2021-05-12  0.397523  0.358805  1.446533  0.354344"
            ]
          },
          "metadata": {
            "tags": []
          },
          "execution_count": 77
        }
      ]
    },
    {
      "cell_type": "code",
      "metadata": {
        "colab": {
          "base_uri": "https://localhost:8080/",
          "height": 235
        },
        "id": "xiJ1qJjIYvME",
        "outputId": "20d7ef47-b7cf-4f4d-c1d1-1589b1567694"
      },
      "source": [
        "df[df>0]"
      ],
      "execution_count": null,
      "outputs": [
        {
          "output_type": "execute_result",
          "data": {
            "text/html": [
              "<div>\n",
              "<style scoped>\n",
              "    .dataframe tbody tr th:only-of-type {\n",
              "        vertical-align: middle;\n",
              "    }\n",
              "\n",
              "    .dataframe tbody tr th {\n",
              "        vertical-align: top;\n",
              "    }\n",
              "\n",
              "    .dataframe thead th {\n",
              "        text-align: right;\n",
              "    }\n",
              "</style>\n",
              "<table border=\"1\" class=\"dataframe\">\n",
              "  <thead>\n",
              "    <tr style=\"text-align: right;\">\n",
              "      <th></th>\n",
              "      <th>A</th>\n",
              "      <th>B</th>\n",
              "      <th>C</th>\n",
              "      <th>D</th>\n",
              "    </tr>\n",
              "  </thead>\n",
              "  <tbody>\n",
              "    <tr>\n",
              "      <th>2021-05-07</th>\n",
              "      <td>NaN</td>\n",
              "      <td>NaN</td>\n",
              "      <td>0.344329</td>\n",
              "      <td>2.473931</td>\n",
              "    </tr>\n",
              "    <tr>\n",
              "      <th>2021-05-08</th>\n",
              "      <td>1.042931</td>\n",
              "      <td>NaN</td>\n",
              "      <td>NaN</td>\n",
              "      <td>2.268072</td>\n",
              "    </tr>\n",
              "    <tr>\n",
              "      <th>2021-05-09</th>\n",
              "      <td>NaN</td>\n",
              "      <td>1.963407</td>\n",
              "      <td>0.815771</td>\n",
              "      <td>0.522941</td>\n",
              "    </tr>\n",
              "    <tr>\n",
              "      <th>2021-05-10</th>\n",
              "      <td>0.563310</td>\n",
              "      <td>0.469937</td>\n",
              "      <td>1.036107</td>\n",
              "      <td>0.488630</td>\n",
              "    </tr>\n",
              "    <tr>\n",
              "      <th>2021-05-11</th>\n",
              "      <td>NaN</td>\n",
              "      <td>NaN</td>\n",
              "      <td>2.277442</td>\n",
              "      <td>0.684901</td>\n",
              "    </tr>\n",
              "    <tr>\n",
              "      <th>2021-05-12</th>\n",
              "      <td>0.397523</td>\n",
              "      <td>0.358805</td>\n",
              "      <td>1.446533</td>\n",
              "      <td>0.354344</td>\n",
              "    </tr>\n",
              "  </tbody>\n",
              "</table>\n",
              "</div>"
            ],
            "text/plain": [
              "                   A         B         C         D\n",
              "2021-05-07       NaN       NaN  0.344329  2.473931\n",
              "2021-05-08  1.042931       NaN       NaN  2.268072\n",
              "2021-05-09       NaN  1.963407  0.815771  0.522941\n",
              "2021-05-10  0.563310  0.469937  1.036107  0.488630\n",
              "2021-05-11       NaN       NaN  2.277442  0.684901\n",
              "2021-05-12  0.397523  0.358805  1.446533  0.354344"
            ]
          },
          "metadata": {
            "tags": []
          },
          "execution_count": 78
        }
      ]
    },
    {
      "cell_type": "code",
      "metadata": {
        "id": "7l2SkyIsZCcR"
      },
      "source": [
        "df2 = df.copy()"
      ],
      "execution_count": null,
      "outputs": []
    },
    {
      "cell_type": "code",
      "metadata": {
        "colab": {
          "base_uri": "https://localhost:8080/",
          "height": 235
        },
        "id": "5xv3H41dZRNx",
        "outputId": "40370c48-680a-4b3f-ff1e-b839085e3011"
      },
      "source": [
        "df2"
      ],
      "execution_count": null,
      "outputs": [
        {
          "output_type": "execute_result",
          "data": {
            "text/html": [
              "<div>\n",
              "<style scoped>\n",
              "    .dataframe tbody tr th:only-of-type {\n",
              "        vertical-align: middle;\n",
              "    }\n",
              "\n",
              "    .dataframe tbody tr th {\n",
              "        vertical-align: top;\n",
              "    }\n",
              "\n",
              "    .dataframe thead th {\n",
              "        text-align: right;\n",
              "    }\n",
              "</style>\n",
              "<table border=\"1\" class=\"dataframe\">\n",
              "  <thead>\n",
              "    <tr style=\"text-align: right;\">\n",
              "      <th></th>\n",
              "      <th>A</th>\n",
              "      <th>B</th>\n",
              "      <th>C</th>\n",
              "      <th>D</th>\n",
              "    </tr>\n",
              "  </thead>\n",
              "  <tbody>\n",
              "    <tr>\n",
              "      <th>2021-05-07</th>\n",
              "      <td>-0.923471</td>\n",
              "      <td>-1.128722</td>\n",
              "      <td>0.344329</td>\n",
              "      <td>2.473931</td>\n",
              "    </tr>\n",
              "    <tr>\n",
              "      <th>2021-05-08</th>\n",
              "      <td>1.042931</td>\n",
              "      <td>-0.516518</td>\n",
              "      <td>-1.168607</td>\n",
              "      <td>2.268072</td>\n",
              "    </tr>\n",
              "    <tr>\n",
              "      <th>2021-05-09</th>\n",
              "      <td>-0.041827</td>\n",
              "      <td>1.963407</td>\n",
              "      <td>0.815771</td>\n",
              "      <td>0.522941</td>\n",
              "    </tr>\n",
              "    <tr>\n",
              "      <th>2021-05-10</th>\n",
              "      <td>0.563310</td>\n",
              "      <td>0.469937</td>\n",
              "      <td>1.036107</td>\n",
              "      <td>0.488630</td>\n",
              "    </tr>\n",
              "    <tr>\n",
              "      <th>2021-05-11</th>\n",
              "      <td>-0.158417</td>\n",
              "      <td>-0.724108</td>\n",
              "      <td>2.277442</td>\n",
              "      <td>0.684901</td>\n",
              "    </tr>\n",
              "    <tr>\n",
              "      <th>2021-05-12</th>\n",
              "      <td>0.397523</td>\n",
              "      <td>0.358805</td>\n",
              "      <td>1.446533</td>\n",
              "      <td>0.354344</td>\n",
              "    </tr>\n",
              "  </tbody>\n",
              "</table>\n",
              "</div>"
            ],
            "text/plain": [
              "                   A         B         C         D\n",
              "2021-05-07 -0.923471 -1.128722  0.344329  2.473931\n",
              "2021-05-08  1.042931 -0.516518 -1.168607  2.268072\n",
              "2021-05-09 -0.041827  1.963407  0.815771  0.522941\n",
              "2021-05-10  0.563310  0.469937  1.036107  0.488630\n",
              "2021-05-11 -0.158417 -0.724108  2.277442  0.684901\n",
              "2021-05-12  0.397523  0.358805  1.446533  0.354344"
            ]
          },
          "metadata": {
            "tags": []
          },
          "execution_count": 80
        }
      ]
    },
    {
      "cell_type": "code",
      "metadata": {
        "id": "JJSqVsrsZZ7A"
      },
      "source": [
        "df2['E'] = ['one', 'one', 'two', 'three', 'four', 'three']"
      ],
      "execution_count": null,
      "outputs": []
    },
    {
      "cell_type": "code",
      "metadata": {
        "colab": {
          "base_uri": "https://localhost:8080/",
          "height": 235
        },
        "id": "37Uf6G7OZq1h",
        "outputId": "8e33eab1-a505-4af7-daef-c2e3b86df812"
      },
      "source": [
        "df2"
      ],
      "execution_count": null,
      "outputs": [
        {
          "output_type": "execute_result",
          "data": {
            "text/html": [
              "<div>\n",
              "<style scoped>\n",
              "    .dataframe tbody tr th:only-of-type {\n",
              "        vertical-align: middle;\n",
              "    }\n",
              "\n",
              "    .dataframe tbody tr th {\n",
              "        vertical-align: top;\n",
              "    }\n",
              "\n",
              "    .dataframe thead th {\n",
              "        text-align: right;\n",
              "    }\n",
              "</style>\n",
              "<table border=\"1\" class=\"dataframe\">\n",
              "  <thead>\n",
              "    <tr style=\"text-align: right;\">\n",
              "      <th></th>\n",
              "      <th>A</th>\n",
              "      <th>B</th>\n",
              "      <th>C</th>\n",
              "      <th>D</th>\n",
              "      <th>E</th>\n",
              "    </tr>\n",
              "  </thead>\n",
              "  <tbody>\n",
              "    <tr>\n",
              "      <th>2021-05-07</th>\n",
              "      <td>-0.923471</td>\n",
              "      <td>-1.128722</td>\n",
              "      <td>0.344329</td>\n",
              "      <td>2.473931</td>\n",
              "      <td>one</td>\n",
              "    </tr>\n",
              "    <tr>\n",
              "      <th>2021-05-08</th>\n",
              "      <td>1.042931</td>\n",
              "      <td>-0.516518</td>\n",
              "      <td>-1.168607</td>\n",
              "      <td>2.268072</td>\n",
              "      <td>one</td>\n",
              "    </tr>\n",
              "    <tr>\n",
              "      <th>2021-05-09</th>\n",
              "      <td>-0.041827</td>\n",
              "      <td>1.963407</td>\n",
              "      <td>0.815771</td>\n",
              "      <td>0.522941</td>\n",
              "      <td>two</td>\n",
              "    </tr>\n",
              "    <tr>\n",
              "      <th>2021-05-10</th>\n",
              "      <td>0.563310</td>\n",
              "      <td>0.469937</td>\n",
              "      <td>1.036107</td>\n",
              "      <td>0.488630</td>\n",
              "      <td>three</td>\n",
              "    </tr>\n",
              "    <tr>\n",
              "      <th>2021-05-11</th>\n",
              "      <td>-0.158417</td>\n",
              "      <td>-0.724108</td>\n",
              "      <td>2.277442</td>\n",
              "      <td>0.684901</td>\n",
              "      <td>four</td>\n",
              "    </tr>\n",
              "    <tr>\n",
              "      <th>2021-05-12</th>\n",
              "      <td>0.397523</td>\n",
              "      <td>0.358805</td>\n",
              "      <td>1.446533</td>\n",
              "      <td>0.354344</td>\n",
              "      <td>three</td>\n",
              "    </tr>\n",
              "  </tbody>\n",
              "</table>\n",
              "</div>"
            ],
            "text/plain": [
              "                   A         B         C         D      E\n",
              "2021-05-07 -0.923471 -1.128722  0.344329  2.473931    one\n",
              "2021-05-08  1.042931 -0.516518 -1.168607  2.268072    one\n",
              "2021-05-09 -0.041827  1.963407  0.815771  0.522941    two\n",
              "2021-05-10  0.563310  0.469937  1.036107  0.488630  three\n",
              "2021-05-11 -0.158417 -0.724108  2.277442  0.684901   four\n",
              "2021-05-12  0.397523  0.358805  1.446533  0.354344  three"
            ]
          },
          "metadata": {
            "tags": []
          },
          "execution_count": 84
        }
      ]
    },
    {
      "cell_type": "code",
      "metadata": {
        "colab": {
          "base_uri": "https://localhost:8080/",
          "height": 49
        },
        "id": "7u7VENEZZrfR",
        "outputId": "25c76d0e-e8d5-4ec3-b2df-c4138d4cb058"
      },
      "source": [
        "df2[df2['E'].isin(['two,four'])]"
      ],
      "execution_count": null,
      "outputs": [
        {
          "output_type": "execute_result",
          "data": {
            "text/html": [
              "<div>\n",
              "<style scoped>\n",
              "    .dataframe tbody tr th:only-of-type {\n",
              "        vertical-align: middle;\n",
              "    }\n",
              "\n",
              "    .dataframe tbody tr th {\n",
              "        vertical-align: top;\n",
              "    }\n",
              "\n",
              "    .dataframe thead th {\n",
              "        text-align: right;\n",
              "    }\n",
              "</style>\n",
              "<table border=\"1\" class=\"dataframe\">\n",
              "  <thead>\n",
              "    <tr style=\"text-align: right;\">\n",
              "      <th></th>\n",
              "      <th>A</th>\n",
              "      <th>B</th>\n",
              "      <th>C</th>\n",
              "      <th>D</th>\n",
              "      <th>E</th>\n",
              "    </tr>\n",
              "  </thead>\n",
              "  <tbody>\n",
              "  </tbody>\n",
              "</table>\n",
              "</div>"
            ],
            "text/plain": [
              "Empty DataFrame\n",
              "Columns: [A, B, C, D, E]\n",
              "Index: []"
            ]
          },
          "metadata": {
            "tags": []
          },
          "execution_count": 86
        }
      ]
    },
    {
      "cell_type": "code",
      "metadata": {
        "colab": {
          "base_uri": "https://localhost:8080/",
          "height": 111
        },
        "id": "lHAAE2dPaBth",
        "outputId": "2f3c07d2-19ee-4012-b086-ffb6398a24b2"
      },
      "source": [
        "df2[df2['E'].isin(['three'])]"
      ],
      "execution_count": null,
      "outputs": [
        {
          "output_type": "execute_result",
          "data": {
            "text/html": [
              "<div>\n",
              "<style scoped>\n",
              "    .dataframe tbody tr th:only-of-type {\n",
              "        vertical-align: middle;\n",
              "    }\n",
              "\n",
              "    .dataframe tbody tr th {\n",
              "        vertical-align: top;\n",
              "    }\n",
              "\n",
              "    .dataframe thead th {\n",
              "        text-align: right;\n",
              "    }\n",
              "</style>\n",
              "<table border=\"1\" class=\"dataframe\">\n",
              "  <thead>\n",
              "    <tr style=\"text-align: right;\">\n",
              "      <th></th>\n",
              "      <th>A</th>\n",
              "      <th>B</th>\n",
              "      <th>C</th>\n",
              "      <th>D</th>\n",
              "      <th>E</th>\n",
              "    </tr>\n",
              "  </thead>\n",
              "  <tbody>\n",
              "    <tr>\n",
              "      <th>2021-05-10</th>\n",
              "      <td>0.563310</td>\n",
              "      <td>0.469937</td>\n",
              "      <td>1.036107</td>\n",
              "      <td>0.488630</td>\n",
              "      <td>three</td>\n",
              "    </tr>\n",
              "    <tr>\n",
              "      <th>2021-05-12</th>\n",
              "      <td>0.397523</td>\n",
              "      <td>0.358805</td>\n",
              "      <td>1.446533</td>\n",
              "      <td>0.354344</td>\n",
              "      <td>three</td>\n",
              "    </tr>\n",
              "  </tbody>\n",
              "</table>\n",
              "</div>"
            ],
            "text/plain": [
              "                   A         B         C         D      E\n",
              "2021-05-10  0.563310  0.469937  1.036107  0.488630  three\n",
              "2021-05-12  0.397523  0.358805  1.446533  0.354344  three"
            ]
          },
          "metadata": {
            "tags": []
          },
          "execution_count": 88
        }
      ]
    },
    {
      "cell_type": "code",
      "metadata": {
        "id": "BOixa5Lkad_h"
      },
      "source": [
        "s1 = pd.Series([1, 2, 3, 4, 5, 6], index=pd.date_range('20210507', periods=6))"
      ],
      "execution_count": null,
      "outputs": []
    },
    {
      "cell_type": "code",
      "metadata": {
        "id": "fuZZEs5yaqCQ"
      },
      "source": [
        "df['F']=s1"
      ],
      "execution_count": null,
      "outputs": []
    },
    {
      "cell_type": "code",
      "metadata": {
        "colab": {
          "base_uri": "https://localhost:8080/",
          "height": 235
        },
        "id": "wmUe62vbauux",
        "outputId": "4b03f9cb-f8a0-4e08-9c53-b6ad501599c9"
      },
      "source": [
        "df"
      ],
      "execution_count": null,
      "outputs": [
        {
          "output_type": "execute_result",
          "data": {
            "text/html": [
              "<div>\n",
              "<style scoped>\n",
              "    .dataframe tbody tr th:only-of-type {\n",
              "        vertical-align: middle;\n",
              "    }\n",
              "\n",
              "    .dataframe tbody tr th {\n",
              "        vertical-align: top;\n",
              "    }\n",
              "\n",
              "    .dataframe thead th {\n",
              "        text-align: right;\n",
              "    }\n",
              "</style>\n",
              "<table border=\"1\" class=\"dataframe\">\n",
              "  <thead>\n",
              "    <tr style=\"text-align: right;\">\n",
              "      <th></th>\n",
              "      <th>A</th>\n",
              "      <th>B</th>\n",
              "      <th>C</th>\n",
              "      <th>D</th>\n",
              "      <th>F</th>\n",
              "    </tr>\n",
              "  </thead>\n",
              "  <tbody>\n",
              "    <tr>\n",
              "      <th>2021-05-07</th>\n",
              "      <td>-0.923471</td>\n",
              "      <td>-1.128722</td>\n",
              "      <td>0.344329</td>\n",
              "      <td>2.473931</td>\n",
              "      <td>1</td>\n",
              "    </tr>\n",
              "    <tr>\n",
              "      <th>2021-05-08</th>\n",
              "      <td>1.042931</td>\n",
              "      <td>-0.516518</td>\n",
              "      <td>-1.168607</td>\n",
              "      <td>2.268072</td>\n",
              "      <td>2</td>\n",
              "    </tr>\n",
              "    <tr>\n",
              "      <th>2021-05-09</th>\n",
              "      <td>-0.041827</td>\n",
              "      <td>1.963407</td>\n",
              "      <td>0.815771</td>\n",
              "      <td>0.522941</td>\n",
              "      <td>3</td>\n",
              "    </tr>\n",
              "    <tr>\n",
              "      <th>2021-05-10</th>\n",
              "      <td>0.563310</td>\n",
              "      <td>0.469937</td>\n",
              "      <td>1.036107</td>\n",
              "      <td>0.488630</td>\n",
              "      <td>4</td>\n",
              "    </tr>\n",
              "    <tr>\n",
              "      <th>2021-05-11</th>\n",
              "      <td>-0.158417</td>\n",
              "      <td>-0.724108</td>\n",
              "      <td>2.277442</td>\n",
              "      <td>0.684901</td>\n",
              "      <td>5</td>\n",
              "    </tr>\n",
              "    <tr>\n",
              "      <th>2021-05-12</th>\n",
              "      <td>0.397523</td>\n",
              "      <td>0.358805</td>\n",
              "      <td>1.446533</td>\n",
              "      <td>0.354344</td>\n",
              "      <td>6</td>\n",
              "    </tr>\n",
              "  </tbody>\n",
              "</table>\n",
              "</div>"
            ],
            "text/plain": [
              "                   A         B         C         D  F\n",
              "2021-05-07 -0.923471 -1.128722  0.344329  2.473931  1\n",
              "2021-05-08  1.042931 -0.516518 -1.168607  2.268072  2\n",
              "2021-05-09 -0.041827  1.963407  0.815771  0.522941  3\n",
              "2021-05-10  0.563310  0.469937  1.036107  0.488630  4\n",
              "2021-05-11 -0.158417 -0.724108  2.277442  0.684901  5\n",
              "2021-05-12  0.397523  0.358805  1.446533  0.354344  6"
            ]
          },
          "metadata": {
            "tags": []
          },
          "execution_count": 91
        }
      ]
    },
    {
      "cell_type": "code",
      "metadata": {
        "colab": {
          "base_uri": "https://localhost:8080/",
          "height": 235
        },
        "id": "4vFCi2IBavOR",
        "outputId": "474bfde7-adc8-4343-9f1d-f68869508a98"
      },
      "source": [
        "df[df>0]"
      ],
      "execution_count": null,
      "outputs": [
        {
          "output_type": "execute_result",
          "data": {
            "text/html": [
              "<div>\n",
              "<style scoped>\n",
              "    .dataframe tbody tr th:only-of-type {\n",
              "        vertical-align: middle;\n",
              "    }\n",
              "\n",
              "    .dataframe tbody tr th {\n",
              "        vertical-align: top;\n",
              "    }\n",
              "\n",
              "    .dataframe thead th {\n",
              "        text-align: right;\n",
              "    }\n",
              "</style>\n",
              "<table border=\"1\" class=\"dataframe\">\n",
              "  <thead>\n",
              "    <tr style=\"text-align: right;\">\n",
              "      <th></th>\n",
              "      <th>A</th>\n",
              "      <th>B</th>\n",
              "      <th>C</th>\n",
              "      <th>D</th>\n",
              "      <th>F</th>\n",
              "    </tr>\n",
              "  </thead>\n",
              "  <tbody>\n",
              "    <tr>\n",
              "      <th>2021-05-07</th>\n",
              "      <td>NaN</td>\n",
              "      <td>NaN</td>\n",
              "      <td>0.344329</td>\n",
              "      <td>2.473931</td>\n",
              "      <td>1</td>\n",
              "    </tr>\n",
              "    <tr>\n",
              "      <th>2021-05-08</th>\n",
              "      <td>1.042931</td>\n",
              "      <td>NaN</td>\n",
              "      <td>NaN</td>\n",
              "      <td>2.268072</td>\n",
              "      <td>2</td>\n",
              "    </tr>\n",
              "    <tr>\n",
              "      <th>2021-05-09</th>\n",
              "      <td>NaN</td>\n",
              "      <td>1.963407</td>\n",
              "      <td>0.815771</td>\n",
              "      <td>0.522941</td>\n",
              "      <td>3</td>\n",
              "    </tr>\n",
              "    <tr>\n",
              "      <th>2021-05-10</th>\n",
              "      <td>0.563310</td>\n",
              "      <td>0.469937</td>\n",
              "      <td>1.036107</td>\n",
              "      <td>0.488630</td>\n",
              "      <td>4</td>\n",
              "    </tr>\n",
              "    <tr>\n",
              "      <th>2021-05-11</th>\n",
              "      <td>NaN</td>\n",
              "      <td>NaN</td>\n",
              "      <td>2.277442</td>\n",
              "      <td>0.684901</td>\n",
              "      <td>5</td>\n",
              "    </tr>\n",
              "    <tr>\n",
              "      <th>2021-05-12</th>\n",
              "      <td>0.397523</td>\n",
              "      <td>0.358805</td>\n",
              "      <td>1.446533</td>\n",
              "      <td>0.354344</td>\n",
              "      <td>6</td>\n",
              "    </tr>\n",
              "  </tbody>\n",
              "</table>\n",
              "</div>"
            ],
            "text/plain": [
              "                   A         B         C         D  F\n",
              "2021-05-07       NaN       NaN  0.344329  2.473931  1\n",
              "2021-05-08  1.042931       NaN       NaN  2.268072  2\n",
              "2021-05-09       NaN  1.963407  0.815771  0.522941  3\n",
              "2021-05-10  0.563310  0.469937  1.036107  0.488630  4\n",
              "2021-05-11       NaN       NaN  2.277442  0.684901  5\n",
              "2021-05-12  0.397523  0.358805  1.446533  0.354344  6"
            ]
          },
          "metadata": {
            "tags": []
          },
          "execution_count": 92
        }
      ]
    },
    {
      "cell_type": "code",
      "metadata": {
        "id": "iKVC5BFua44R"
      },
      "source": [
        "df[df>0]=-df"
      ],
      "execution_count": null,
      "outputs": []
    },
    {
      "cell_type": "code",
      "metadata": {
        "colab": {
          "base_uri": "https://localhost:8080/",
          "height": 235
        },
        "id": "LIx5UyVibG0A",
        "outputId": "c10e4438-1332-479c-e320-7aaf2d6856cb"
      },
      "source": [
        "df"
      ],
      "execution_count": null,
      "outputs": [
        {
          "output_type": "execute_result",
          "data": {
            "text/html": [
              "<div>\n",
              "<style scoped>\n",
              "    .dataframe tbody tr th:only-of-type {\n",
              "        vertical-align: middle;\n",
              "    }\n",
              "\n",
              "    .dataframe tbody tr th {\n",
              "        vertical-align: top;\n",
              "    }\n",
              "\n",
              "    .dataframe thead th {\n",
              "        text-align: right;\n",
              "    }\n",
              "</style>\n",
              "<table border=\"1\" class=\"dataframe\">\n",
              "  <thead>\n",
              "    <tr style=\"text-align: right;\">\n",
              "      <th></th>\n",
              "      <th>A</th>\n",
              "      <th>B</th>\n",
              "      <th>C</th>\n",
              "      <th>D</th>\n",
              "      <th>F</th>\n",
              "    </tr>\n",
              "  </thead>\n",
              "  <tbody>\n",
              "    <tr>\n",
              "      <th>2021-05-07</th>\n",
              "      <td>-0.923471</td>\n",
              "      <td>-1.128722</td>\n",
              "      <td>-0.344329</td>\n",
              "      <td>-2.473931</td>\n",
              "      <td>-1</td>\n",
              "    </tr>\n",
              "    <tr>\n",
              "      <th>2021-05-08</th>\n",
              "      <td>-1.042931</td>\n",
              "      <td>-0.516518</td>\n",
              "      <td>-1.168607</td>\n",
              "      <td>-2.268072</td>\n",
              "      <td>-2</td>\n",
              "    </tr>\n",
              "    <tr>\n",
              "      <th>2021-05-09</th>\n",
              "      <td>-0.041827</td>\n",
              "      <td>-1.963407</td>\n",
              "      <td>-0.815771</td>\n",
              "      <td>-0.522941</td>\n",
              "      <td>-3</td>\n",
              "    </tr>\n",
              "    <tr>\n",
              "      <th>2021-05-10</th>\n",
              "      <td>-0.563310</td>\n",
              "      <td>-0.469937</td>\n",
              "      <td>-1.036107</td>\n",
              "      <td>-0.488630</td>\n",
              "      <td>-4</td>\n",
              "    </tr>\n",
              "    <tr>\n",
              "      <th>2021-05-11</th>\n",
              "      <td>-0.158417</td>\n",
              "      <td>-0.724108</td>\n",
              "      <td>-2.277442</td>\n",
              "      <td>-0.684901</td>\n",
              "      <td>-5</td>\n",
              "    </tr>\n",
              "    <tr>\n",
              "      <th>2021-05-12</th>\n",
              "      <td>-0.397523</td>\n",
              "      <td>-0.358805</td>\n",
              "      <td>-1.446533</td>\n",
              "      <td>-0.354344</td>\n",
              "      <td>-6</td>\n",
              "    </tr>\n",
              "  </tbody>\n",
              "</table>\n",
              "</div>"
            ],
            "text/plain": [
              "                   A         B         C         D  F\n",
              "2021-05-07 -0.923471 -1.128722 -0.344329 -2.473931 -1\n",
              "2021-05-08 -1.042931 -0.516518 -1.168607 -2.268072 -2\n",
              "2021-05-09 -0.041827 -1.963407 -0.815771 -0.522941 -3\n",
              "2021-05-10 -0.563310 -0.469937 -1.036107 -0.488630 -4\n",
              "2021-05-11 -0.158417 -0.724108 -2.277442 -0.684901 -5\n",
              "2021-05-12 -0.397523 -0.358805 -1.446533 -0.354344 -6"
            ]
          },
          "metadata": {
            "tags": []
          },
          "execution_count": 94
        }
      ]
    },
    {
      "cell_type": "code",
      "metadata": {
        "id": "vYX5ZeBhbHMh"
      },
      "source": [
        ""
      ],
      "execution_count": null,
      "outputs": []
    }
  ]
}