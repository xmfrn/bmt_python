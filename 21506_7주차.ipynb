{
  "nbformat": 4,
  "nbformat_minor": 0,
  "metadata": {
    "colab": {
      "name": "21506_7주차.ipynb",
      "provenance": [],
      "authorship_tag": "ABX9TyNQeRvtAcTj6i+ABrgoxcQ2",
      "include_colab_link": true
    },
    "kernelspec": {
      "name": "python3",
      "display_name": "Python 3"
    },
    "language_info": {
      "name": "python"
    }
  },
  "cells": [
    {
      "cell_type": "markdown",
      "metadata": {
        "id": "view-in-github",
        "colab_type": "text"
      },
      "source": [
        "<a href=\"https://colab.research.google.com/github/xmfrn/bmt_python/blob/main/21506_7%EC%A3%BC%EC%B0%A8.ipynb\" target=\"_parent\"><img src=\"https://colab.research.google.com/assets/colab-badge.svg\" alt=\"Open In Colab\"/></a>"
      ]
    },
    {
      "cell_type": "code",
      "metadata": {
        "colab": {
          "base_uri": "https://localhost:8080/"
        },
        "id": "alQ-TMXQ8ck0",
        "outputId": "a752a55c-cfb2-446d-fe60-9b1901a2ac4d"
      },
      "source": [
        "x = int(input('값 입력:'))"
      ],
      "execution_count": 4,
      "outputs": [
        {
          "output_type": "stream",
          "text": [
            "값 입력:4\n"
          ],
          "name": "stdout"
        }
      ]
    },
    {
      "cell_type": "code",
      "metadata": {
        "id": "x3NhgGWAJ61S"
      },
      "source": [
        "if x % 2 ==0:\n",
        "   print(f'{x}= even')\n",
        "   print('babo')\n",
        "   print('hello') "
      ],
      "execution_count": 17,
      "outputs": []
    },
    {
      "cell_type": "code",
      "metadata": {
        "colab": {
          "base_uri": "https://localhost:8080/"
        },
        "id": "aywv4tckKcdQ",
        "outputId": "c2789cb9-c2ea-4bf7-9b3c-5366d650b473"
      },
      "source": [
        "\n",
        "      x = int(input('값 입력:'))  \n",
        "      if x %2 == 0:\n",
        "        print(f'{x}= 짝수')\n",
        "      else :\n",
        "        print(f'{x}=홀수')"
      ],
      "execution_count": 16,
      "outputs": [
        {
          "output_type": "stream",
          "text": [
            "값 입력:5\n",
            "5=홀수\n"
          ],
          "name": "stdout"
        }
      ]
    },
    {
      "cell_type": "code",
      "metadata": {
        "colab": {
          "base_uri": "https://localhost:8080/"
        },
        "id": "-FF8e3EgLekn",
        "outputId": "d402e698-c78e-4e2c-cc16-606711e01992"
      },
      "source": [
        "x = float(input('성적입력 : '))\n",
        "\n",
        "if x>=70:\n",
        "  print(f'{x}:PASS')\n",
        "elif x>= 60:\n",
        "  print(f'{x}:재시험')\n",
        "else:\n",
        "  print(f'{x}:FAIL')\n"
      ],
      "execution_count": 18,
      "outputs": [
        {
          "output_type": "stream",
          "text": [
            "성적입력 : 50\n",
            "50.0:FAIL\n"
          ],
          "name": "stdout"
        }
      ]
    },
    {
      "cell_type": "code",
      "metadata": {
        "colab": {
          "base_uri": "https://localhost:8080/"
        },
        "id": "zNloSR0lMfHg",
        "outputId": "def51c2f-dc0a-41c3-84de-e274a05ebb2b"
      },
      "source": [
        "str = '안녕하세요'\n",
        "'안' in str"
      ],
      "execution_count": 20,
      "outputs": [
        {
          "output_type": "execute_result",
          "data": {
            "text/plain": [
              "True"
            ]
          },
          "metadata": {
            "tags": []
          },
          "execution_count": 20
        }
      ]
    },
    {
      "cell_type": "code",
      "metadata": {
        "colab": {
          "base_uri": "https://localhost:8080/"
        },
        "id": "MGlWN5JzNuTR",
        "outputId": "cbbe5f43-7133-4bb7-aba3-b7223d3be470"
      },
      "source": [
        "1 in [1,2,3,]"
      ],
      "execution_count": 21,
      "outputs": [
        {
          "output_type": "execute_result",
          "data": {
            "text/plain": [
              "True"
            ]
          },
          "metadata": {
            "tags": []
          },
          "execution_count": 21
        }
      ]
    },
    {
      "cell_type": "code",
      "metadata": {
        "colab": {
          "base_uri": "https://localhost:8080/"
        },
        "id": "TojSDHxfN01P",
        "outputId": "0a66badb-b61e-456d-8396-27bd4af77a55"
      },
      "source": [
        "str = '안녕하세요'\n",
        "for i in str:\n",
        "  print(i)"
      ],
      "execution_count": 24,
      "outputs": [
        {
          "output_type": "stream",
          "text": [
            "안\n",
            "녕\n",
            "하\n",
            "세\n",
            "요\n"
          ],
          "name": "stdout"
        }
      ]
    },
    {
      "cell_type": "code",
      "metadata": {
        "colab": {
          "base_uri": "https://localhost:8080/"
        },
        "id": "3bNGdN0kOSbf",
        "outputId": "fc17982d-266c-4a93-de3a-eba8a3525b14"
      },
      "source": [
        "lst = [0,1,2,3,4]\n",
        "\n",
        "for item in lst :\n",
        "  print(item)"
      ],
      "execution_count": 25,
      "outputs": [
        {
          "output_type": "stream",
          "text": [
            "0\n",
            "1\n",
            "2\n",
            "3\n",
            "4\n"
          ],
          "name": "stdout"
        }
      ]
    },
    {
      "cell_type": "code",
      "metadata": {
        "colab": {
          "base_uri": "https://localhost:8080/"
        },
        "id": "rtrrpgPGOmkP",
        "outputId": "cae58efd-b66a-4317-a183-cfde0c71dd29"
      },
      "source": [
        "for item in range(10):\n",
        "  print(item, end='')\n",
        "  print(item*2, end='')\n",
        "  print()"
      ],
      "execution_count": 27,
      "outputs": [
        {
          "output_type": "stream",
          "text": [
            "00\n",
            "12\n",
            "24\n",
            "36\n",
            "48\n",
            "510\n",
            "612\n",
            "714\n",
            "816\n",
            "918\n"
          ],
          "name": "stdout"
        }
      ]
    },
    {
      "cell_type": "code",
      "metadata": {
        "colab": {
          "base_uri": "https://localhost:8080/"
        },
        "id": "yNQMyaoDO9Gf",
        "outputId": "3cebda36-1fa8-4c8b-ca79-62f21a3ef590"
      },
      "source": [
        "d= {'a':1 , 'b':2}\n",
        "\n",
        "for item in d:\n",
        "   print(item)"
      ],
      "execution_count": 33,
      "outputs": [
        {
          "output_type": "stream",
          "text": [
            "a\n",
            "b\n"
          ],
          "name": "stdout"
        }
      ]
    },
    {
      "cell_type": "code",
      "metadata": {
        "colab": {
          "base_uri": "https://localhost:8080/"
        },
        "id": "YXF8CxBKPZ6P",
        "outputId": "058e09d4-1027-4a83-e989-46e7a8f330ee"
      },
      "source": [
        "for item in d.values():\n",
        "  print(item)"
      ],
      "execution_count": 36,
      "outputs": [
        {
          "output_type": "stream",
          "text": [
            "1\n",
            "2\n"
          ],
          "name": "stdout"
        }
      ]
    },
    {
      "cell_type": "code",
      "metadata": {
        "colab": {
          "base_uri": "https://localhost:8080/"
        },
        "id": "PSXyev4jQAdV",
        "outputId": "813afb00-a661-49f9-9873-75e5bface819"
      },
      "source": [
        "for item in d.keys():\n",
        "  print(item)"
      ],
      "execution_count": 37,
      "outputs": [
        {
          "output_type": "stream",
          "text": [
            "a\n",
            "b\n"
          ],
          "name": "stdout"
        }
      ]
    },
    {
      "cell_type": "code",
      "metadata": {
        "colab": {
          "base_uri": "https://localhost:8080/"
        },
        "id": "k1LpBg3EQSfe",
        "outputId": "1b0e9ddb-e9fa-40ee-f12f-e98f35286606"
      },
      "source": [
        "for key, value in d.items():\n",
        "  print(key, value)"
      ],
      "execution_count": 40,
      "outputs": [
        {
          "output_type": "stream",
          "text": [
            "a 1\n",
            "b 2\n"
          ],
          "name": "stdout"
        }
      ]
    },
    {
      "cell_type": "code",
      "metadata": {
        "colab": {
          "base_uri": "https://localhost:8080/"
        },
        "id": "2Mtpui5OQed-",
        "outputId": "baeb3bcc-3108-4699-de1b-397b6a9f0404"
      },
      "source": [
        "xlist = range(10)\n"
      ],
      "execution_count": 42,
      "outputs": [
        {
          "output_type": "stream",
          "text": [
            "range(0, 10)\n"
          ],
          "name": "stdout"
        }
      ]
    },
    {
      "cell_type": "code",
      "metadata": {
        "colab": {
          "base_uri": "https://localhost:8080/"
        },
        "id": "r2yoc1J-Qgiu",
        "outputId": "f6b4a38f-0729-48ac-f1ea-5121fb9e469f"
      },
      "source": [
        "list(xlist)"
      ],
      "execution_count": 43,
      "outputs": [
        {
          "output_type": "execute_result",
          "data": {
            "text/plain": [
              "[0, 1, 2, 3, 4, 5, 6, 7, 8, 9]"
            ]
          },
          "metadata": {
            "tags": []
          },
          "execution_count": 43
        }
      ]
    },
    {
      "cell_type": "code",
      "metadata": {
        "colab": {
          "base_uri": "https://localhost:8080/"
        },
        "id": "mfRG4kUXRFJu",
        "outputId": "e20ed865-23a0-4c14-c104-b76deb8226a9"
      },
      "source": [
        "for item in xlist:\n",
        "  print(item, end=' ')"
      ],
      "execution_count": 45,
      "outputs": [
        {
          "output_type": "stream",
          "text": [
            "0 1 2 3 4 5 6 7 8 9 "
          ],
          "name": "stdout"
        }
      ]
    },
    {
      "cell_type": "code",
      "metadata": {
        "colab": {
          "base_uri": "https://localhost:8080/"
        },
        "id": "LE1T8k8lRUUe",
        "outputId": "d976434c-ffd3-4ba4-c724-58804b2c11f7"
      },
      "source": [
        "xlist = {'1','2'}\n",
        "\n",
        "xlist = [ int(item) for item in xlist]\n",
        "\n",
        "print(xlist)"
      ],
      "execution_count": 49,
      "outputs": [
        {
          "output_type": "stream",
          "text": [
            "[2, 1]\n"
          ],
          "name": "stdout"
        }
      ]
    },
    {
      "cell_type": "code",
      "metadata": {
        "colab": {
          "base_uri": "https://localhost:8080/"
        },
        "id": "8N-U0B3ERnZ-",
        "outputId": "3d145c53-d2f7-41bb-c966-140b30b7c18e"
      },
      "source": [
        "xlist"
      ],
      "execution_count": 50,
      "outputs": [
        {
          "output_type": "execute_result",
          "data": {
            "text/plain": [
              "[2, 1]"
            ]
          },
          "metadata": {
            "tags": []
          },
          "execution_count": 50
        }
      ]
    },
    {
      "cell_type": "code",
      "metadata": {
        "id": "KaJe2I71R7ne"
      },
      "source": [
        ""
      ],
      "execution_count": null,
      "outputs": []
    }
  ]
}